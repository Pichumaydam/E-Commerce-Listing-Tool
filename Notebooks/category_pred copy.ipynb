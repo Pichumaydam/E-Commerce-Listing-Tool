{
 "cells": [
  {
   "cell_type": "code",
   "execution_count": 1,
   "metadata": {},
   "outputs": [],
   "source": [
    "import pandas as pd \n",
    "import numpy as np\n",
    "import time\n",
    "import matplotlib.pyplot as plt\n",
    "import seaborn as sns\n",
    "from scipy.sparse import csr_matrix, hstack\n",
    "from sklearn.feature_extraction.text import CountVectorizer, TfidfVectorizer\n",
    "from sklearn.preprocessing import LabelBinarizer\n",
    "import nltk\n",
    "\n",
    "import warnings\n",
    "warnings.filterwarnings('ignore')\n",
    "\n",
    "import gc\n",
    "\n",
    "from sklearn.preprocessing import FunctionTransformer\n",
    "from sklearn.feature_extraction.text import TfidfVectorizer\n",
    "from sklearn.pipeline import Pipeline\n",
    "from sklearn.preprocessing import MinMaxScaler, OneHotEncoder\n",
    "from sklearn.compose import ColumnTransformer\n",
    "\n",
    "pd.set_option('display.max_rows', 500)\n",
    "pd.set_option('display.max_columns', 500)\n",
    "pd.set_option('display.width', 1000)\n",
    "pd.set_option('display.expand_frame_repr', False)"
   ]
  },
  {
   "cell_type": "code",
   "execution_count": 2,
   "metadata": {},
   "outputs": [],
   "source": [
    "df = pd.read_csv('/Users/may/Desktop/Applied/Walmart Bootcamp/Capstone Project/Data/data.csv')"
   ]
  },
  {
   "cell_type": "code",
   "execution_count": 3,
   "metadata": {},
   "outputs": [],
   "source": [
    "df = df.dropna(subset=['category_1'])"
   ]
  },
  {
   "cell_type": "code",
   "execution_count": 4,
   "metadata": {},
   "outputs": [
    {
     "data": {
      "text/html": [
       "<div>\n",
       "<style scoped>\n",
       "    .dataframe tbody tr th:only-of-type {\n",
       "        vertical-align: middle;\n",
       "    }\n",
       "\n",
       "    .dataframe tbody tr th {\n",
       "        vertical-align: top;\n",
       "    }\n",
       "\n",
       "    .dataframe thead th {\n",
       "        text-align: right;\n",
       "    }\n",
       "</style>\n",
       "<table border=\"1\" class=\"dataframe\">\n",
       "  <thead>\n",
       "    <tr style=\"text-align: right;\">\n",
       "      <th></th>\n",
       "      <th>product_name</th>\n",
       "      <th>manufacturer</th>\n",
       "      <th>description</th>\n",
       "      <th>category_1</th>\n",
       "    </tr>\n",
       "  </thead>\n",
       "  <tbody>\n",
       "    <tr>\n",
       "      <th>0</th>\n",
       "      <td>Hornby 2014 Catalogue</td>\n",
       "      <td>Hornby</td>\n",
       "      <td>Product Description Hornby 2014 Catalogue Box ...</td>\n",
       "      <td>Hobbies</td>\n",
       "    </tr>\n",
       "    <tr>\n",
       "      <th>1</th>\n",
       "      <td>FunkyBuys® Large Christmas Holiday Express Fes...</td>\n",
       "      <td>FunkyBuys</td>\n",
       "      <td>Size Name:Large FunkyBuys® Large Christmas Hol...</td>\n",
       "      <td>Hobbies</td>\n",
       "    </tr>\n",
       "    <tr>\n",
       "      <th>2</th>\n",
       "      <td>CLASSIC TOY TRAIN SET TRACK CARRIAGES LIGHT EN...</td>\n",
       "      <td>ccf</td>\n",
       "      <td>BIG CLASSIC TOY TRAIN SET TRACK CARRIAGE LIGHT...</td>\n",
       "      <td>Hobbies</td>\n",
       "    </tr>\n",
       "    <tr>\n",
       "      <th>3</th>\n",
       "      <td>HORNBY Coach R4410A BR Hawksworth Corridor 3rd</td>\n",
       "      <td>Hornby</td>\n",
       "      <td>Hornby 00 Gauge BR Hawksworth 3rd Class W 2107...</td>\n",
       "      <td>Hobbies</td>\n",
       "    </tr>\n",
       "    <tr>\n",
       "      <th>4</th>\n",
       "      <td>Hornby 00 Gauge 0-4-0 Gildenlow Salt Co. Steam...</td>\n",
       "      <td>Hornby</td>\n",
       "      <td>Product Description Hornby RailRoad 0-4-0 Gild...</td>\n",
       "      <td>Hobbies</td>\n",
       "    </tr>\n",
       "  </tbody>\n",
       "</table>\n",
       "</div>"
      ],
      "text/plain": [
       "                                        product_name manufacturer                                        description category_1\n",
       "0                              Hornby 2014 Catalogue       Hornby  Product Description Hornby 2014 Catalogue Box ...    Hobbies\n",
       "1  FunkyBuys® Large Christmas Holiday Express Fes...    FunkyBuys  Size Name:Large FunkyBuys® Large Christmas Hol...    Hobbies\n",
       "2  CLASSIC TOY TRAIN SET TRACK CARRIAGES LIGHT EN...          ccf  BIG CLASSIC TOY TRAIN SET TRACK CARRIAGE LIGHT...    Hobbies\n",
       "3     HORNBY Coach R4410A BR Hawksworth Corridor 3rd       Hornby  Hornby 00 Gauge BR Hawksworth 3rd Class W 2107...    Hobbies\n",
       "4  Hornby 00 Gauge 0-4-0 Gildenlow Salt Co. Steam...       Hornby  Product Description Hornby RailRoad 0-4-0 Gild...    Hobbies"
      ]
     },
     "execution_count": 4,
     "metadata": {},
     "output_type": "execute_result"
    }
   ],
   "source": [
    "df = df[['product_name', 'manufacturer', 'description','category_1']]\n",
    "df.head()"
   ]
  },
  {
   "cell_type": "code",
   "execution_count": 5,
   "metadata": {},
   "outputs": [],
   "source": [
    "# Impute missing values\n",
    "def fill_missing_value(data):\n",
    "    data['product_name'].fillna(value = 'Unknown', inplace=True)\n",
    "    data['manufacturer'].fillna(value = 'Unknown', inplace=True)\n",
    "    data['description'].fillna(value = 'No description yet', inplace=True)\n",
    "    return data"
   ]
  },
  {
   "cell_type": "code",
   "execution_count": 6,
   "metadata": {},
   "outputs": [],
   "source": [
    "df = fill_missing_value(df)"
   ]
  },
  {
   "cell_type": "code",
   "execution_count": 7,
   "metadata": {},
   "outputs": [
    {
     "data": {
      "text/plain": [
       "product_name    0\n",
       "manufacturer    0\n",
       "description     0\n",
       "category_1      0\n",
       "dtype: int64"
      ]
     },
     "execution_count": 7,
     "metadata": {},
     "output_type": "execute_result"
    }
   ],
   "source": [
    "df.isnull().sum()"
   ]
  },
  {
   "attachments": {},
   "cell_type": "markdown",
   "metadata": {},
   "source": [
    "# Data preprocessing"
   ]
  },
  {
   "cell_type": "code",
   "execution_count": 8,
   "metadata": {},
   "outputs": [],
   "source": [
    "from string import punctuation\n",
    "import string\n",
    "from pandas.core.groupby.generic import DataFrame\n",
    "\n",
    "# Stem the Words\n",
    "from nltk.stem.porter import PorterStemmer\n",
    "porter = PorterStemmer()\n",
    "\n",
    "# Create a list of punctuation replacements\n",
    "punctuation_symbols = []\n",
    "for symbol in punctuation:\n",
    "    punctuation_symbols.append((symbol, ''))\n",
    "\n",
    "# nltk.download('stopwords')\n",
    "\n",
    "# List of stop words\n",
    "from nltk.corpus import stopwords\n",
    "stop = stopwords.words('english')\n",
    "\n",
    "# Function to remove punctuations\n",
    "def remove_punctuation(sentence: str) -> str:\n",
    "    return sentence.translate(str.maketrans('', '', string.punctuation))\n",
    "\n",
    "# Function to remove stop words\n",
    "def remove_stop_words(x):\n",
    "    x = ' '.join([i for i in x.lower().split(' ') if i not in stop])\n",
    "    return x\n",
    "\n",
    "# Function to lowercase the words\n",
    "def to_lower(x):\n",
    "    return x.lower()"
   ]
  },
  {
   "attachments": {},
   "cell_type": "markdown",
   "metadata": {},
   "source": [
    "# Pipeline"
   ]
  },
  {
   "cell_type": "code",
   "execution_count": 9,
   "metadata": {},
   "outputs": [],
   "source": [
    "from sklearn.preprocessing import FunctionTransformer\n",
    "\n",
    "def text_transform(df):\n",
    "    df['description'] = df['description'].apply(porter.stem)\n",
    "    df['description'] = df['description'].apply(remove_punctuation)\n",
    "    df['description'] = df['description'].apply(remove_stop_words)\n",
    "    df['description'] = df['description'].apply(to_lower)\n",
    "    return df"
   ]
  },
  {
   "cell_type": "code",
   "execution_count": 10,
   "metadata": {},
   "outputs": [],
   "source": [
    "TextProcessor_1 = Pipeline(steps=[\n",
    "    ('clean', FunctionTransformer(text_transform)),\n",
    "    (\"squeez\", FunctionTransformer(lambda x: x.squeeze())),\n",
    "    (\"tfidf\", TfidfVectorizer(max_features=700, ngram_range=(1, 2), stop_words='english')),\n",
    "    (\"toarray\", FunctionTransformer(lambda x: x.toarray())),\n",
    "])\n",
    "\n",
    "TextProcessor_2 = Pipeline(steps=[\n",
    "    (\"squeez\", FunctionTransformer(lambda x: x.squeeze())),\n",
    "    (\"tfidf\", TfidfVectorizer(max_features=700, ngram_range=(1, 2), stop_words='english')),\n",
    "    (\"toarray\", FunctionTransformer(lambda x: x.toarray())),\n",
    "])\n",
    "\n",
    "cat_transformer = Pipeline(steps=[\n",
    "    ('one-hot', OneHotEncoder())\n",
    "])\n",
    "preprocessor = ColumnTransformer(transformers=[\n",
    "    ('text_1', TextProcessor_1, ['description']),\n",
    "    ('text_2', TextProcessor_2, ['product_name']),\n",
    "    ('one-hot', cat_transformer, ['manufacturer'])\n",
    "])\n"
   ]
  },
  {
   "cell_type": "code",
   "execution_count": 11,
   "metadata": {},
   "outputs": [],
   "source": [
    "X = df[['product_name', 'manufacturer', 'description']]\n",
    "y = df[ 'category_1']"
   ]
  },
  {
   "cell_type": "code",
   "execution_count": 12,
   "metadata": {},
   "outputs": [],
   "source": [
    "X = preprocessor.fit_transform(X)"
   ]
  },
  {
   "cell_type": "code",
   "execution_count": 13,
   "metadata": {},
   "outputs": [],
   "source": [
    "import dill as pickle\n",
    "with open('preprocessor_cat.pkl', 'wb') as file:\n",
    "    pickle.dump(preprocessor, file)"
   ]
  },
  {
   "attachments": {},
   "cell_type": "markdown",
   "metadata": {},
   "source": [
    "# Models"
   ]
  },
  {
   "cell_type": "code",
   "execution_count": 14,
   "metadata": {},
   "outputs": [
    {
     "name": "stdout",
     "output_type": "stream",
     "text": [
      "Train df shape: (6982, 3844)\n",
      "Test df shape: (2328, 3844)\n"
     ]
    }
   ],
   "source": [
    "from sklearn.model_selection import train_test_split\n",
    "X_train, X_test, y_train, y_test = train_test_split(X, y, test_size=0.25, random_state=42)\n",
    "print(\"Train df shape:\", X_train.shape)\n",
    "print(\"Test df shape:\", X_test.shape)"
   ]
  },
  {
   "attachments": {},
   "cell_type": "markdown",
   "metadata": {},
   "source": [
    "## Logistic Regression"
   ]
  },
  {
   "cell_type": "code",
   "execution_count": 15,
   "metadata": {},
   "outputs": [],
   "source": [
    "from sklearn.linear_model import LogisticRegression\n",
    "model_log = LogisticRegression()\n",
    "\n",
    "model_log.fit(X_train, y_train)\n",
    "\n",
    "ytest = np.array(y_test)\n",
    "pred = model_log.predict(X_test)"
   ]
  },
  {
   "cell_type": "code",
   "execution_count": 17,
   "metadata": {},
   "outputs": [
    {
     "name": "stdout",
     "output_type": "stream",
     "text": [
      "accuracy 0.854381443298969\n",
      "                                  precision    recall  f1-score   support\n",
      "\n",
      "                   Arts & Crafts       0.80      0.91      0.85       188\n",
      "             Baby & Toddler Toys       0.85      0.33      0.48        33\n",
      "             Characters & Brands       0.90      0.81      0.85       263\n",
      "                Cooking & Dining       0.00      0.00      0.00         2\n",
      "         Die-Cast & Toy Vehicles       0.91      0.91      0.91       286\n",
      "             Dolls & Accessories       0.93      0.86      0.90        94\n",
      "                     Fancy Dress       0.92      0.87      0.90       149\n",
      "              Figures & Playsets       0.79      0.87      0.83       303\n",
      "                           Games       0.86      0.89      0.88       251\n",
      "                       Gardening       0.00      0.00      0.00         1\n",
      "                         Hobbies       0.77      0.87      0.82       340\n",
      "                Home Accessories       0.00      0.00      0.00         1\n",
      "                 Indoor Lighting       0.00      0.00      0.00         1\n",
      "           Jams, Honey & Spreads       0.00      0.00      0.00         1\n",
      "               Jigsaws & Puzzles       0.88      0.78      0.83        59\n",
      "       Lab & Scientific Products       0.00      0.00      0.00         1\n",
      "           Medication & Remedies       0.00      0.00      0.00         1\n",
      "         Musical Toy Instruments       0.00      0.00      0.00         6\n",
      "           Novelty & Special Use       0.33      0.50      0.40         2\n",
      "                 Office Supplies       0.00      0.00      0.00         1\n",
      "                  Party Supplies       0.92      0.95      0.94       169\n",
      "Pens, Pencils & Writing Supplies       0.00      0.00      0.00         1\n",
      "                    Pretend Play       0.67      0.15      0.25        13\n",
      "       Puppets & Puppet Theatres       0.97      0.94      0.95        64\n",
      "                Sex & Sensuality       0.00      0.00      0.00         1\n",
      "           Sports Toys & Outdoor       0.83      0.73      0.78        95\n",
      "                           Women       0.00      0.00      0.00         1\n",
      "                    Worlds Apart       0.00      0.00      0.00         1\n",
      "\n",
      "                        accuracy                           0.85      2328\n",
      "                       macro avg       0.44      0.41      0.41      2328\n",
      "                    weighted avg       0.85      0.85      0.85      2328\n",
      "\n"
     ]
    }
   ],
   "source": [
    "from sklearn.metrics import accuracy_score, classification_report\n",
    "print('accuracy %s' % accuracy_score(pred, y_test))\n",
    "print(classification_report(ytest, pred))"
   ]
  },
  {
   "attachments": {},
   "cell_type": "markdown",
   "metadata": {},
   "source": [
    "## Random Forest"
   ]
  },
  {
   "cell_type": "code",
   "execution_count": 36,
   "metadata": {},
   "outputs": [],
   "source": [
    "from sklearn.ensemble import RandomForestClassifier\n",
    "rf = RandomForestClassifier(bootstrap=True,\n",
    "                    max_depth=70,\n",
    "                    max_features='auto',\n",
    "                    min_samples_leaf= 4,\n",
    "                    min_samples_split= 10,\n",
    "                    n_estimators= 400)\n",
    "rf.fit(X_train, y_train)\n",
    "\n",
    "ytest = np.array(y_test)\n",
    "preds = rf.predict(X_test)"
   ]
  },
  {
   "cell_type": "code",
   "execution_count": 38,
   "metadata": {},
   "outputs": [
    {
     "name": "stdout",
     "output_type": "stream",
     "text": [
      "accuracy 0.6756872852233677\n",
      "                                  precision    recall  f1-score   support\n",
      "\n",
      "                   Arts & Crafts       0.84      0.74      0.79       188\n",
      "             Baby & Toddler Toys       0.00      0.00      0.00        33\n",
      "             Characters & Brands       0.92      0.30      0.45       263\n",
      "                Cooking & Dining       0.00      0.00      0.00         2\n",
      "         Die-Cast & Toy Vehicles       0.79      0.84      0.81       286\n",
      "             Dolls & Accessories       0.90      0.56      0.69        94\n",
      "                     Fancy Dress       0.90      0.79      0.84       149\n",
      "              Figures & Playsets       0.65      0.67      0.66       303\n",
      "                           Games       0.79      0.80      0.79       251\n",
      "                       Gardening       0.00      0.00      0.00         1\n",
      "                         Hobbies       0.40      0.81      0.54       340\n",
      "                Home Accessories       0.00      0.00      0.00         1\n",
      "                 Indoor Lighting       0.00      0.00      0.00         1\n",
      "           Jams, Honey & Spreads       0.00      0.00      0.00         1\n",
      "               Jigsaws & Puzzles       0.62      0.64      0.63        59\n",
      "       Lab & Scientific Products       0.00      0.00      0.00         1\n",
      "           Medication & Remedies       0.00      0.00      0.00         1\n",
      "         Musical Toy Instruments       0.00      0.00      0.00         6\n",
      "           Novelty & Special Use       0.00      0.00      0.00         2\n",
      "                 Office Supplies       0.00      0.00      0.00         1\n",
      "                  Party Supplies       0.81      0.73      0.77       169\n",
      "Pens, Pencils & Writing Supplies       0.00      0.00      0.00         1\n",
      "                    Pretend Play       0.00      0.00      0.00        13\n",
      "       Puppets & Puppet Theatres       0.98      0.91      0.94        64\n",
      "                Sex & Sensuality       0.00      0.00      0.00         1\n",
      "           Sports Toys & Outdoor       0.86      0.46      0.60        95\n",
      "                           Women       0.00      0.00      0.00         1\n",
      "                    Worlds Apart       0.00      0.00      0.00         1\n",
      "\n",
      "                        accuracy                           0.68      2328\n",
      "                       macro avg       0.34      0.30      0.30      2328\n",
      "                    weighted avg       0.73      0.68      0.67      2328\n",
      "\n"
     ]
    }
   ],
   "source": [
    "from sklearn.metrics import accuracy_score, classification_report\n",
    "print('accuracy %s' % accuracy_score(preds, y_test))\n",
    "print(classification_report(ytest, preds))"
   ]
  },
  {
   "cell_type": "code",
   "execution_count": 41,
   "metadata": {},
   "outputs": [],
   "source": [
    "import dill as pickle\n",
    "with open('model_log.pkl', 'wb') as file:\n",
    "    pickle.dump(model_log, file)"
   ]
  },
  {
   "attachments": {},
   "cell_type": "markdown",
   "metadata": {},
   "source": [
    "# LSTM"
   ]
  },
  {
   "cell_type": "code",
   "execution_count": 42,
   "metadata": {},
   "outputs": [
    {
     "name": "stderr",
     "output_type": "stream",
     "text": [
      "2023-01-12 15:39:55.812739: I tensorflow/core/platform/cpu_feature_guard.cc:193] This TensorFlow binary is optimized with oneAPI Deep Neural Network Library (oneDNN) to use the following CPU instructions in performance-critical operations:  AVX2 FMA\n",
      "To enable them in other operations, rebuild TensorFlow with the appropriate compiler flags.\n"
     ]
    }
   ],
   "source": [
    "import numpy as np \n",
    "import pandas as pd\n",
    "import matplotlib.pyplot as plt\n",
    "import seaborn as sns\n",
    "from keras.preprocessing.text import Tokenizer\n",
    "from keras_preprocessing.sequence import pad_sequences\n",
    "from keras.models import Sequential\n",
    "from keras.layers import Dense, Embedding, LSTM, SpatialDropout1D\n",
    "from sklearn.model_selection import train_test_split\n",
    "from keras.utils.np_utils import to_categorical\n",
    "from keras.callbacks import EarlyStopping\n",
    "from keras.layers import Dropout\n",
    "import re\n",
    "from nltk.corpus import stopwords\n",
    "from nltk import word_tokenize\n",
    "STOPWORDS = set(stopwords.words('english'))\n",
    "from bs4 import BeautifulSoup"
   ]
  },
  {
   "cell_type": "code",
   "execution_count": 43,
   "metadata": {},
   "outputs": [],
   "source": [
    "df = df[['description', 'category_1']]"
   ]
  },
  {
   "cell_type": "code",
   "execution_count": 44,
   "metadata": {},
   "outputs": [],
   "source": [
    "df.dropna(inplace=True)"
   ]
  },
  {
   "cell_type": "code",
   "execution_count": 45,
   "metadata": {},
   "outputs": [],
   "source": [
    "df = df.reset_index(drop=True)\n",
    "REPLACE_BY_SPACE_RE = re.compile('[/(){}\\[\\]\\|@,;]')\n",
    "BAD_SYMBOLS_RE = re.compile('[^0-9a-z #+_]')\n",
    "STOPWORDS = set(stopwords.words('english'))\n",
    "\n",
    "def clean_text(text):\n",
    "    \"\"\"\n",
    "        text: a string\n",
    "        \n",
    "        return: modified initial string\n",
    "    \"\"\"\n",
    "    text = text.lower() # lowercase text\n",
    "    text = REPLACE_BY_SPACE_RE.sub(' ', text) # replace REPLACE_BY_SPACE_RE symbols by space in text. substitute the matched string in REPLACE_BY_SPACE_RE with space.\n",
    "    text = BAD_SYMBOLS_RE.sub('', text) # remove symbols which are in BAD_SYMBOLS_RE from text. substitute the matched string in BAD_SYMBOLS_RE with nothing. \n",
    "    text = text.replace('x', '')\n",
    "#    text = re.sub(r'\\W+', '', text)\n",
    "    text = ' '.join(word for word in text.split() if word not in STOPWORDS) # remove stopwors from text\n",
    "    return text\n",
    "df['description'] = df['description'].apply(clean_text)"
   ]
  },
  {
   "cell_type": "code",
   "execution_count": 46,
   "metadata": {},
   "outputs": [
    {
     "name": "stdout",
     "output_type": "stream",
     "text": [
      "Found 35522 unique tokens.\n"
     ]
    }
   ],
   "source": [
    "# The maximum number of words to be used. (most frequent)\n",
    "MAX_NB_WORDS = 50000\n",
    "# Max number of words in each complaint.\n",
    "MAX_SEQUENCE_LENGTH = 250\n",
    "# This is fixed.\n",
    "EMBEDDING_DIM = 100\n",
    "\n",
    "tokenizer = Tokenizer(num_words=MAX_NB_WORDS, filters='!\"#$%&()*+,-./:;<=>?@[\\]^_`{|}~', lower=True)\n",
    "tokenizer.fit_on_texts(df['description'].values)\n",
    "word_index = tokenizer.word_index\n",
    "print('Found %s unique tokens.' % len(word_index))"
   ]
  },
  {
   "cell_type": "code",
   "execution_count": 47,
   "metadata": {},
   "outputs": [
    {
     "name": "stdout",
     "output_type": "stream",
     "text": [
      "Shape of data tensor: (9310, 250)\n"
     ]
    }
   ],
   "source": [
    "X = tokenizer.texts_to_sequences(df['description'].values)\n",
    "X = pad_sequences(X, maxlen=MAX_SEQUENCE_LENGTH)\n",
    "print('Shape of data tensor:', X.shape)"
   ]
  },
  {
   "cell_type": "code",
   "execution_count": 48,
   "metadata": {},
   "outputs": [
    {
     "name": "stdout",
     "output_type": "stream",
     "text": [
      "Shape of label tensor: (9310, 43)\n"
     ]
    }
   ],
   "source": [
    "y = pd.get_dummies(df['category_1']).values\n",
    "print('Shape of label tensor:', y.shape)"
   ]
  },
  {
   "cell_type": "code",
   "execution_count": 49,
   "metadata": {},
   "outputs": [
    {
     "name": "stdout",
     "output_type": "stream",
     "text": [
      "(6982, 250) (6982, 43)\n",
      "(2328, 250) (2328, 43)\n"
     ]
    }
   ],
   "source": [
    "X_train, X_test, y_train, y_test = train_test_split(X,y, test_size = 0.25, random_state = 42)\n",
    "print(X_train.shape,y_train.shape)\n",
    "print(X_test.shape,y_test.shape)"
   ]
  },
  {
   "cell_type": "code",
   "execution_count": 54,
   "metadata": {},
   "outputs": [
    {
     "name": "stdout",
     "output_type": "stream",
     "text": [
      "Model: \"sequential_4\"\n",
      "_________________________________________________________________\n",
      " Layer (type)                Output Shape              Param #   \n",
      "=================================================================\n",
      " embedding_4 (Embedding)     (None, 250, 100)          5000000   \n",
      "                                                                 \n",
      " spatial_dropout1d_4 (Spatia  (None, 250, 100)         0         \n",
      " lDropout1D)                                                     \n",
      "                                                                 \n",
      " lstm_7 (LSTM)               (None, 128)               117248    \n",
      "                                                                 \n",
      " dense_1 (Dense)             (None, 32)                4128      \n",
      "                                                                 \n",
      " dense_2 (Dense)             (None, 43)                1419      \n",
      "                                                                 \n",
      "=================================================================\n",
      "Total params: 5,122,795\n",
      "Trainable params: 5,122,795\n",
      "Non-trainable params: 0\n",
      "_________________________________________________________________\n",
      "None\n"
     ]
    }
   ],
   "source": [
    "model = Sequential()\n",
    "model.add(Embedding(MAX_NB_WORDS, EMBEDDING_DIM, input_length=X.shape[1]))\n",
    "model.add(SpatialDropout1D(0.2))\n",
    "model.add(LSTM(128, dropout=0.2, recurrent_dropout=0.2))\n",
    "model.add(Dense(32,activation='relu'))\n",
    "model.add(Dense(43, activation='softmax'))\n",
    "model.compile(loss='categorical_crossentropy', optimizer='adam', metrics=['accuracy'])\n",
    "print(model.summary())"
   ]
  },
  {
   "cell_type": "code",
   "execution_count": 55,
   "metadata": {},
   "outputs": [
    {
     "name": "stdout",
     "output_type": "stream",
     "text": [
      "Epoch 1/5\n",
      "99/99 [==============================] - 313s 3s/step - loss: 2.7712 - accuracy: 0.1326 - val_loss: 2.4837 - val_accuracy: 0.1416\n",
      "Epoch 2/5\n",
      "99/99 [==============================] - 202s 2s/step - loss: 2.1786 - accuracy: 0.2765 - val_loss: 1.9115 - val_accuracy: 0.3634\n",
      "Epoch 3/5\n",
      "99/99 [==============================] - 197s 2s/step - loss: 1.4331 - accuracy: 0.5466 - val_loss: 1.5516 - val_accuracy: 0.5308\n",
      "Epoch 4/5\n",
      "99/99 [==============================] - 186s 2s/step - loss: 1.0145 - accuracy: 0.7027 - val_loss: 1.4974 - val_accuracy: 0.5780\n",
      "Epoch 5/5\n",
      "99/99 [==============================] - 140s 1s/step - loss: 0.7545 - accuracy: 0.7956 - val_loss: 1.6458 - val_accuracy: 0.5780\n"
     ]
    }
   ],
   "source": [
    "epochs = 5\n",
    "batch_size = 64\n",
    "\n",
    "history = model.fit(X_train, y_train, epochs=epochs, batch_size=batch_size,validation_split=0.1,callbacks=[EarlyStopping(monitor='val_loss', patience=3, min_delta=0.0001)])"
   ]
  },
  {
   "cell_type": "code",
   "execution_count": 56,
   "metadata": {},
   "outputs": [
    {
     "name": "stdout",
     "output_type": "stream",
     "text": [
      "73/73 [==============================] - 8s 103ms/step - loss: 1.5106 - accuracy: 0.6022\n",
      "Test set\n",
      "  Loss: 1.511\n",
      "  Accuracy: 0.602\n"
     ]
    }
   ],
   "source": [
    "accr = model.evaluate(X_test,y_test)\n",
    "print('Test set\\n  Loss: {:0.3f}\\n  Accuracy: {:0.3f}'.format(accr[0],accr[1]))"
   ]
  },
  {
   "attachments": {},
   "cell_type": "markdown",
   "metadata": {},
   "source": [
    "# feature importance"
   ]
  },
  {
   "cell_type": "code",
   "execution_count": 66,
   "metadata": {},
   "outputs": [],
   "source": [
    "from string import punctuation\n",
    "\n",
    "# Create a list of punctuation replacements\n",
    "punctuation_symbols = []\n",
    "for symbol in punctuation:\n",
    "    punctuation_symbols.append((symbol, ''))\n",
    "\n",
    "# List of stop words\n",
    "from nltk.corpus import stopwords\n",
    "stop = stopwords.words('english')\n",
    "\n",
    "import string\n",
    "\n",
    "# Function to remove punctuations\n",
    "def remove_punctuation(sentence: str) -> str:\n",
    "    return sentence.translate(str.maketrans('', '', string.punctuation))\n",
    "\n",
    "# Function to remove stop words\n",
    "def remove_stop_words(x):\n",
    "    x = ' '.join([i for i in x.lower().split(' ') if i not in stop])\n",
    "    return x\n",
    "\n",
    "# Function to lowercase the words\n",
    "def to_lower(x):\n",
    "    return x.lower()"
   ]
  },
  {
   "cell_type": "code",
   "execution_count": 67,
   "metadata": {},
   "outputs": [],
   "source": [
    "from pandas.core.groupby.generic import DataFrame\n",
    "# Stem the Words\n",
    "from nltk.stem.porter import PorterStemmer\n",
    "porter = PorterStemmer()\n",
    "df['description'] = df['description'].apply(porter.stem)\n",
    "\n",
    "df['description'] = df['description'].apply(remove_punctuation)\n",
    "df['description'] = df['description'].apply(remove_stop_words)\n",
    "df['description'] = df['description'].apply(to_lower)\n",
    "\n",
    "df['product_name'] = df['product_name'].apply(remove_punctuation)\n",
    "df['product_name'] = df['product_name'].apply(remove_stop_words)\n",
    "df['product_name'] = df['product_name'].apply(to_lower)"
   ]
  },
  {
   "cell_type": "code",
   "execution_count": 12,
   "metadata": {},
   "outputs": [
    {
     "name": "stdout",
     "output_type": "stream",
     "text": [
      "Item Description Shape: (9310, 55000)\n"
     ]
    }
   ],
   "source": [
    "# Perform a TFIDF Transformation of the item description with the top 55000 features and has an n-gram range of 1-2\n",
    "tv = TfidfVectorizer(max_features=55000, ngram_range=(1, 2), stop_words='english')\n",
    "X_description = tv.fit_transform(df['description'])\n",
    "print(\"Item Description Shape: \" + str(X_description.shape))"
   ]
  },
  {
   "cell_type": "code",
   "execution_count": 68,
   "metadata": {},
   "outputs": [
    {
     "name": "stdout",
     "output_type": "stream",
     "text": [
      "Item product_name Shape: (9310, 700)\n"
     ]
    }
   ],
   "source": [
    "# Perform a TFIDF Transformation of the item product name with the top 55000 features and has an n-gram range of 1-2\n",
    "tv2 = TfidfVectorizer(max_features=700, ngram_range=(1, 2), stop_words='english')\n",
    "X_product_name = tv2.fit_transform(df['product_name'])\n",
    "print(\"Item product_name Shape: \" + str(X_product_name.shape))"
   ]
  },
  {
   "cell_type": "code",
   "execution_count": 14,
   "metadata": {},
   "outputs": [
    {
     "name": "stdout",
     "output_type": "stream",
     "text": [
      "manufacturer Shape: (9310, 2444)\n"
     ]
    }
   ],
   "source": [
    "X_dummies = (pd.get_dummies(df[['manufacturer']], sparse=True))\n",
    "X_manufacturer = X_dummies.values\n",
    "print(\"manufacturer Shape: \" + str(X_manufacturer.shape))"
   ]
  },
  {
   "cell_type": "code",
   "execution_count": 69,
   "metadata": {},
   "outputs": [
    {
     "name": "stdout",
     "output_type": "stream",
     "text": [
      "(9310, 58144)\n"
     ]
    }
   ],
   "source": [
    "# Combine everything together using Sparse matrix\n",
    "X = hstack((X_product_name, X_manufacturer, X_description))\n",
    "\n",
    "print(X.shape)"
   ]
  },
  {
   "cell_type": "code",
   "execution_count": 70,
   "metadata": {},
   "outputs": [],
   "source": [
    "feature1 = tv2.get_feature_names()\n",
    "feature2 = list(X_dummies.columns)\n",
    "feature3 = tv.get_feature_names()\n",
    "feature = feature1+feature2+feature3"
   ]
  },
  {
   "cell_type": "code",
   "execution_count": 71,
   "metadata": {},
   "outputs": [],
   "source": [
    "y = df['category_1']"
   ]
  },
  {
   "cell_type": "code",
   "execution_count": 77,
   "metadata": {},
   "outputs": [],
   "source": [
    "from sklearn.model_selection import train_test_split\n",
    "X_train, X_test, y_train, y_test = train_test_split(X, y, test_size=0.25, random_state=42)"
   ]
  },
  {
   "cell_type": "code",
   "execution_count": 78,
   "metadata": {},
   "outputs": [
    {
     "name": "stdout",
     "output_type": "stream",
     "text": [
      "Train df shape: (6982, 58144)\n",
      "Test df shape: (2328, 58144)\n"
     ]
    }
   ],
   "source": [
    "print(\"Train df shape:\", X_train.shape)\n",
    "print(\"Test df shape:\", X_test.shape)"
   ]
  },
  {
   "cell_type": "code",
   "execution_count": 79,
   "metadata": {},
   "outputs": [],
   "source": [
    "from sklearn.linear_model import LogisticRegression\n",
    "model_log = LogisticRegression()\n",
    "\n",
    "model_log.fit(X_train, y_train)\n",
    "\n",
    "ytest = np.array(y_test)\n",
    "pred = model_log.predict(X_test)"
   ]
  },
  {
   "cell_type": "code",
   "execution_count": 80,
   "metadata": {},
   "outputs": [
    {
     "name": "stdout",
     "output_type": "stream",
     "text": [
      "accuracy 0.8612542955326461\n",
      "                                  precision    recall  f1-score   support\n",
      "\n",
      "                   Arts & Crafts       0.81      0.91      0.86       188\n",
      "             Baby & Toddler Toys       0.85      0.33      0.48        33\n",
      "             Characters & Brands       0.90      0.83      0.87       263\n",
      "                Cooking & Dining       0.00      0.00      0.00         2\n",
      "         Die-Cast & Toy Vehicles       0.91      0.92      0.92       286\n",
      "             Dolls & Accessories       0.92      0.88      0.90        94\n",
      "                     Fancy Dress       0.94      0.87      0.90       149\n",
      "              Figures & Playsets       0.81      0.89      0.85       303\n",
      "                           Games       0.85      0.88      0.86       251\n",
      "                       Gardening       0.00      0.00      0.00         1\n",
      "                         Hobbies       0.79      0.88      0.83       340\n",
      "                Home Accessories       0.00      0.00      0.00         1\n",
      "                 Indoor Lighting       0.00      0.00      0.00         1\n",
      "           Jams, Honey & Spreads       0.00      0.00      0.00         1\n",
      "               Jigsaws & Puzzles       0.91      0.81      0.86        59\n",
      "       Lab & Scientific Products       0.00      0.00      0.00         1\n",
      "           Medication & Remedies       0.00      0.00      0.00         1\n",
      "         Musical Toy Instruments       0.00      0.00      0.00         6\n",
      "           Novelty & Special Use       0.33      0.50      0.40         2\n",
      "                 Office Supplies       0.00      0.00      0.00         1\n",
      "                  Party Supplies       0.92      0.95      0.94       169\n",
      "Pens, Pencils & Writing Supplies       0.00      0.00      0.00         1\n",
      "                    Pretend Play       0.50      0.08      0.13        13\n",
      "       Puppets & Puppet Theatres       0.97      0.94      0.95        64\n",
      "                Sex & Sensuality       0.00      0.00      0.00         1\n",
      "           Sports Toys & Outdoor       0.87      0.72      0.79        95\n",
      "                           Women       0.00      0.00      0.00         1\n",
      "                    Worlds Apart       0.00      0.00      0.00         1\n",
      "\n",
      "                        accuracy                           0.86      2328\n",
      "                       macro avg       0.44      0.41      0.41      2328\n",
      "                    weighted avg       0.86      0.86      0.85      2328\n",
      "\n"
     ]
    }
   ],
   "source": [
    "from sklearn.metrics import accuracy_score, classification_report\n",
    "print('accuracy %s' % accuracy_score(pred, y_test))\n",
    "print(classification_report(ytest, pred))"
   ]
  },
  {
   "cell_type": "code",
   "execution_count": 82,
   "metadata": {},
   "outputs": [],
   "source": [
    "explainer = shap.LinearExplainer(model_log, X_train, feature_dependence=\"independent\")"
   ]
  },
  {
   "cell_type": "code",
   "execution_count": 161,
   "metadata": {},
   "outputs": [
    {
     "name": "stderr",
     "output_type": "stream",
     "text": [
      "No artists with labels found to put in legend.  Note that artists whose label start with an underscore are ignored when legend() is called with no argument.\n"
     ]
    },
    {
     "data": {
      "image/png": "[encoded data removed]",
      "text/plain": [
       "<Figure size 576x684 with 1 Axes>"
      ]
     },
     "metadata": {
      "needs_background": "light"
     },
     "output_type": "display_data"
    }
   ],
   "source": [
    "fig, ax = plt.subplots(1,1)\n",
    "fig.legend(loc='lower right')\n",
    "p= shap.summary_plot(shap_vals, feature_names=feature, color = cmap, class_names=model_log.classes_,plot_type=\"bar\", show=False, color_bar_label=None, color_bar=False)\n",
    "ax.get_legend().remove()\n",
    "fig.show()"
   ]
  }
 ],
 "metadata": {
  "kernelspec": {
   "display_name": "mlenv",
   "language": "python",
   "name": "python3"
  },
  "language_info": {
   "codemirror_mode": {
    "name": "ipython",
    "version": 3
   },
   "file_extension": ".py",
   "mimetype": "text/x-python",
   "name": "python",
   "nbconvert_exporter": "python",
   "pygments_lexer": "ipython3",
   "version": "3.9.12"
  },
  "orig_nbformat": 4,
  "vscode": {
   "interpreter": {
    "hash": "435c0f9b4b989c95d3db1d180d9a21b950c99dfcb596bbd0bd4be048be3d8725"
   }
  }
 },
 "nbformat": 4,
 "nbformat_minor": 2
}
