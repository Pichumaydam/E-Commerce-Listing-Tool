{
  "cells": [
    {
      "cell_type": "code",
      "execution_count": 1,
      "metadata": {
        "id": "LJ_6jmCw9Vwo"
      },
      "outputs": [],
      "source": [
        "import pandas as pd \n",
        "import numpy as np\n",
        "import time\n",
        "import matplotlib.pyplot as plt\n",
        "import seaborn as sns\n",
        "from scipy.sparse import csr_matrix, hstack\n",
        "from sklearn.preprocessing import LabelBinarizer\n",
        "from sklearn.model_selection import train_test_split\n",
        "import xgboost as xgb\n",
        "from sklearn.metrics import mean_squared_error, mean_absolute_error, r2_score, roc_auc_score, mean_absolute_percentage_error\n",
        "from sklearn.compose import TransformedTargetRegressor\n",
        "from sklearn.pipeline import Pipeline\n",
        "from sklearn.ensemble import RandomForestRegressor\n",
        "import nltk\n",
        "from sklearn.feature_extraction.text import CountVectorizer, TfidfVectorizer\n",
        "\n",
        "import warnings\n",
        "warnings.filterwarnings('ignore')\n",
        "\n",
        "import gc\n",
        "\n",
        "pd.set_option('display.max_rows', 500)\n",
        "pd.set_option('display.max_columns', 500)\n",
        "pd.set_option('display.width', 1000)\n",
        "pd.set_option('display.expand_frame_repr', False)"
      ]
    },
    {
      "cell_type": "code",
      "execution_count": 2,
      "metadata": {
        "id": "TcNF3hIjx-4V"
      },
      "outputs": [],
      "source": [
        "df = pd.read_csv('/Users/may/Desktop/Applied/Walmart Bootcamp/Capstone Project/Data/data.csv', index_col=0)"
      ]
    },
    {
      "cell_type": "code",
      "execution_count": 3,
      "metadata": {
        "colab": {
          "base_uri": "https://localhost:8080/",
          "height": 332
        },
        "id": "yuxFPgQA7Hvw",
        "outputId": "f5f194eb-6de9-41e0-d76b-193be6b3771d"
      },
      "outputs": [
        {
          "data": {
            "text/html": [
              "<div>\n",
              "<style scoped>\n",
              "    .dataframe tbody tr th:only-of-type {\n",
              "        vertical-align: middle;\n",
              "    }\n",
              "\n",
              "    .dataframe tbody tr th {\n",
              "        vertical-align: top;\n",
              "    }\n",
              "\n",
              "    .dataframe thead th {\n",
              "        text-align: right;\n",
              "    }\n",
              "</style>\n",
              "<table border=\"1\" class=\"dataframe\">\n",
              "  <thead>\n",
              "    <tr style=\"text-align: right;\">\n",
              "      <th></th>\n",
              "      <th>count</th>\n",
              "      <th>unique</th>\n",
              "      <th>top</th>\n",
              "      <th>freq</th>\n",
              "    </tr>\n",
              "  </thead>\n",
              "  <tbody>\n",
              "    <tr>\n",
              "      <th>uniq_id</th>\n",
              "      <td>10000</td>\n",
              "      <td>10000</td>\n",
              "      <td>eac7efa5dbd3d667f26eb3d3ab504464</td>\n",
              "      <td>1</td>\n",
              "    </tr>\n",
              "    <tr>\n",
              "      <th>product_name</th>\n",
              "      <td>10000</td>\n",
              "      <td>9964</td>\n",
              "      <td>Polyhedral Dice</td>\n",
              "      <td>3</td>\n",
              "    </tr>\n",
              "    <tr>\n",
              "      <th>manufacturer</th>\n",
              "      <td>9993</td>\n",
              "      <td>2651</td>\n",
              "      <td>LEGO</td>\n",
              "      <td>171</td>\n",
              "    </tr>\n",
              "    <tr>\n",
              "      <th>price</th>\n",
              "      <td>8565</td>\n",
              "      <td>2625</td>\n",
              "      <td>£9.99</td>\n",
              "      <td>189</td>\n",
              "    </tr>\n",
              "    <tr>\n",
              "      <th>number_available_in_stock</th>\n",
              "      <td>7500</td>\n",
              "      <td>89</td>\n",
              "      <td>2 new</td>\n",
              "      <td>1337</td>\n",
              "    </tr>\n",
              "    <tr>\n",
              "      <th>number_of_reviews</th>\n",
              "      <td>9982.0</td>\n",
              "      <td>194.0</td>\n",
              "      <td>1.0</td>\n",
              "      <td>4315.0</td>\n",
              "    </tr>\n",
              "    <tr>\n",
              "      <th>number_of_answered_questions</th>\n",
              "      <td>9235.0</td>\n",
              "      <td>19.0</td>\n",
              "      <td>1.0</td>\n",
              "      <td>6435.0</td>\n",
              "    </tr>\n",
              "    <tr>\n",
              "      <th>average_review_rating</th>\n",
              "      <td>9982</td>\n",
              "      <td>19</td>\n",
              "      <td>5.0 out of 5 stars</td>\n",
              "      <td>5140</td>\n",
              "    </tr>\n",
              "    <tr>\n",
              "      <th>category_and_sub_category</th>\n",
              "      <td>9310</td>\n",
              "      <td>255</td>\n",
              "      <td>['Die-Cast &amp; Toy Vehicles', 'Toy Vehicles &amp; Ac...</td>\n",
              "      <td>880</td>\n",
              "    </tr>\n",
              "    <tr>\n",
              "      <th>customers_who_bought_this_item_also_bought</th>\n",
              "      <td>8938</td>\n",
              "      <td>8755</td>\n",
              "      <td>http://www.onlineretail.co/Scalextric | http:/...</td>\n",
              "      <td>60</td>\n",
              "    </tr>\n",
              "    <tr>\n",
              "      <th>description</th>\n",
              "      <td>9349</td>\n",
              "      <td>8514</td>\n",
              "      <td>Welcome to k2, we offer combined items postage...</td>\n",
              "      <td>113</td>\n",
              "    </tr>\n",
              "    <tr>\n",
              "      <th>product_information</th>\n",
              "      <td>9942</td>\n",
              "      <td>9939</td>\n",
              "      <td>Technical Details Manufacturer recommended age...</td>\n",
              "      <td>2</td>\n",
              "    </tr>\n",
              "    <tr>\n",
              "      <th>product_description</th>\n",
              "      <td>9349</td>\n",
              "      <td>8514</td>\n",
              "      <td>Welcome to k2, we offer combined items postage...</td>\n",
              "      <td>113</td>\n",
              "    </tr>\n",
              "    <tr>\n",
              "      <th>items_customers_buy_after_viewing_this_item</th>\n",
              "      <td>6935</td>\n",
              "      <td>6749</td>\n",
              "      <td>http://www.onlineretail.co/Scalextric | http:/...</td>\n",
              "      <td>38</td>\n",
              "    </tr>\n",
              "    <tr>\n",
              "      <th>customer_questions_and_answers</th>\n",
              "      <td>914</td>\n",
              "      <td>910</td>\n",
              "      <td>Is it 12 days or 24? // 24</td>\n",
              "      <td>2</td>\n",
              "    </tr>\n",
              "    <tr>\n",
              "      <th>customer_reviews</th>\n",
              "      <td>9979</td>\n",
              "      <td>9901</td>\n",
              "      <td>Five Stars // 5.0 // 1 Feb. 2015 // By\\n    \\n...</td>\n",
              "      <td>5</td>\n",
              "    </tr>\n",
              "    <tr>\n",
              "      <th>sellers</th>\n",
              "      <td>6918</td>\n",
              "      <td>6581</td>\n",
              "      <td>{\"seller\"=&gt;{\"Seller_name_1\"=&gt;\"k2-accessories\",...</td>\n",
              "      <td>27</td>\n",
              "    </tr>\n",
              "    <tr>\n",
              "      <th>rating</th>\n",
              "      <td>9982.0</td>\n",
              "      <td>19.0</td>\n",
              "      <td>5.0</td>\n",
              "      <td>5140.0</td>\n",
              "    </tr>\n",
              "    <tr>\n",
              "      <th>price_1</th>\n",
              "      <td>8547.0</td>\n",
              "      <td>2607.0</td>\n",
              "      <td>9.99</td>\n",
              "      <td>189.0</td>\n",
              "    </tr>\n",
              "    <tr>\n",
              "      <th>category_1</th>\n",
              "      <td>9310</td>\n",
              "      <td>43</td>\n",
              "      <td>Hobbies</td>\n",
              "      <td>1464</td>\n",
              "    </tr>\n",
              "    <tr>\n",
              "      <th>category_2</th>\n",
              "      <td>9310</td>\n",
              "      <td>148</td>\n",
              "      <td>Toy Vehicles &amp; Accessories</td>\n",
              "      <td>1100</td>\n",
              "    </tr>\n",
              "    <tr>\n",
              "      <th>category_3</th>\n",
              "      <td>5387</td>\n",
              "      <td>111</td>\n",
              "      <td>Scaled Models</td>\n",
              "      <td>979</td>\n",
              "    </tr>\n",
              "    <tr>\n",
              "      <th>category_4</th>\n",
              "      <td>1397</td>\n",
              "      <td>45</td>\n",
              "      <td>Vehicles</td>\n",
              "      <td>880</td>\n",
              "    </tr>\n",
              "    <tr>\n",
              "      <th>category_5</th>\n",
              "      <td>85</td>\n",
              "      <td>4</td>\n",
              "      <td>Figures</td>\n",
              "      <td>43</td>\n",
              "    </tr>\n",
              "    <tr>\n",
              "      <th>in_stock_num</th>\n",
              "      <td>7500.0</td>\n",
              "      <td>74.0</td>\n",
              "      <td>2.0</td>\n",
              "      <td>1359.0</td>\n",
              "    </tr>\n",
              "    <tr>\n",
              "      <th>in_stock_type</th>\n",
              "      <td>7500</td>\n",
              "      <td>4</td>\n",
              "      <td>new</td>\n",
              "      <td>7324</td>\n",
              "    </tr>\n",
              "    <tr>\n",
              "      <th>customer_reviews_transform</th>\n",
              "      <td>9979</td>\n",
              "      <td>9901</td>\n",
              "      <td>[['Five Stars', '5.0', '1 Feb. 2015', 'By\\n   ...</td>\n",
              "      <td>5</td>\n",
              "    </tr>\n",
              "    <tr>\n",
              "      <th>title</th>\n",
              "      <td>10000</td>\n",
              "      <td>7534</td>\n",
              "      <td>['Five Stars']</td>\n",
              "      <td>1513</td>\n",
              "    </tr>\n",
              "    <tr>\n",
              "      <th>review_rating</th>\n",
              "      <td>10000</td>\n",
              "      <td>1255</td>\n",
              "      <td>[5.0]</td>\n",
              "      <td>3540</td>\n",
              "    </tr>\n",
              "    <tr>\n",
              "      <th>review_date</th>\n",
              "      <td>10000</td>\n",
              "      <td>7001</td>\n",
              "      <td>[]</td>\n",
              "      <td>22</td>\n",
              "    </tr>\n",
              "    <tr>\n",
              "      <th>customer</th>\n",
              "      <td>10000</td>\n",
              "      <td>9671</td>\n",
              "      <td>['1 of 1 people found the following review hel...</td>\n",
              "      <td>49</td>\n",
              "    </tr>\n",
              "    <tr>\n",
              "      <th>review</th>\n",
              "      <td>9978</td>\n",
              "      <td>9573</td>\n",
              "      <td>Excellent</td>\n",
              "      <td>31</td>\n",
              "    </tr>\n",
              "    <tr>\n",
              "      <th>review_1</th>\n",
              "      <td>495</td>\n",
              "      <td>491</td>\n",
              "      <td>I purchased a number of these when they were r...</td>\n",
              "      <td>2</td>\n",
              "    </tr>\n",
              "    <tr>\n",
              "      <th>review_2</th>\n",
              "      <td>496</td>\n",
              "      <td>492</td>\n",
              "      <td>Was good to put balls in for a ball pit, then ...</td>\n",
              "      <td>2</td>\n",
              "    </tr>\n",
              "    <tr>\n",
              "      <th>review_3</th>\n",
              "      <td>1330</td>\n",
              "      <td>1317</td>\n",
              "      <td>Good</td>\n",
              "      <td>3</td>\n",
              "    </tr>\n",
              "    <tr>\n",
              "      <th>review_4</th>\n",
              "      <td>3692</td>\n",
              "      <td>3604</td>\n",
              "      <td>good</td>\n",
              "      <td>14</td>\n",
              "    </tr>\n",
              "    <tr>\n",
              "      <th>review_5</th>\n",
              "      <td>9130</td>\n",
              "      <td>8721</td>\n",
              "      <td>Excellent</td>\n",
              "      <td>37</td>\n",
              "    </tr>\n",
              "    <tr>\n",
              "      <th>number_of_1_star</th>\n",
              "      <td>10000</td>\n",
              "      <td>5</td>\n",
              "      <td>0</td>\n",
              "      <td>9505</td>\n",
              "    </tr>\n",
              "    <tr>\n",
              "      <th>number_of_2_star</th>\n",
              "      <td>10000</td>\n",
              "      <td>4</td>\n",
              "      <td>0</td>\n",
              "      <td>9504</td>\n",
              "    </tr>\n",
              "    <tr>\n",
              "      <th>number_of_3_star</th>\n",
              "      <td>10000</td>\n",
              "      <td>6</td>\n",
              "      <td>0</td>\n",
              "      <td>8670</td>\n",
              "    </tr>\n",
              "    <tr>\n",
              "      <th>number_of_4_star</th>\n",
              "      <td>10000</td>\n",
              "      <td>7</td>\n",
              "      <td>0</td>\n",
              "      <td>6308</td>\n",
              "    </tr>\n",
              "    <tr>\n",
              "      <th>number_of_5_star</th>\n",
              "      <td>10000</td>\n",
              "      <td>9</td>\n",
              "      <td>1</td>\n",
              "      <td>4302</td>\n",
              "    </tr>\n",
              "    <tr>\n",
              "      <th>yearly_review</th>\n",
              "      <td>9982.0</td>\n",
              "      <td>194.0</td>\n",
              "      <td>0.067059</td>\n",
              "      <td>4315.0</td>\n",
              "    </tr>\n",
              "  </tbody>\n",
              "</table>\n",
              "</div>"
            ],
            "text/plain": [
              "                                              count  unique                                                top    freq\n",
              "uniq_id                                       10000   10000                   eac7efa5dbd3d667f26eb3d3ab504464       1\n",
              "product_name                                  10000    9964                                    Polyhedral Dice       3\n",
              "manufacturer                                   9993    2651                                               LEGO     171\n",
              "price                                          8565    2625                                              £9.99     189\n",
              "number_available_in_stock                      7500      89                                              2 new    1337\n",
              "number_of_reviews                            9982.0   194.0                                                1.0  4315.0\n",
              "number_of_answered_questions                 9235.0    19.0                                                1.0  6435.0\n",
              "average_review_rating                          9982      19                                 5.0 out of 5 stars    5140\n",
              "category_and_sub_category                      9310     255  ['Die-Cast & Toy Vehicles', 'Toy Vehicles & Ac...     880\n",
              "customers_who_bought_this_item_also_bought     8938    8755  http://www.onlineretail.co/Scalextric | http:/...      60\n",
              "description                                    9349    8514  Welcome to k2, we offer combined items postage...     113\n",
              "product_information                            9942    9939  Technical Details Manufacturer recommended age...       2\n",
              "product_description                            9349    8514  Welcome to k2, we offer combined items postage...     113\n",
              "items_customers_buy_after_viewing_this_item    6935    6749  http://www.onlineretail.co/Scalextric | http:/...      38\n",
              "customer_questions_and_answers                  914     910                         Is it 12 days or 24? // 24       2\n",
              "customer_reviews                               9979    9901  Five Stars // 5.0 // 1 Feb. 2015 // By\\n    \\n...       5\n",
              "sellers                                        6918    6581  {\"seller\"=>{\"Seller_name_1\"=>\"k2-accessories\",...      27\n",
              "rating                                       9982.0    19.0                                                5.0  5140.0\n",
              "price_1                                      8547.0  2607.0                                               9.99   189.0\n",
              "category_1                                     9310      43                                            Hobbies    1464\n",
              "category_2                                     9310     148                         Toy Vehicles & Accessories    1100\n",
              "category_3                                     5387     111                                      Scaled Models     979\n",
              "category_4                                     1397      45                                           Vehicles     880\n",
              "category_5                                       85       4                                            Figures      43\n",
              "in_stock_num                                 7500.0    74.0                                                2.0  1359.0\n",
              "in_stock_type                                  7500       4                                                new    7324\n",
              "customer_reviews_transform                     9979    9901  [['Five Stars', '5.0', '1 Feb. 2015', 'By\\n   ...       5\n",
              "title                                         10000    7534                                     ['Five Stars']    1513\n",
              "review_rating                                 10000    1255                                              [5.0]    3540\n",
              "review_date                                   10000    7001                                                 []      22\n",
              "customer                                      10000    9671  ['1 of 1 people found the following review hel...      49\n",
              "review                                         9978    9573                                          Excellent      31\n",
              "review_1                                        495     491  I purchased a number of these when they were r...       2\n",
              "review_2                                        496     492  Was good to put balls in for a ball pit, then ...       2\n",
              "review_3                                       1330    1317                                               Good       3\n",
              "review_4                                       3692    3604                                               good      14\n",
              "review_5                                       9130    8721                                          Excellent      37\n",
              "number_of_1_star                              10000       5                                                  0    9505\n",
              "number_of_2_star                              10000       4                                                  0    9504\n",
              "number_of_3_star                              10000       6                                                  0    8670\n",
              "number_of_4_star                              10000       7                                                  0    6308\n",
              "number_of_5_star                              10000       9                                                  1    4302\n",
              "yearly_review                                9982.0   194.0                                           0.067059  4315.0"
            ]
          },
          "execution_count": 3,
          "metadata": {},
          "output_type": "execute_result"
        }
      ],
      "source": [
        "# Column types\n",
        "df.astype('object').describe().transpose()"
      ]
    },
    {
      "cell_type": "code",
      "execution_count": 4,
      "metadata": {
        "id": "f5k_QISqQip5"
      },
      "outputs": [],
      "source": [
        "df = df[['product_name', 'manufacturer', 'number_of_answered_questions', 'description', 'price_1', 'category_1', 'category_2', 'in_stock_num', 'in_stock_type']]"
      ]
    },
    {
      "cell_type": "code",
      "execution_count": 5,
      "metadata": {
        "colab": {
          "base_uri": "https://localhost:8080/"
        },
        "id": "ROm-UNi47U37",
        "outputId": "721ad5c3-5988-4785-931a-c94f923ae679"
      },
      "outputs": [
        {
          "data": {
            "text/plain": [
              "product_name                       0\n",
              "manufacturer                       7\n",
              "number_of_answered_questions     765\n",
              "description                      651\n",
              "price_1                         1453\n",
              "category_1                       690\n",
              "category_2                       690\n",
              "in_stock_num                    2500\n",
              "in_stock_type                   2500\n",
              "dtype: int64"
            ]
          },
          "execution_count": 5,
          "metadata": {},
          "output_type": "execute_result"
        }
      ],
      "source": [
        "df.isnull().sum()"
      ]
    },
    {
      "cell_type": "code",
      "execution_count": 6,
      "metadata": {
        "id": "RTWzDngc7Ybt"
      },
      "outputs": [],
      "source": [
        "# Impute missing values\n",
        "def fill_missing_value(data):\n",
        "    data['manufacturer'].fillna(value = 'Unknown', inplace=True)\n",
        "    data['number_of_answered_questions'].fillna(value = 0, inplace=True)\n",
        "    data['description'].fillna(value = 'No description yet', inplace=True)\n",
        "    data['category_1'].fillna(value = 'Other', inplace=True)\n",
        "    data['category_2'].fillna(value = 'Other', inplace=True)\n",
        "    data['in_stock_num'].fillna(value = 0, inplace=True)\n",
        "    data['in_stock_type'].fillna(value = 'Unknown', inplace=True)\n",
        "    return data"
      ]
    },
    {
      "cell_type": "code",
      "execution_count": 7,
      "metadata": {
        "id": "We7osucd9r41"
      },
      "outputs": [],
      "source": [
        "df = fill_missing_value(df)\n",
        "df = df.dropna(subset=['price_1'])"
      ]
    },
    {
      "cell_type": "code",
      "execution_count": 8,
      "metadata": {
        "colab": {
          "base_uri": "https://localhost:8080/"
        },
        "id": "kH78IQDY-WqG",
        "outputId": "9545b632-2818-4647-888c-77f8c3142aa2"
      },
      "outputs": [
        {
          "data": {
            "text/plain": [
              "product_name                    0\n",
              "manufacturer                    0\n",
              "number_of_answered_questions    0\n",
              "description                     0\n",
              "price_1                         0\n",
              "category_1                      0\n",
              "category_2                      0\n",
              "in_stock_num                    0\n",
              "in_stock_type                   0\n",
              "dtype: int64"
            ]
          },
          "execution_count": 8,
          "metadata": {},
          "output_type": "execute_result"
        }
      ],
      "source": [
        "df.isnull().sum()"
      ]
    },
    {
      "cell_type": "markdown",
      "metadata": {
        "id": "tWBqpuHyHrUV"
      },
      "source": [
        "# Text preprocessing"
      ]
    },
    {
      "cell_type": "code",
      "execution_count": 9,
      "metadata": {
        "colab": {
          "base_uri": "https://localhost:8080/"
        },
        "id": "BQJG7Mw0-wAG",
        "outputId": "e89afaf0-08b5-400c-c7ab-b0ea6b5477fe"
      },
      "outputs": [
        {
          "name": "stderr",
          "output_type": "stream",
          "text": [
            "[nltk_data] Downloading package stopwords to /Users/may/nltk_data...\n",
            "[nltk_data]   Package stopwords is already up-to-date!\n"
          ]
        }
      ],
      "source": [
        "from string import punctuation\n",
        "import string\n",
        "from pandas.core.groupby.generic import DataFrame\n",
        "\n",
        "# Stem the Words\n",
        "from nltk.stem.porter import PorterStemmer\n",
        "porter = PorterStemmer()\n",
        "\n",
        "# Create a list of punctuation replacements\n",
        "punctuation_symbols = []\n",
        "for symbol in punctuation:\n",
        "    punctuation_symbols.append((symbol, ''))\n",
        "\n",
        "nltk.download('stopwords')\n",
        "\n",
        "# List of stop words\n",
        "from nltk.corpus import stopwords\n",
        "stop = stopwords.words('english')"
      ]
    },
    {
      "cell_type": "code",
      "execution_count": 10,
      "metadata": {
        "id": "GF36FNTc_Db6"
      },
      "outputs": [],
      "source": [
        "# Function to remove punctuations\n",
        "def remove_punctuation(sentence: str) -> str:\n",
        "    return sentence.translate(str.maketrans('', '', string.punctuation))\n",
        "\n",
        "# Function to remove stop words\n",
        "def remove_stop_words(x):\n",
        "    x = ' '.join([i for i in x.lower().split(' ') if i not in stop])\n",
        "    return x\n",
        "\n",
        "# Function to lowercase the words\n",
        "def to_lower(x):\n",
        "    return x.lower()"
      ]
    },
    {
      "cell_type": "code",
      "execution_count": 11,
      "metadata": {
        "id": "ADFE-zeW_Oxk"
      },
      "outputs": [],
      "source": [
        "df['description'] = df['description'].apply(porter.stem)\n",
        "df['description'] = df['description'].apply(remove_punctuation)\n",
        "df['description'] = df['description'].apply(remove_stop_words)\n",
        "df['description'] = df['description'].apply(to_lower)"
      ]
    },
    {
      "cell_type": "code",
      "execution_count": 12,
      "metadata": {
        "colab": {
          "base_uri": "https://localhost:8080/"
        },
        "id": "7MDD6fI9_w5K",
        "outputId": "68384c68-427a-4cef-aa95-aaa8ec307bc8"
      },
      "outputs": [
        {
          "name": "stdout",
          "output_type": "stream",
          "text": [
            "Item Description Shape: (8547, 55000)\n"
          ]
        }
      ],
      "source": [
        "# Perform a TFIDF Transformation of the item description with the top 55000 features and has an n-gram range of 1-2\n",
        "tv = TfidfVectorizer(max_features=55000, ngram_range=(1, 2), stop_words='english')\n",
        "X_description = tv.fit_transform(df['description'])\n",
        "print(\"Item Description Shape: \" + str(X_description.shape))"
      ]
    },
    {
      "cell_type": "code",
      "execution_count": 13,
      "metadata": {
        "colab": {
          "base_uri": "https://localhost:8080/",
          "height": 363
        },
        "id": "-Q7m3YLs_11q",
        "outputId": "de45f892-2f4a-405c-cd97-06366f11a5c0"
      },
      "outputs": [
        {
          "data": {
            "text/html": [
              "<div>\n",
              "<style scoped>\n",
              "    .dataframe tbody tr th:only-of-type {\n",
              "        vertical-align: middle;\n",
              "    }\n",
              "\n",
              "    .dataframe tbody tr th {\n",
              "        vertical-align: top;\n",
              "    }\n",
              "\n",
              "    .dataframe thead th {\n",
              "        text-align: right;\n",
              "    }\n",
              "</style>\n",
              "<table border=\"1\" class=\"dataframe\">\n",
              "  <thead>\n",
              "    <tr style=\"text-align: right;\">\n",
              "      <th></th>\n",
              "      <th>tfidf_weights</th>\n",
              "    </tr>\n",
              "  </thead>\n",
              "  <tbody>\n",
              "    <tr>\n",
              "      <th>description</th>\n",
              "      <td>1.955722</td>\n",
              "    </tr>\n",
              "    <tr>\n",
              "      <th>product</th>\n",
              "      <td>2.081331</td>\n",
              "    </tr>\n",
              "    <tr>\n",
              "      <th>box</th>\n",
              "      <td>2.174540</td>\n",
              "    </tr>\n",
              "    <tr>\n",
              "      <th>product description</th>\n",
              "      <td>2.190955</td>\n",
              "    </tr>\n",
              "    <tr>\n",
              "      <th>contains</th>\n",
              "      <td>2.226212</td>\n",
              "    </tr>\n",
              "    <tr>\n",
              "      <th>box contains</th>\n",
              "      <td>2.332547</td>\n",
              "    </tr>\n",
              "    <tr>\n",
              "      <th>new</th>\n",
              "      <td>3.052207</td>\n",
              "    </tr>\n",
              "    <tr>\n",
              "      <th>children</th>\n",
              "      <td>3.113230</td>\n",
              "    </tr>\n",
              "    <tr>\n",
              "      <th>suitable</th>\n",
              "      <td>3.162843</td>\n",
              "    </tr>\n",
              "    <tr>\n",
              "      <th>set</th>\n",
              "      <td>3.164880</td>\n",
              "    </tr>\n",
              "  </tbody>\n",
              "</table>\n",
              "</div>"
            ],
            "text/plain": [
              "                     tfidf_weights\n",
              "description               1.955722\n",
              "product                   2.081331\n",
              "box                       2.174540\n",
              "product description       2.190955\n",
              "contains                  2.226212\n",
              "box contains              2.332547\n",
              "new                       3.052207\n",
              "children                  3.113230\n",
              "suitable                  3.162843\n",
              "set                       3.164880"
            ]
          },
          "execution_count": 13,
          "metadata": {},
          "output_type": "execute_result"
        }
      ],
      "source": [
        "tfidf_weights = dict(zip(tv.get_feature_names(), tv.idf_))\n",
        "tfidf_weights = pd.DataFrame(columns = ['tfidf_weights']).from_dict(dict(tfidf_weights), orient = 'index')\n",
        "tfidf_weights.columns = ['tfidf_weights']\n",
        "\n",
        "#Lowest tfidf scores -  Highest frequency words that get most importance:\n",
        "tfidf_weights.sort_values(by=['tfidf_weights'], ascending=True).head(10)"
      ]
    },
    {
      "cell_type": "code",
      "execution_count": 14,
      "metadata": {
        "colab": {
          "base_uri": "https://localhost:8080/",
          "height": 363
        },
        "id": "Q8FtYYH1ABr5",
        "outputId": "594f820c-c655-45dc-e122-e1fdc4681394"
      },
      "outputs": [
        {
          "data": {
            "text/html": [
              "<div>\n",
              "<style scoped>\n",
              "    .dataframe tbody tr th:only-of-type {\n",
              "        vertical-align: middle;\n",
              "    }\n",
              "\n",
              "    .dataframe tbody tr th {\n",
              "        vertical-align: top;\n",
              "    }\n",
              "\n",
              "    .dataframe thead th {\n",
              "        text-align: right;\n",
              "    }\n",
              "</style>\n",
              "<table border=\"1\" class=\"dataframe\">\n",
              "  <thead>\n",
              "    <tr style=\"text-align: right;\">\n",
              "      <th></th>\n",
              "      <th>tfidf_weights</th>\n",
              "    </tr>\n",
              "  </thead>\n",
              "  <tbody>\n",
              "    <tr>\n",
              "      <th>ﬁgure</th>\n",
              "      <td>9.360305</td>\n",
              "    </tr>\n",
              "    <tr>\n",
              "      <th>finishing spots</th>\n",
              "      <td>9.360305</td>\n",
              "    </tr>\n",
              "    <tr>\n",
              "      <th>turning activation</th>\n",
              "      <td>9.360305</td>\n",
              "    </tr>\n",
              "    <tr>\n",
              "      <th>fine grade</th>\n",
              "      <td>9.360305</td>\n",
              "    </tr>\n",
              "    <tr>\n",
              "      <th>fine nib</th>\n",
              "      <td>9.360305</td>\n",
              "    </tr>\n",
              "    <tr>\n",
              "      <th>turnator</th>\n",
              "      <td>9.360305</td>\n",
              "    </tr>\n",
              "    <tr>\n",
              "      <th>finger crayons</th>\n",
              "      <td>9.360305</td>\n",
              "    </tr>\n",
              "    <tr>\n",
              "      <th>finish exxod</th>\n",
              "      <td>9.360305</td>\n",
              "    </tr>\n",
              "    <tr>\n",
              "      <th>finish flag</th>\n",
              "      <td>9.360305</td>\n",
              "    </tr>\n",
              "    <tr>\n",
              "      <th>finish puzzle</th>\n",
              "      <td>9.360305</td>\n",
              "    </tr>\n",
              "  </tbody>\n",
              "</table>\n",
              "</div>"
            ],
            "text/plain": [
              "                    tfidf_weights\n",
              "ﬁgure                    9.360305\n",
              "finishing spots          9.360305\n",
              "turning activation       9.360305\n",
              "fine grade               9.360305\n",
              "fine nib                 9.360305\n",
              "turnator                 9.360305\n",
              "finger crayons           9.360305\n",
              "finish exxod             9.360305\n",
              "finish flag              9.360305\n",
              "finish puzzle            9.360305"
            ]
          },
          "execution_count": 14,
          "metadata": {},
          "output_type": "execute_result"
        }
      ],
      "source": [
        "#Hightest tfidf scores - Rare words that get most importance:\n",
        "tfidf_weights.sort_values(by=['tfidf_weights'], ascending=False).head(10)"
      ]
    },
    {
      "cell_type": "code",
      "execution_count": 15,
      "metadata": {
        "colab": {
          "base_uri": "https://localhost:8080/"
        },
        "id": "52xPhXmTJdwK",
        "outputId": "ac70bf37-4dac-4299-ca1a-346d18bbf87d"
      },
      "outputs": [
        {
          "name": "stdout",
          "output_type": "stream",
          "text": [
            "Item product_name Shape: (8547, 700)\n"
          ]
        }
      ],
      "source": [
        "# Perform a TFIDF Transformation of the item product name with the top 700 features and has an n-gram range of 1-2\n",
        "tv2 = TfidfVectorizer(max_features=700, ngram_range=(1, 2), stop_words='english')\n",
        "X_product_name = tv2.fit_transform(df['product_name'])\n",
        "print(\"Item product_name Shape: \" + str(X_product_name.shape))"
      ]
    },
    {
      "cell_type": "code",
      "execution_count": 16,
      "metadata": {},
      "outputs": [
        {
          "data": {
            "text/plain": [
              "(8547, 2548)"
            ]
          },
          "execution_count": 16,
          "metadata": {},
          "output_type": "execute_result"
        }
      ],
      "source": [
        "X_dummies = csr_matrix(pd.get_dummies(df[['manufacturer', 'in_stock_type', 'category_1', 'category_2']], sparse=True).values)\n",
        "X_dummies.shape"
      ]
    },
    {
      "cell_type": "code",
      "execution_count": 17,
      "metadata": {},
      "outputs": [
        {
          "data": {
            "text/plain": [
              "(8547, 2)"
            ]
          },
          "execution_count": 17,
          "metadata": {},
          "output_type": "execute_result"
        }
      ],
      "source": [
        "X_num = csr_matrix(df[['number_of_answered_questions', 'in_stock_num']])\n",
        "X_num.shape"
      ]
    },
    {
      "cell_type": "code",
      "execution_count": 18,
      "metadata": {
        "colab": {
          "base_uri": "https://localhost:8080/"
        },
        "id": "c2ZXJLsYAHL3",
        "outputId": "c462f330-6675-4396-bc82-7ecb4c9e066a"
      },
      "outputs": [
        {
          "name": "stdout",
          "output_type": "stream",
          "text": [
            "(8547, 58250)\n"
          ]
        }
      ],
      "source": [
        "# Combine everything together using Sparse matrix\n",
        "sparse_merge = hstack((X_dummies, X_num, X_product_name, X_description))\n",
        "\n",
        "print(sparse_merge.shape)"
      ]
    },
    {
      "cell_type": "code",
      "execution_count": 19,
      "metadata": {
        "colab": {
          "base_uri": "https://localhost:8080/"
        },
        "id": "UlpKuvrAAPMd",
        "outputId": "469f554d-8ee9-4332-80f8-58c82530fe3c"
      },
      "outputs": [
        {
          "name": "stdout",
          "output_type": "stream",
          "text": [
            "(8547,)\n"
          ]
        }
      ],
      "source": [
        "target =df['price_1']\n",
        "\n",
        "print(target.shape)"
      ]
    },
    {
      "cell_type": "code",
      "execution_count": 20,
      "metadata": {
        "id": "aRS8kkY40uGK"
      },
      "outputs": [],
      "source": [
        "#Split into train anda test sets\n",
        "from sklearn.model_selection import train_test_split\n",
        "features_train, features_test, target_train, target_test = train_test_split(sparse_merge, target, test_size = .25, random_state = 42)"
      ]
    },
    {
      "cell_type": "code",
      "execution_count": 20,
      "metadata": {
        "colab": {
          "base_uri": "https://localhost:8080/"
        },
        "id": "cUMYw5ozmGbE",
        "outputId": "3c557851-faa2-4601-9c55-7383f22fd9a3"
      },
      "outputs": [
        {
          "name": "stdout",
          "output_type": "stream",
          "text": [
            "CPU times: user 1min 58s, sys: 1.09 s, total: 2min\n",
            "Wall time: 42.4 s\n"
          ]
        },
        {
          "data": {
            "text/plain": [
              "XGBRegressor(base_score=0.5, booster='gbtree', callbacks=None,\n",
              "             colsample_bylevel=1, colsample_bynode=1, colsample_bytree=1,\n",
              "             early_stopping_rounds=None, enable_categorical=False,\n",
              "             eval_metric=None, gamma=0, gpu_id=-1, grow_policy='depthwise',\n",
              "             importance_type=None, interaction_constraints='',\n",
              "             learning_rate=0.1, max_bin=256, max_cat_to_onehot=4,\n",
              "             max_delta_step=0, max_depth=7, max_leaves=0, min_child_weight=1,\n",
              "             missing=nan, monotone_constraints='()', n_estimators=500, n_jobs=0,\n",
              "             num_parallel_tree=1, predictor='auto', random_state=0, reg_alpha=0,\n",
              "             reg_lambda=1, ...)"
            ]
          },
          "execution_count": 20,
          "metadata": {},
          "output_type": "execute_result"
        }
      ],
      "source": [
        "# from xgboost.sklearn import XGBRegressor\n",
        "import xgboost as xgb\n",
        "\n",
        "xgboost = xgb.XGBRegressor(\n",
        "    # tree_method = \"gpu_exact\", \n",
        "    objective='reg:squarederror',\n",
        "    n_estimators=500,\n",
        "    learning_rate=0.1,\n",
        "    subsample=0.5,\n",
        "    colsample_bytree=1, \n",
        "    max_depth=7,\n",
        "    gamma=0,\n",
        ")\n",
        "# log_xgboost = TransformedTargetRegressor(xgboost, func = np.log1p, inverse_func=np.expm1)\n",
        "%time xgboost.fit(features_train, np.log1p(target_train))"
      ]
    },
    {
      "cell_type": "code",
      "execution_count": null,
      "metadata": {
        "id": "SFaiOr6lmWQ6"
      },
      "outputs": [],
      "source": [
        "from sklearn.preprocessing import MultiLabelBinarizer\n",
        "import tensorflow as tf\n",
        "from tensorflow.keras.preprocessing import text\n",
        "# import keras.backend.tensorflow_backend as K\n",
        "# K.set_session\n",
        "import shap\n",
        "from shap import TreeExplainer\n",
        "explainer = TreeExplainer(xgboost)\n",
        "\n",
        "\n",
        "num_explanations = 20\n",
        "shap_vals = explainer.shap_values(X_test[:num_explanations])\n",
        "words = processor._tokenizer.word_index\n",
        "word_lookup = list()\n",
        "for i in words.keys():\n",
        "  word_lookup.append(i)\n",
        "word_lookup = [''] + word_lookup\n",
        "shap.summary_plot(shap_vals, feature_names=word_lookup, class_names=tag_encoder.classes_)"
      ]
    },
    {
      "attachments": {},
      "cell_type": "markdown",
      "metadata": {
        "id": "8MKTDZURI-0n"
      },
      "source": [
        "# Without Text data"
      ]
    },
    {
      "cell_type": "code",
      "execution_count": 21,
      "metadata": {
        "id": "WF3AScRqJBaq"
      },
      "outputs": [],
      "source": [
        "X = df[['manufacturer',\n",
        "       'number_of_answered_questions',\n",
        "         'category_1', 'category_2','in_stock_num', 'in_stock_type']]\n",
        "y = df['price_1']"
      ]
    },
    {
      "cell_type": "code",
      "execution_count": 22,
      "metadata": {
        "id": "nON1ogkqJ1sn"
      },
      "outputs": [
        {
          "data": {
            "text/plain": [
              "(8547, 2550)"
            ]
          },
          "execution_count": 22,
          "metadata": {},
          "output_type": "execute_result"
        }
      ],
      "source": [
        "X =  pd.get_dummies(X)\n",
        "y_trans = np.log(y+1)\n",
        "X.shape"
      ]
    },
    {
      "cell_type": "code",
      "execution_count": 23,
      "metadata": {
        "colab": {
          "base_uri": "https://localhost:8080/"
        },
        "id": "GcBvMj2ZKJv1",
        "outputId": "17cb7996-5a35-44af-9abf-a58c18b31273"
      },
      "outputs": [
        {
          "name": "stdout",
          "output_type": "stream",
          "text": [
            "Train df shape: (6410, 2550)\n",
            "Test df shape: (2137, 2550)\n"
          ]
        }
      ],
      "source": [
        "X_train, X_test, y_train, y_test = train_test_split(X, y, test_size=0.25, random_state=42)\n",
        "\n",
        "print(\"Train df shape:\", X_train.shape)\n",
        "print(\"Test df shape:\", X_test.shape)"
      ]
    },
    {
      "cell_type": "code",
      "execution_count": 59,
      "metadata": {
        "colab": {
          "base_uri": "https://localhost:8080/"
        },
        "id": "1_iRnirfKggM",
        "outputId": "b9dba4de-fd44-49b2-848d-40d62f9437f4"
      },
      "outputs": [
        {
          "data": {
            "text/plain": [
              "LinearRegression()"
            ]
          },
          "execution_count": 59,
          "metadata": {},
          "output_type": "execute_result"
        }
      ],
      "source": [
        "from sklearn.linear_model import LinearRegression\n",
        "from sklearn.compose import TransformedTargetRegressor\n",
        "linreg = LinearRegression()\n",
        "log_linreg = TransformedTargetRegressor(linreg, func = np.log1p, inverse_func=np.expm1)\n",
        "# log_linreg.fit(X_train,y_train)\n",
        "linreg.fit(X_train, y_train)"
      ]
    },
    {
      "cell_type": "code",
      "execution_count": 60,
      "metadata": {
        "colab": {
          "base_uri": "https://localhost:8080/",
          "height": 347
        },
        "id": "R3D5V0LeK5JI",
        "outputId": "2572af0b-3086-44c1-feca-68a1823a02a2"
      },
      "outputs": [
        {
          "name": "stdout",
          "output_type": "stream",
          "text": [
            "Model Performance\n",
            "R-squared: 0.7298091000662242\n",
            "Root Mean Squared Error: 208165927465.22537\n",
            "Mean Absolute Error: 39818443600.27771\n"
          ]
        },
        {
          "data": {
            "image/png": "[encoded data removed]",
            "text/plain": [
              "<Figure size 432x288 with 1 Axes>"
            ]
          },
          "metadata": {
            "needs_background": "light"
          },
          "output_type": "display_data"
        }
      ],
      "source": [
        "predictions = linreg.predict(X_test)\n",
        "print('Model Performance')\n",
        "r2=linreg.score(X_train, y_train)\n",
        "print(\"R-squared:\", r2)\n",
        "rmse = np.sqrt(mean_squared_error(y_test, predictions))\n",
        "print(\"Root Mean Squared Error:\", rmse)\n",
        "mae = mean_absolute_error(y_test, predictions)\n",
        "print('Mean Absolute Error:',mae)    \n",
        "sns.scatterplot(y_test, predictions,  label = \"R-sq: %f, RMSE: %f, MAE: %f\" %(r2, rmse, mae))\n",
        "plt.xlabel(\"True Values\")\n",
        "plt.ylabel(\"Predictions\")\n",
        "plt.title(\"Linear Regression\");"
      ]
    },
    {
      "cell_type": "code",
      "execution_count": null,
      "metadata": {
        "colab": {
          "base_uri": "https://localhost:8080/"
        },
        "id": "ip0_k5oHKeSX",
        "outputId": "9111676d-f21c-4757-da2a-622399defcc7"
      },
      "outputs": [
        {
          "name": "stdout",
          "output_type": "stream",
          "text": [
            "CPU times: user 1min, sys: 194 ms, total: 1min\n",
            "Wall time: 50.4 s\n"
          ]
        },
        {
          "data": {
            "text/plain": [
              "RandomForestRegressor(max_depth=100, n_estimators=50)"
            ]
          },
          "execution_count": 107,
          "metadata": {},
          "output_type": "execute_result"
        }
      ],
      "source": [
        "from sklearn.ensemble import RandomForestRegressor\n",
        "\n",
        "Rforest = RandomForestRegressor(n_estimators=50, criterion='squared_error', max_depth=100, min_samples_split=2,\n",
        "                                max_features='auto', min_impurity_decrease=0.0)\n",
        "# log_Rforest = TransformedTargetRegressor(Rforest, func = np.log1p, inverse_func=np.expm1)\n",
        "%time Rforest.fit(X_train, y_train)"
      ]
    },
    {
      "cell_type": "code",
      "execution_count": null,
      "metadata": {
        "colab": {
          "base_uri": "https://localhost:8080/",
          "height": 347
        },
        "id": "HDV_uwA9Kjlq",
        "outputId": "8a1cbb14-3962-4de0-9ba2-3d9f393b5402"
      },
      "outputs": [
        {
          "name": "stdout",
          "output_type": "stream",
          "text": [
            "R-squared: 0.8155880361325664\n",
            "Root Mean Squared Error: 33.61686068140614\n",
            "Mean Absolute Error: 13.31004473262144\n"
          ]
        },
        {
          "data": {
            "image/png": "[encoded data removed]",
            "text/plain": [
              "<Figure size 432x288 with 1 Axes>"
            ]
          },
          "metadata": {
            "needs_background": "light"
          },
          "output_type": "display_data"
        }
      ],
      "source": [
        "predictions = Rforest.predict(X_test)\n",
        "\n",
        "# print('Model Performance')\n",
        "r2 = Rforest.score(X_train, y_train)\n",
        "print(\"R-squared:\", r2)\n",
        "rmse = np.sqrt(mean_squared_error(y_test, predictions))\n",
        "print(\"Root Mean Squared Error:\", rmse)\n",
        "mae = mean_absolute_error(y_test, predictions)\n",
        "print('Mean Absolute Error:',mae)\n",
        "    \n",
        "sns.scatterplot(y_test, predictions,  label = \"R-sq: %f, RMSE: %f, MAE: %f\" %(r2, rmse, mae))\n",
        "plt.xlabel(\"True Values\")\n",
        "plt.ylabel(\"Predictions\")\n",
        "plt.title(\"RandomForest Regression\");"
      ]
    },
    {
      "cell_type": "code",
      "execution_count": null,
      "metadata": {
        "colab": {
          "base_uri": "https://localhost:8080/"
        },
        "id": "j_feiL6sNBsX",
        "outputId": "840bbba3-91b3-492c-ed78-9374b7b6d35f"
      },
      "outputs": [
        {
          "name": "stdout",
          "output_type": "stream",
          "text": [
            "CPU times: user 19.1 s, sys: 1.01 s, total: 20.1 s\n",
            "Wall time: 17.7 s\n"
          ]
        },
        {
          "data": {
            "text/plain": [
              "XGBRegressor(max_depth=7, n_estimators=1000, objective='reg:squarederror',\n",
              "             subsample=0.5, tree_method='gpu_hist')"
            ]
          },
          "execution_count": 109,
          "metadata": {},
          "output_type": "execute_result"
        }
      ],
      "source": [
        "# from xgboost.sklearn import XGBRegressor\n",
        "import xgboost as xgb\n",
        "\n",
        "xgboost = xgb.XGBRegressor(\n",
        "    tree_method = \"gpu_hist\", \n",
        "    objective='reg:squarederror',\n",
        "    n_estimators=1000,\n",
        "    learning_rate=0.1,\n",
        "    subsample=0.5,\n",
        "    colsample_bytree=1, \n",
        "    max_depth=7,\n",
        "    gamma=0,\n",
        ")\n",
        "%time xgboost.fit(X_train, y_train)"
      ]
    },
    {
      "cell_type": "code",
      "execution_count": null,
      "metadata": {
        "colab": {
          "base_uri": "https://localhost:8080/",
          "height": 347
        },
        "id": "3LCtWFb1SfKE",
        "outputId": "3f5d1c93-ba4d-4d06-eb5d-538195626070"
      },
      "outputs": [
        {
          "name": "stdout",
          "output_type": "stream",
          "text": [
            "R-squared: 0.8494842458880936\n",
            "Root Mean Squared Error: 34.451630888929806\n",
            "Mean Absolute Error: 14.379010029289843\n"
          ]
        },
        {
          "data": {
            "image/png": "[encoded data removed]",
            "text/plain": [
              "<Figure size 432x288 with 1 Axes>"
            ]
          },
          "metadata": {
            "needs_background": "light"
          },
          "output_type": "display_data"
        }
      ],
      "source": [
        "predictions = xgboost.predict(X_test)\n",
        "\n",
        "# print('Model Performance')\n",
        "r2=xgboost.score(X_train, y_train)\n",
        "print(\"R-squared:\", r2)\n",
        "rmse = np.sqrt(mean_squared_error(y_test, predictions))\n",
        "print(\"Root Mean Squared Error:\", rmse)\n",
        "mae = mean_absolute_error(y_test, predictions)\n",
        "print('Mean Absolute Error:',mae)\n",
        "    \n",
        "sns.scatterplot(y_test, predictions,  label = \"R-sq: %f, RMSE: %f, MAE: %f\" %(r2, rmse, mae))\n",
        "plt.xlabel(\"True Values\")\n",
        "plt.ylabel(\"Predictions\")\n",
        "plt.title(\"RandomForest Regression\");"
      ]
    },
    {
      "cell_type": "code",
      "execution_count": null,
      "metadata": {
        "colab": {
          "base_uri": "https://localhost:8080/"
        },
        "id": "98hlqLlISRtn",
        "outputId": "4f59b591-70fc-47ad-9f36-79eb71e6f937"
      },
      "outputs": [
        {
          "name": "stdout",
          "output_type": "stream",
          "text": [
            "CPU times: user 27.7 s, sys: 475 ms, total: 28.2 s\n",
            "Wall time: 24.4 s\n"
          ]
        },
        {
          "data": {
            "text/plain": [
              "TransformedTargetRegressor(func=<ufunc 'log1p'>, inverse_func=<ufunc 'expm1'>,\n",
              "                           regressor=XGBRegressor(max_depth=7,\n",
              "                                                  n_estimators=1000,\n",
              "                                                  objective='reg:squarederror',\n",
              "                                                  subsample=0.5,\n",
              "                                                  tree_method='gpu_hist'))"
            ]
          },
          "execution_count": 114,
          "metadata": {},
          "output_type": "execute_result"
        }
      ],
      "source": [
        "# from xgboost.sklearn import XGBRegressor\n",
        "import xgboost as xgb\n",
        "\n",
        "xgboost = xgb.XGBRegressor(\n",
        "    tree_method = \"gpu_hist\", \n",
        "    objective='reg:squarederror',\n",
        "    n_estimators=1000,\n",
        "    learning_rate=0.1,\n",
        "    subsample=0.5,\n",
        "    colsample_bytree=1, \n",
        "    max_depth=7,\n",
        "    gamma=0,\n",
        ")\n",
        "log_xgboost = TransformedTargetRegressor(xgboost, func = np.log1p, inverse_func=np.expm1)\n",
        "%time log_xgboost.fit(X_train, y_train)"
      ]
    },
    {
      "cell_type": "code",
      "execution_count": null,
      "metadata": {
        "colab": {
          "base_uri": "https://localhost:8080/",
          "height": 347
        },
        "id": "qa47uCvNSwYa",
        "outputId": "9933d5b2-1deb-469e-f839-65aa76d95d55"
      },
      "outputs": [
        {
          "name": "stdout",
          "output_type": "stream",
          "text": [
            "R-squared: 0.611533027554616\n",
            "Root Mean Squared Error: 33.49809507845304\n",
            "Mean Absolute Error: 12.42286393947115\n"
          ]
        },
        {
          "data": {
            "image/png": "[encoded data removed]",
            "text/plain": [
              "<Figure size 432x288 with 1 Axes>"
            ]
          },
          "metadata": {
            "needs_background": "light"
          },
          "output_type": "display_data"
        }
      ],
      "source": [
        "predictions = log_xgboost.predict(X_test)\n",
        "\n",
        "# print('Model Performance')\n",
        "r2=log_xgboost.score(X_train, y_train)\n",
        "print(\"R-squared:\", r2)\n",
        "rmse = np.sqrt(mean_squared_error(y_test, predictions))\n",
        "print(\"Root Mean Squared Error:\", rmse)\n",
        "mae = mean_absolute_error(y_test, predictions)\n",
        "print('Mean Absolute Error:',mae)\n",
        "    \n",
        "sns.scatterplot(y_test, predictions,  label = \"R-sq: %f, RMSE: %f, MAE: %f\" %(r2, rmse, mae))\n",
        "plt.xlabel(\"True Values\")\n",
        "plt.ylabel(\"Predictions\")\n",
        "plt.title(\"RandomForest Regression\");"
      ]
    },
    {
      "cell_type": "markdown",
      "metadata": {
        "id": "zLtYDVnzT6ND"
      },
      "source": [
        "# With Text data"
      ]
    },
    {
      "cell_type": "code",
      "execution_count": 24,
      "metadata": {
        "colab": {
          "base_uri": "https://localhost:8080/"
        },
        "id": "pCmD6_fwST1Y",
        "outputId": "e101be04-c4f8-47d0-9521-c5d7baea4cc9"
      },
      "outputs": [
        {
          "name": "stdout",
          "output_type": "stream",
          "text": [
            "Train df shape: (6410, 58250)\n",
            "Test df shape: (2137, 58250)\n"
          ]
        }
      ],
      "source": [
        "X_train, X_test, y_train, y_test = train_test_split(sparse_merge, target, test_size = .25, random_state = 42)\n",
        "\n",
        "print(\"Train df shape:\", X_train.shape)\n",
        "print(\"Test df shape:\", X_test.shape)"
      ]
    },
    {
      "cell_type": "code",
      "execution_count": 25,
      "metadata": {
        "colab": {
          "base_uri": "https://localhost:8080/"
        },
        "id": "0XKXCi2YWDkj",
        "outputId": "7be836ef-a208-4b31-9a3e-01289d96ab05"
      },
      "outputs": [
        {
          "name": "stdout",
          "output_type": "stream",
          "text": [
            "CPU times: user 1min 46s, sys: 1.36 s, total: 1min 47s\n",
            "Wall time: 46.5 s\n"
          ]
        },
        {
          "data": {
            "text/plain": [
              "XGBRegressor(base_score=0.5, booster='gbtree', callbacks=None,\n",
              "             colsample_bylevel=1, colsample_bynode=1, colsample_bytree=1,\n",
              "             early_stopping_rounds=None, enable_categorical=False,\n",
              "             eval_metric=None, feature_types=None, gamma=0, gpu_id=-1,\n",
              "             grow_policy='depthwise', importance_type=None,\n",
              "             interaction_constraints='', learning_rate=0.1, max_bin=256,\n",
              "             max_cat_threshold=64, max_cat_to_onehot=4, max_delta_step=0,\n",
              "             max_depth=7, max_leaves=0, min_child_weight=1, missing=nan,\n",
              "             monotone_constraints='()', n_estimators=500, n_jobs=0,\n",
              "             num_parallel_tree=1, predictor='auto', random_state=0, ...)"
            ]
          },
          "execution_count": 25,
          "metadata": {},
          "output_type": "execute_result"
        }
      ],
      "source": [
        "# from xgboost.sklearn import XGBRegressor\n",
        "import xgboost as xgb\n",
        "\n",
        "xgboost = xgb.XGBRegressor(\n",
        "    # tree_method = \"gpu_hist\", \n",
        "    objective='reg:squarederror',\n",
        "    n_estimators=500,\n",
        "    learning_rate=0.1,\n",
        "    subsample=0.5,\n",
        "    colsample_bytree=1, \n",
        "    max_depth=7,\n",
        "    gamma=0,\n",
        ")\n",
        "# log_xgboost = TransformedTargetRegressor(xgboost, func = np.log1p, inverse_func=np.expm1)\n",
        "%time xgboost.fit(X_train, np.log1p(y_train))"
      ]
    },
    {
      "cell_type": "code",
      "execution_count": 26,
      "metadata": {
        "colab": {
          "base_uri": "https://localhost:8080/",
          "height": 349
        },
        "id": "YWAosz4_WO3O",
        "outputId": "919bed81-fd96-4eb4-fb36-8e2c73f28d3a"
      },
      "outputs": [
        {
          "name": "stdout",
          "output_type": "stream",
          "text": [
            "R-squared: 0.8799532616707387\n",
            "Root Mean Squared Error: 31.382558425039534\n",
            "Mean Absolute Error: 11.478814936107042\n"
          ]
        },
        {
          "data": {
            "image/png": "[encoded data removed]",
            "text/plain": [
              "<Figure size 432x288 with 1 Axes>"
            ]
          },
          "metadata": {
            "needs_background": "light"
          },
          "output_type": "display_data"
        }
      ],
      "source": [
        "preds = np.expm1(xgboost.predict(X_test))\n",
        "\n",
        "# print('Model Performance')\n",
        "r2=xgboost.score(X_train, np.log1p(y_train))\n",
        "print(\"R-squared:\", r2)\n",
        "rmse = np.sqrt(mean_squared_error(y_test, preds))\n",
        "print(\"Root Mean Squared Error:\", rmse)\n",
        "mae = mean_absolute_error(y_test, preds)\n",
        "print('Mean Absolute Error:',mae)\n",
        "    \n",
        "sns.scatterplot(y_test, preds,  label = \"R-sq: %f, RMSE: %f, MAE: %f\" %(r2, rmse, mae))\n",
        "plt.xlabel(\"True Values\")\n",
        "plt.ylabel(\"Predictions\")\n",
        "plt.title(\"RandomForest Regression\");"
      ]
    },
    {
      "attachments": {},
      "cell_type": "markdown",
      "metadata": {
        "id": "AVf61an7Xb75"
      },
      "source": [
        "# Feature Importance"
      ]
    },
    {
      "cell_type": "code",
      "execution_count": 12,
      "metadata": {},
      "outputs": [
        {
          "data": {
            "text/plain": [
              "(8547, 2548)"
            ]
          },
          "execution_count": 12,
          "metadata": {},
          "output_type": "execute_result"
        }
      ],
      "source": [
        "X_cat = pd.get_dummies(df[['manufacturer', 'in_stock_type', 'category_1', 'category_2']], sparse=True)\n",
        "X_cat.shape"
      ]
    },
    {
      "cell_type": "code",
      "execution_count": 13,
      "metadata": {},
      "outputs": [
        {
          "data": {
            "text/plain": [
              "(8547, 2548)"
            ]
          },
          "execution_count": 13,
          "metadata": {},
          "output_type": "execute_result"
        }
      ],
      "source": [
        "X_dummies = X_cat.values\n",
        "X_dummies.shape"
      ]
    },
    {
      "cell_type": "code",
      "execution_count": 14,
      "metadata": {},
      "outputs": [
        {
          "data": {
            "text/plain": [
              "(8547, 2)"
            ]
          },
          "execution_count": 14,
          "metadata": {},
          "output_type": "execute_result"
        }
      ],
      "source": [
        "X_num = df[['number_of_answered_questions', 'in_stock_num']]\n",
        "X_num.shape"
      ]
    },
    {
      "cell_type": "code",
      "execution_count": 15,
      "metadata": {},
      "outputs": [
        {
          "name": "stdout",
          "output_type": "stream",
          "text": [
            "Item Description Shape: (8547, 55000)\n"
          ]
        }
      ],
      "source": [
        "# Perform a TFIDF Transformation of the item description with the top 55000 features and has an n-gram range of 1-2\n",
        "tv = TfidfVectorizer(max_features=55000, ngram_range=(1, 2), stop_words='english')\n",
        "X_description = tv.fit_transform(df['description'])\n",
        "print(\"Item Description Shape: \" + str(X_description.shape))"
      ]
    },
    {
      "cell_type": "code",
      "execution_count": 16,
      "metadata": {
        "id": "r0JJOoj6mhKK"
      },
      "outputs": [
        {
          "name": "stdout",
          "output_type": "stream",
          "text": [
            "Item product_name Shape: (8547, 700)\n"
          ]
        }
      ],
      "source": [
        "# Perform a TFIDF Transformation of the item product name with the top 700 features and has an n-gram range of 1-2\n",
        "tv2 = TfidfVectorizer(max_features=700, ngram_range=(1, 2), stop_words='english')\n",
        "X_product_name = tv2.fit_transform(df['product_name'])\n",
        "print(\"Item product_name Shape: \" + str(X_product_name.shape))"
      ]
    },
    {
      "cell_type": "code",
      "execution_count": 17,
      "metadata": {},
      "outputs": [
        {
          "name": "stdout",
          "output_type": "stream",
          "text": [
            "(8547, 58250)\n"
          ]
        }
      ],
      "source": [
        "# Combine everything together using Sparse matrix\n",
        "X = hstack((X_dummies, X_num, X_product_name, X_description))\n",
        "print(X.shape)"
      ]
    },
    {
      "cell_type": "code",
      "execution_count": 20,
      "metadata": {},
      "outputs": [],
      "source": [
        "y = df['price_1']"
      ]
    },
    {
      "cell_type": "code",
      "execution_count": 21,
      "metadata": {},
      "outputs": [
        {
          "name": "stdout",
          "output_type": "stream",
          "text": [
            "Train df shape: (6410, 58250)\n",
            "Test df shape: (2137, 58250)\n"
          ]
        }
      ],
      "source": [
        "X_train, X_test, y_train, y_test = train_test_split(X, y, test_size = .25, random_state = 42)\n",
        "\n",
        "print(\"Train df shape:\", X_train.shape)\n",
        "print(\"Test df shape:\", X_test.shape)"
      ]
    },
    {
      "cell_type": "code",
      "execution_count": 23,
      "metadata": {},
      "outputs": [
        {
          "name": "stdout",
          "output_type": "stream",
          "text": [
            "CPU times: user 1min 57s, sys: 866 ms, total: 1min 58s\n",
            "Wall time: 37.9 s\n"
          ]
        },
        {
          "data": {
            "text/plain": [
              "XGBRegressor(base_score=0.5, booster='gbtree', callbacks=None,\n",
              "             colsample_bylevel=1, colsample_bynode=1, colsample_bytree=1,\n",
              "             early_stopping_rounds=None, enable_categorical=False,\n",
              "             eval_metric=None, gamma=0, gpu_id=-1, grow_policy='depthwise',\n",
              "             importance_type=None, interaction_constraints='',\n",
              "             learning_rate=0.1, max_bin=256, max_cat_to_onehot=4,\n",
              "             max_delta_step=0, max_depth=7, max_leaves=0, min_child_weight=1,\n",
              "             missing=nan, monotone_constraints='()', n_estimators=500, n_jobs=0,\n",
              "             num_parallel_tree=1, predictor='auto', random_state=0, reg_alpha=0,\n",
              "             reg_lambda=1, ...)"
            ]
          },
          "execution_count": 23,
          "metadata": {},
          "output_type": "execute_result"
        }
      ],
      "source": [
        "# from xgboost.sklearn import XGBRegressor\n",
        "import xgboost as xgb\n",
        "\n",
        "xgboost = xgb.XGBRegressor(\n",
        "    # tree_method = \"gpu_hist\", \n",
        "    objective='reg:squarederror',\n",
        "    n_estimators=500,\n",
        "    learning_rate=0.1,\n",
        "    subsample=0.5,\n",
        "    colsample_bytree=1, \n",
        "    max_depth=7,\n",
        "    gamma=0,\n",
        ")\n",
        "# log_xgboost = TransformedTargetRegressor(xgboost, func = np.log1p, inverse_func=np.expm1)\n",
        "%time xgboost.fit(X_train, np.log1p(y_train))"
      ]
    },
    {
      "cell_type": "code",
      "execution_count": 24,
      "metadata": {},
      "outputs": [],
      "source": [
        "feature1 = list(X_cat.columns)\n",
        "feature2 = ['number_of_answered_questions', 'in_stock_num']\n",
        "feature3 = tv2.get_feature_names()\n",
        "feature4 = tv.get_feature_names()\n",
        "feature = feature1+feature2+feature3+feature4"
      ]
    },
    {
      "cell_type": "code",
      "execution_count": 29,
      "metadata": {},
      "outputs": [
        {
          "data": {
            "image/png": "[encoded data removed]",
            "text/plain": [
              "<Figure size 432x432 with 1 Axes>"
            ]
          },
          "metadata": {
            "needs_background": "light"
          },
          "output_type": "display_data"
        }
      ],
      "source": [
        "import shap\n",
        "from shap import TreeExplainer\n",
        "from matplotlib.colors import ListedColormap\n",
        "\n",
        "explainer = TreeExplainer(xgboost)\n",
        "num_explanations = 20\n",
        "shap_vals = explainer.shap_values(X_test[:num_explanations], check_additivity=False)\n",
        "cmap = ListedColormap([\"#6ba3f2\", \"#6ba3f2\"])\n",
        "\n",
        "fig, ax = plt.subplots(1,1)\n",
        "p = shap.summary_plot(shap_vals,  plot_size=(6,6), color = '#6ba3f2', plot_type=\"bar\", feature_names=feature)\n",
        "fig.show()"
      ]
    },
    {
      "cell_type": "markdown",
      "metadata": {
        "id": "IVeaedoNKEUs"
      },
      "source": [
        "# ANN"
      ]
    },
    {
      "cell_type": "code",
      "execution_count": 32,
      "metadata": {
        "id": "zQfOISUlAkfH"
      },
      "outputs": [],
      "source": [
        "import keras\n",
        "from keras.models import Sequential\n",
        "from keras.layers import Dense\n",
        "from keras.wrappers.scikit_learn import KerasRegressor\n",
        "from keras.callbacks import EarlyStopping"
      ]
    },
    {
      "cell_type": "code",
      "execution_count": 33,
      "metadata": {
        "id": "elyMx2tfAo1L"
      },
      "outputs": [],
      "source": [
        "model = Sequential()\n",
        "model.add(Dense(units = 512 ,kernel_initializer = 'normal', activation = 'relu', input_dim = 108229))\n",
        "model.add(Dense(256, kernel_initializer='normal', activation = 'relu'))\n",
        "model.add(Dense(256, kernel_initializer='normal', activation = 'relu'))\n",
        "model.add(Dense(128, kernel_initializer='normal', activation = 'relu'))\n",
        "model.add(Dense(1, kernel_initializer='normal',activation='linear'))\n",
        "# Compiling my model:\n",
        "model.compile(loss='mean_squared_error', optimizer='adam', metrics=['mae'])"
      ]
    },
    {
      "cell_type": "code",
      "execution_count": 34,
      "metadata": {
        "colab": {
          "base_uri": "https://localhost:8080/"
        },
        "id": "bjSFQNkRZ8Lh",
        "outputId": "dcb62e24-d11d-4eff-f285-283ee9f94f01"
      },
      "outputs": [
        {
          "name": "stdout",
          "output_type": "stream",
          "text": [
            "Model: \"sequential\"\n",
            "_________________________________________________________________\n",
            " Layer (type)                Output Shape              Param #   \n",
            "=================================================================\n",
            " dense (Dense)               (None, 512)               55413760  \n",
            "                                                                 \n",
            " dense_1 (Dense)             (None, 256)               131328    \n",
            "                                                                 \n",
            " dense_2 (Dense)             (None, 256)               65792     \n",
            "                                                                 \n",
            " dense_3 (Dense)             (None, 128)               32896     \n",
            "                                                                 \n",
            " dense_4 (Dense)             (None, 1)                 129       \n",
            "                                                                 \n",
            "=================================================================\n",
            "Total params: 55,643,905\n",
            "Trainable params: 55,643,905\n",
            "Non-trainable params: 0\n",
            "_________________________________________________________________\n"
          ]
        }
      ],
      "source": [
        "model.summary()"
      ]
    },
    {
      "cell_type": "code",
      "execution_count": 35,
      "metadata": {
        "id": "-dMtMfiWnxYA"
      },
      "outputs": [],
      "source": [
        "features_train = X_train\n",
        "target_train = np.log1p(y_train)\n",
        "features_test = X_test\n",
        "target_test = np.log1p(y_test)"
      ]
    },
    {
      "cell_type": "code",
      "execution_count": 36,
      "metadata": {
        "colab": {
          "base_uri": "https://localhost:8080/"
        },
        "id": "FUDhDNBzAtNv",
        "outputId": "4a446a5a-1877-444b-c062-2439405393c0"
      },
      "outputs": [
        {
          "name": "stdout",
          "output_type": "stream",
          "text": [
            "Epoch 1/40\n",
            "201/201 - 7s - loss: 0.7758 - mae: 0.6360 - val_loss: 0.4539 - val_mae: 0.5020 - 7s/epoch - 35ms/step\n",
            "Epoch 2/40\n",
            "201/201 - 2s - loss: 0.2471 - mae: 0.3753 - val_loss: 0.4612 - val_mae: 0.5206 - 2s/epoch - 9ms/step\n",
            "Epoch 3/40\n",
            "201/201 - 2s - loss: 0.0955 - mae: 0.2248 - val_loss: 0.4750 - val_mae: 0.5064 - 2s/epoch - 9ms/step\n",
            "Epoch 4/40\n",
            "201/201 - 2s - loss: 0.0623 - mae: 0.1812 - val_loss: 0.3963 - val_mae: 0.4696 - 2s/epoch - 9ms/step\n",
            "Epoch 5/40\n",
            "201/201 - 2s - loss: 0.0430 - mae: 0.1480 - val_loss: 0.4079 - val_mae: 0.4726 - 2s/epoch - 9ms/step\n",
            "Epoch 6/40\n",
            "201/201 - 2s - loss: 0.0384 - mae: 0.1420 - val_loss: 0.4221 - val_mae: 0.4769 - 2s/epoch - 9ms/step\n",
            "Epoch 7/40\n",
            "201/201 - 2s - loss: 0.0430 - mae: 0.1527 - val_loss: 0.4008 - val_mae: 0.4722 - 2s/epoch - 9ms/step\n",
            "Epoch 8/40\n",
            "201/201 - 2s - loss: 0.0446 - mae: 0.1546 - val_loss: 0.4035 - val_mae: 0.4693 - 2s/epoch - 9ms/step\n",
            "Epoch 9/40\n",
            "201/201 - 2s - loss: 0.0446 - mae: 0.1547 - val_loss: 0.4330 - val_mae: 0.4832 - 2s/epoch - 9ms/step\n",
            "Epoch 10/40\n",
            "201/201 - 2s - loss: 0.0372 - mae: 0.1420 - val_loss: 0.3960 - val_mae: 0.4722 - 2s/epoch - 9ms/step\n",
            "Epoch 11/40\n",
            "201/201 - 2s - loss: 0.0292 - mae: 0.1253 - val_loss: 0.3963 - val_mae: 0.4641 - 2s/epoch - 10ms/step\n",
            "Epoch 12/40\n",
            "201/201 - 2s - loss: 0.0270 - mae: 0.1204 - val_loss: 0.4039 - val_mae: 0.4673 - 2s/epoch - 9ms/step\n",
            "Epoch 13/40\n",
            "201/201 - 2s - loss: 0.0246 - mae: 0.1154 - val_loss: 0.3959 - val_mae: 0.4651 - 2s/epoch - 9ms/step\n",
            "Epoch 14/40\n",
            "201/201 - 2s - loss: 0.0249 - mae: 0.1160 - val_loss: 0.4227 - val_mae: 0.4759 - 2s/epoch - 9ms/step\n",
            "Epoch 15/40\n",
            "201/201 - 2s - loss: 0.0255 - mae: 0.1161 - val_loss: 0.4068 - val_mae: 0.4660 - 2s/epoch - 9ms/step\n",
            "Epoch 16/40\n",
            "201/201 - 2s - loss: 0.0202 - mae: 0.1038 - val_loss: 0.4088 - val_mae: 0.4682 - 2s/epoch - 9ms/step\n",
            "Epoch 17/40\n",
            "201/201 - 2s - loss: 0.0183 - mae: 0.1001 - val_loss: 0.3936 - val_mae: 0.4621 - 2s/epoch - 9ms/step\n",
            "Epoch 18/40\n",
            "201/201 - 2s - loss: 0.0191 - mae: 0.1013 - val_loss: 0.3987 - val_mae: 0.4618 - 2s/epoch - 9ms/step\n",
            "Epoch 19/40\n",
            "201/201 - 2s - loss: 0.0188 - mae: 0.1011 - val_loss: 0.4151 - val_mae: 0.4713 - 2s/epoch - 9ms/step\n",
            "Epoch 20/40\n",
            "201/201 - 2s - loss: 0.0174 - mae: 0.0979 - val_loss: 0.4044 - val_mae: 0.4639 - 2s/epoch - 9ms/step\n",
            "Epoch 21/40\n",
            "201/201 - 2s - loss: 0.0181 - mae: 0.1003 - val_loss: 0.3939 - val_mae: 0.4604 - 2s/epoch - 9ms/step\n",
            "Epoch 22/40\n",
            "201/201 - 2s - loss: 0.0183 - mae: 0.1003 - val_loss: 0.3976 - val_mae: 0.4646 - 2s/epoch - 9ms/step\n",
            "Epoch 23/40\n",
            "201/201 - 2s - loss: 0.0178 - mae: 0.0986 - val_loss: 0.4025 - val_mae: 0.4636 - 2s/epoch - 9ms/step\n",
            "Epoch 24/40\n",
            "201/201 - 2s - loss: 0.0172 - mae: 0.0969 - val_loss: 0.3999 - val_mae: 0.4655 - 2s/epoch - 9ms/step\n",
            "Epoch 25/40\n",
            "201/201 - 2s - loss: 0.0189 - mae: 0.1007 - val_loss: 0.3934 - val_mae: 0.4582 - 2s/epoch - 9ms/step\n",
            "Epoch 26/40\n",
            "201/201 - 2s - loss: 0.0183 - mae: 0.1008 - val_loss: 0.4063 - val_mae: 0.4672 - 2s/epoch - 9ms/step\n",
            "Epoch 27/40\n",
            "201/201 - 2s - loss: 0.0150 - mae: 0.0909 - val_loss: 0.3926 - val_mae: 0.4607 - 2s/epoch - 9ms/step\n",
            "Epoch 28/40\n",
            "201/201 - 2s - loss: 0.0123 - mae: 0.0822 - val_loss: 0.3907 - val_mae: 0.4620 - 2s/epoch - 9ms/step\n",
            "Epoch 29/40\n",
            "201/201 - 2s - loss: 0.0129 - mae: 0.0832 - val_loss: 0.3899 - val_mae: 0.4595 - 2s/epoch - 9ms/step\n",
            "Epoch 30/40\n",
            "201/201 - 2s - loss: 0.0117 - mae: 0.0798 - val_loss: 0.4035 - val_mae: 0.4640 - 2s/epoch - 9ms/step\n",
            "Epoch 31/40\n",
            "201/201 - 2s - loss: 0.0100 - mae: 0.0738 - val_loss: 0.3912 - val_mae: 0.4591 - 2s/epoch - 9ms/step\n",
            "Epoch 32/40\n",
            "201/201 - 2s - loss: 0.0108 - mae: 0.0761 - val_loss: 0.3967 - val_mae: 0.4607 - 2s/epoch - 9ms/step\n",
            "Epoch 33/40\n",
            "201/201 - 2s - loss: 0.0112 - mae: 0.0782 - val_loss: 0.3920 - val_mae: 0.4625 - 2s/epoch - 9ms/step\n",
            "Epoch 34/40\n",
            "201/201 - 2s - loss: 0.0134 - mae: 0.0851 - val_loss: 0.3903 - val_mae: 0.4612 - 2s/epoch - 9ms/step\n",
            "Epoch 35/40\n",
            "201/201 - 2s - loss: 0.0128 - mae: 0.0839 - val_loss: 0.3937 - val_mae: 0.4629 - 2s/epoch - 9ms/step\n",
            "Epoch 36/40\n",
            "201/201 - 2s - loss: 0.0120 - mae: 0.0818 - val_loss: 0.4026 - val_mae: 0.4642 - 2s/epoch - 9ms/step\n",
            "Epoch 37/40\n",
            "201/201 - 2s - loss: 0.0112 - mae: 0.0787 - val_loss: 0.4009 - val_mae: 0.4646 - 2s/epoch - 9ms/step\n",
            "Epoch 38/40\n",
            "201/201 - 2s - loss: 0.0092 - mae: 0.0706 - val_loss: 0.3938 - val_mae: 0.4621 - 2s/epoch - 9ms/step\n",
            "Epoch 39/40\n",
            "201/201 - 2s - loss: 0.0090 - mae: 0.0705 - val_loss: 0.3964 - val_mae: 0.4611 - 2s/epoch - 9ms/step\n",
            "Epoch 40/40\n",
            "201/201 - 2s - loss: 0.0111 - mae: 0.0773 - val_loss: 0.3977 - val_mae: 0.4622 - 2s/epoch - 9ms/step\n",
            "CPU times: user 2min 7s, sys: 10.7 s, total: 2min 18s\n",
            "Wall time: 1min 29s\n"
          ]
        }
      ],
      "source": [
        "# model = TransformedTargetRegressor(model, func = np.log1p, inverse_func=np.expm1)\n",
        "es =  EarlyStopping(monitor='val_loss', mode='min', min_delta=0, verbose=1, patience=20)\n",
        "%time history = model.fit(features_train, target_train, validation_data=(features_test, target_test), epochs=40, verbose=2, callbacks=[es])"
      ]
    },
    {
      "cell_type": "code",
      "execution_count": 37,
      "metadata": {
        "id": "PSBgQhL2fYHt"
      },
      "outputs": [],
      "source": [
        "model.save('ann_price_colab.pkl')"
      ]
    },
    {
      "cell_type": "code",
      "execution_count": 38,
      "metadata": {
        "colab": {
          "base_uri": "https://localhost:8080/"
        },
        "id": "3Cg2nYkWolK2",
        "outputId": "86456771-d019-4612-eef5-4aa3cfbd511b"
      },
      "outputs": [
        {
          "name": "stdout",
          "output_type": "stream",
          "text": [
            "67/67 [==============================] - 1s 20ms/step\n",
            "Root Mean Squared Error: 19.24728833106144\n",
            "Mean Absolute Error: 12.102895441891153\n"
          ]
        }
      ],
      "source": [
        "target_pred = np.expm1(model.predict(features_test))\n",
        "# print('Model Performance')\n",
        "rmse = np.sqrt(mean_squared_error(target_test, target_pred))\n",
        "print(\"Root Mean Squared Error:\", rmse)\n",
        "mae = mean_absolute_error(target_test, target_pred)\n",
        "print('Mean Absolute Error:',mae)"
      ]
    },
    {
      "cell_type": "code",
      "execution_count": 64,
      "metadata": {
        "colab": {
          "base_uri": "https://localhost:8080/"
        },
        "id": "P96PyRZ9gKIh",
        "outputId": "e531780c-19d1-40dd-b961-bba5c34fe2e5"
      },
      "outputs": [
        {
          "data": {
            "text/plain": [
              "array([10.947065, 28.882174, 11.111532, ..., 16.157057, 31.211542,\n",
              "        8.566874], dtype=float32)"
            ]
          },
          "execution_count": 64,
          "metadata": {},
          "output_type": "execute_result"
        }
      ],
      "source": [
        "target_pred.transpose()[0]"
      ]
    },
    {
      "cell_type": "code",
      "execution_count": 67,
      "metadata": {
        "colab": {
          "base_uri": "https://localhost:8080/"
        },
        "id": "-MifjmiNgMvN",
        "outputId": "0b925363-d2e6-40a7-96ce-4c89f11706e5"
      },
      "outputs": [
        {
          "data": {
            "text/plain": [
              "array([11.5 , 22.11,  2.03, ..., 12.99, 74.65,  7.95])"
            ]
          },
          "execution_count": 67,
          "metadata": {},
          "output_type": "execute_result"
        }
      ],
      "source": [
        "y_test.to_numpy()"
      ]
    },
    {
      "cell_type": "code",
      "execution_count": 73,
      "metadata": {
        "colab": {
          "base_uri": "https://localhost:8080/",
          "height": 404
        },
        "id": "cnh1PMTCgZZl",
        "outputId": "cfd1bb0a-1ed2-4170-d11a-c5bbb9262293"
      },
      "outputs": [
        {
          "data": {
            "image/png": "[encoded data removed]",
            "text/plain": [
              "<Figure size 432x432 with 1 Axes>"
            ]
          },
          "metadata": {
            "needs_background": "light"
          },
          "output_type": "display_data"
        }
      ],
      "source": [
        "plt.figure(figsize=(6,6))\n",
        "sns.scatterplot(y_test.to_numpy(), target_pred.transpose()[0],  label = \"RMSE: %f, MAE: %f\" %(17.32, 10.80))\n",
        "plt.xlabel(\"True Values\")\n",
        "plt.ylabel(\"Predictions\")\n",
        "\n",
        "plt.title(\"ANN\");"
      ]
    },
    {
      "cell_type": "code",
      "execution_count": 41,
      "metadata": {
        "colab": {
          "base_uri": "https://localhost:8080/",
          "height": 425
        },
        "id": "5GHcwyUtcU3Z",
        "outputId": "9a77f0cc-f4bb-4410-9553-59724e8a501b"
      },
      "outputs": [
        {
          "name": "stdout",
          "output_type": "stream",
          "text": [
            "Root Mean Squared Error: 19.24728833106144\n",
            "Mean Absolute Error: 12.102895441891153\n"
          ]
        },
        {
          "ename": "ValueError",
          "evalue": "ignored",
          "output_type": "error",
          "traceback": [
            "\u001b[0;31m---------------------------------------------------------------------------\u001b[0m",
            "\u001b[0;31mValueError\u001b[0m                                Traceback (most recent call last)",
            "\u001b[0;32m<ipython-input-41-a5a9317de55e>\u001b[0m in \u001b[0;36m<module>\u001b[0;34m\u001b[0m\n\u001b[1;32m      4\u001b[0m \u001b[0mprint\u001b[0m\u001b[0;34m(\u001b[0m\u001b[0;34m'Mean Absolute Error:'\u001b[0m\u001b[0;34m,\u001b[0m\u001b[0mmae\u001b[0m\u001b[0;34m)\u001b[0m\u001b[0;34m\u001b[0m\u001b[0;34m\u001b[0m\u001b[0m\n\u001b[1;32m      5\u001b[0m \u001b[0;34m\u001b[0m\u001b[0m\n\u001b[0;32m----> 6\u001b[0;31m \u001b[0msns\u001b[0m\u001b[0;34m.\u001b[0m\u001b[0mscatterplot\u001b[0m\u001b[0;34m(\u001b[0m\u001b[0mtarget_test\u001b[0m\u001b[0;34m,\u001b[0m \u001b[0mtarget_pred\u001b[0m\u001b[0;34m,\u001b[0m  \u001b[0mlabel\u001b[0m \u001b[0;34m=\u001b[0m \u001b[0;34m\"RMSE: %f, MAE: %f\"\u001b[0m \u001b[0;34m%\u001b[0m\u001b[0;34m(\u001b[0m\u001b[0mrmse\u001b[0m\u001b[0;34m,\u001b[0m \u001b[0mmae\u001b[0m\u001b[0;34m)\u001b[0m\u001b[0;34m)\u001b[0m\u001b[0;34m\u001b[0m\u001b[0;34m\u001b[0m\u001b[0m\n\u001b[0m\u001b[1;32m      7\u001b[0m \u001b[0mplt\u001b[0m\u001b[0;34m.\u001b[0m\u001b[0mxlabel\u001b[0m\u001b[0;34m(\u001b[0m\u001b[0;34m\"True Values\"\u001b[0m\u001b[0;34m)\u001b[0m\u001b[0;34m\u001b[0m\u001b[0;34m\u001b[0m\u001b[0m\n\u001b[1;32m      8\u001b[0m \u001b[0mplt\u001b[0m\u001b[0;34m.\u001b[0m\u001b[0mylabel\u001b[0m\u001b[0;34m(\u001b[0m\u001b[0;34m\"Predictions\"\u001b[0m\u001b[0;34m)\u001b[0m\u001b[0;34m\u001b[0m\u001b[0;34m\u001b[0m\u001b[0m\n",
            "\u001b[0;32m/usr/local/lib/python3.8/dist-packages/seaborn/_decorators.py\u001b[0m in \u001b[0;36minner_f\u001b[0;34m(*args, **kwargs)\u001b[0m\n\u001b[1;32m     44\u001b[0m             )\n\u001b[1;32m     45\u001b[0m         \u001b[0mkwargs\u001b[0m\u001b[0;34m.\u001b[0m\u001b[0mupdate\u001b[0m\u001b[0;34m(\u001b[0m\u001b[0;34m{\u001b[0m\u001b[0mk\u001b[0m\u001b[0;34m:\u001b[0m \u001b[0marg\u001b[0m \u001b[0;32mfor\u001b[0m \u001b[0mk\u001b[0m\u001b[0;34m,\u001b[0m \u001b[0marg\u001b[0m \u001b[0;32min\u001b[0m \u001b[0mzip\u001b[0m\u001b[0;34m(\u001b[0m\u001b[0msig\u001b[0m\u001b[0;34m.\u001b[0m\u001b[0mparameters\u001b[0m\u001b[0;34m,\u001b[0m \u001b[0margs\u001b[0m\u001b[0;34m)\u001b[0m\u001b[0;34m}\u001b[0m\u001b[0;34m)\u001b[0m\u001b[0;34m\u001b[0m\u001b[0;34m\u001b[0m\u001b[0m\n\u001b[0;32m---> 46\u001b[0;31m         \u001b[0;32mreturn\u001b[0m \u001b[0mf\u001b[0m\u001b[0;34m(\u001b[0m\u001b[0;34m**\u001b[0m\u001b[0mkwargs\u001b[0m\u001b[0;34m)\u001b[0m\u001b[0;34m\u001b[0m\u001b[0;34m\u001b[0m\u001b[0m\n\u001b[0m\u001b[1;32m     47\u001b[0m     \u001b[0;32mreturn\u001b[0m \u001b[0minner_f\u001b[0m\u001b[0;34m\u001b[0m\u001b[0;34m\u001b[0m\u001b[0m\n\u001b[1;32m     48\u001b[0m \u001b[0;34m\u001b[0m\u001b[0m\n",
            "\u001b[0;32m/usr/local/lib/python3.8/dist-packages/seaborn/relational.py\u001b[0m in \u001b[0;36mscatterplot\u001b[0;34m(x, y, hue, style, size, data, palette, hue_order, hue_norm, sizes, size_order, size_norm, markers, style_order, x_bins, y_bins, units, estimator, ci, n_boot, alpha, x_jitter, y_jitter, legend, ax, **kwargs)\u001b[0m\n\u001b[1;32m    806\u001b[0m \u001b[0;34m\u001b[0m\u001b[0m\n\u001b[1;32m    807\u001b[0m     \u001b[0mvariables\u001b[0m \u001b[0;34m=\u001b[0m \u001b[0m_ScatterPlotter\u001b[0m\u001b[0;34m.\u001b[0m\u001b[0mget_semantics\u001b[0m\u001b[0;34m(\u001b[0m\u001b[0mlocals\u001b[0m\u001b[0;34m(\u001b[0m\u001b[0;34m)\u001b[0m\u001b[0;34m)\u001b[0m\u001b[0;34m\u001b[0m\u001b[0;34m\u001b[0m\u001b[0m\n\u001b[0;32m--> 808\u001b[0;31m     p = _ScatterPlotter(\n\u001b[0m\u001b[1;32m    809\u001b[0m         \u001b[0mdata\u001b[0m\u001b[0;34m=\u001b[0m\u001b[0mdata\u001b[0m\u001b[0;34m,\u001b[0m \u001b[0mvariables\u001b[0m\u001b[0;34m=\u001b[0m\u001b[0mvariables\u001b[0m\u001b[0;34m,\u001b[0m\u001b[0;34m\u001b[0m\u001b[0;34m\u001b[0m\u001b[0m\n\u001b[1;32m    810\u001b[0m         \u001b[0mx_bins\u001b[0m\u001b[0;34m=\u001b[0m\u001b[0mx_bins\u001b[0m\u001b[0;34m,\u001b[0m \u001b[0my_bins\u001b[0m\u001b[0;34m=\u001b[0m\u001b[0my_bins\u001b[0m\u001b[0;34m,\u001b[0m\u001b[0;34m\u001b[0m\u001b[0;34m\u001b[0m\u001b[0m\n",
            "\u001b[0;32m/usr/local/lib/python3.8/dist-packages/seaborn/relational.py\u001b[0m in \u001b[0;36m__init__\u001b[0;34m(self, data, variables, x_bins, y_bins, estimator, ci, n_boot, alpha, x_jitter, y_jitter, legend)\u001b[0m\n\u001b[1;32m    585\u001b[0m         )\n\u001b[1;32m    586\u001b[0m \u001b[0;34m\u001b[0m\u001b[0m\n\u001b[0;32m--> 587\u001b[0;31m         \u001b[0msuper\u001b[0m\u001b[0;34m(\u001b[0m\u001b[0;34m)\u001b[0m\u001b[0;34m.\u001b[0m\u001b[0m__init__\u001b[0m\u001b[0;34m(\u001b[0m\u001b[0mdata\u001b[0m\u001b[0;34m=\u001b[0m\u001b[0mdata\u001b[0m\u001b[0;34m,\u001b[0m \u001b[0mvariables\u001b[0m\u001b[0;34m=\u001b[0m\u001b[0mvariables\u001b[0m\u001b[0;34m)\u001b[0m\u001b[0;34m\u001b[0m\u001b[0;34m\u001b[0m\u001b[0m\n\u001b[0m\u001b[1;32m    588\u001b[0m \u001b[0;34m\u001b[0m\u001b[0m\n\u001b[1;32m    589\u001b[0m         \u001b[0mself\u001b[0m\u001b[0;34m.\u001b[0m\u001b[0malpha\u001b[0m \u001b[0;34m=\u001b[0m \u001b[0malpha\u001b[0m\u001b[0;34m\u001b[0m\u001b[0;34m\u001b[0m\u001b[0m\n",
            "\u001b[0;32m/usr/local/lib/python3.8/dist-packages/seaborn/_core.py\u001b[0m in \u001b[0;36m__init__\u001b[0;34m(self, data, variables)\u001b[0m\n\u001b[1;32m    603\u001b[0m     \u001b[0;32mdef\u001b[0m \u001b[0m__init__\u001b[0m\u001b[0;34m(\u001b[0m\u001b[0mself\u001b[0m\u001b[0;34m,\u001b[0m \u001b[0mdata\u001b[0m\u001b[0;34m=\u001b[0m\u001b[0;32mNone\u001b[0m\u001b[0;34m,\u001b[0m \u001b[0mvariables\u001b[0m\u001b[0;34m=\u001b[0m\u001b[0;34m{\u001b[0m\u001b[0;34m}\u001b[0m\u001b[0;34m)\u001b[0m\u001b[0;34m:\u001b[0m\u001b[0;34m\u001b[0m\u001b[0;34m\u001b[0m\u001b[0m\n\u001b[1;32m    604\u001b[0m \u001b[0;34m\u001b[0m\u001b[0m\n\u001b[0;32m--> 605\u001b[0;31m         \u001b[0mself\u001b[0m\u001b[0;34m.\u001b[0m\u001b[0massign_variables\u001b[0m\u001b[0;34m(\u001b[0m\u001b[0mdata\u001b[0m\u001b[0;34m,\u001b[0m \u001b[0mvariables\u001b[0m\u001b[0;34m)\u001b[0m\u001b[0;34m\u001b[0m\u001b[0;34m\u001b[0m\u001b[0m\n\u001b[0m\u001b[1;32m    606\u001b[0m \u001b[0;34m\u001b[0m\u001b[0m\n\u001b[1;32m    607\u001b[0m         \u001b[0;32mfor\u001b[0m \u001b[0mvar\u001b[0m\u001b[0;34m,\u001b[0m \u001b[0mcls\u001b[0m \u001b[0;32min\u001b[0m \u001b[0mself\u001b[0m\u001b[0;34m.\u001b[0m\u001b[0m_semantic_mappings\u001b[0m\u001b[0;34m.\u001b[0m\u001b[0mitems\u001b[0m\u001b[0;34m(\u001b[0m\u001b[0;34m)\u001b[0m\u001b[0;34m:\u001b[0m\u001b[0;34m\u001b[0m\u001b[0;34m\u001b[0m\u001b[0m\n",
            "\u001b[0;32m/usr/local/lib/python3.8/dist-packages/seaborn/_core.py\u001b[0m in \u001b[0;36massign_variables\u001b[0;34m(self, data, variables)\u001b[0m\n\u001b[1;32m    666\u001b[0m         \u001b[0;32melse\u001b[0m\u001b[0;34m:\u001b[0m\u001b[0;34m\u001b[0m\u001b[0;34m\u001b[0m\u001b[0m\n\u001b[1;32m    667\u001b[0m             \u001b[0mself\u001b[0m\u001b[0;34m.\u001b[0m\u001b[0minput_format\u001b[0m \u001b[0;34m=\u001b[0m \u001b[0;34m\"long\"\u001b[0m\u001b[0;34m\u001b[0m\u001b[0;34m\u001b[0m\u001b[0m\n\u001b[0;32m--> 668\u001b[0;31m             plot_data, variables = self._assign_variables_longform(\n\u001b[0m\u001b[1;32m    669\u001b[0m                 \u001b[0mdata\u001b[0m\u001b[0;34m,\u001b[0m \u001b[0;34m**\u001b[0m\u001b[0mvariables\u001b[0m\u001b[0;34m,\u001b[0m\u001b[0;34m\u001b[0m\u001b[0;34m\u001b[0m\u001b[0m\n\u001b[1;32m    670\u001b[0m             )\n",
            "\u001b[0;32m/usr/local/lib/python3.8/dist-packages/seaborn/_core.py\u001b[0m in \u001b[0;36m_assign_variables_longform\u001b[0;34m(self, data, **kwargs)\u001b[0m\n\u001b[1;32m    925\u001b[0m         \u001b[0;31m# Construct a tidy plot DataFrame. This will convert a number of\u001b[0m\u001b[0;34m\u001b[0m\u001b[0;34m\u001b[0m\u001b[0;34m\u001b[0m\u001b[0m\n\u001b[1;32m    926\u001b[0m         \u001b[0;31m# types automatically, aligning on index in case of pandas objects\u001b[0m\u001b[0;34m\u001b[0m\u001b[0;34m\u001b[0m\u001b[0;34m\u001b[0m\u001b[0m\n\u001b[0;32m--> 927\u001b[0;31m         \u001b[0mplot_data\u001b[0m \u001b[0;34m=\u001b[0m \u001b[0mpd\u001b[0m\u001b[0;34m.\u001b[0m\u001b[0mDataFrame\u001b[0m\u001b[0;34m(\u001b[0m\u001b[0mplot_data\u001b[0m\u001b[0;34m)\u001b[0m\u001b[0;34m\u001b[0m\u001b[0;34m\u001b[0m\u001b[0m\n\u001b[0m\u001b[1;32m    928\u001b[0m \u001b[0;34m\u001b[0m\u001b[0m\n\u001b[1;32m    929\u001b[0m         \u001b[0;31m# Reduce the variables dictionary to fields with valid data\u001b[0m\u001b[0;34m\u001b[0m\u001b[0;34m\u001b[0m\u001b[0;34m\u001b[0m\u001b[0m\n",
            "\u001b[0;32m/usr/local/lib/python3.8/dist-packages/pandas/core/frame.py\u001b[0m in \u001b[0;36m__init__\u001b[0;34m(self, data, index, columns, dtype, copy)\u001b[0m\n\u001b[1;32m    612\u001b[0m         \u001b[0;32melif\u001b[0m \u001b[0misinstance\u001b[0m\u001b[0;34m(\u001b[0m\u001b[0mdata\u001b[0m\u001b[0;34m,\u001b[0m \u001b[0mdict\u001b[0m\u001b[0;34m)\u001b[0m\u001b[0;34m:\u001b[0m\u001b[0;34m\u001b[0m\u001b[0;34m\u001b[0m\u001b[0m\n\u001b[1;32m    613\u001b[0m             \u001b[0;31m# GH#38939 de facto copy defaults to False only in non-dict cases\u001b[0m\u001b[0;34m\u001b[0m\u001b[0;34m\u001b[0m\u001b[0;34m\u001b[0m\u001b[0m\n\u001b[0;32m--> 614\u001b[0;31m             \u001b[0mmgr\u001b[0m \u001b[0;34m=\u001b[0m \u001b[0mdict_to_mgr\u001b[0m\u001b[0;34m(\u001b[0m\u001b[0mdata\u001b[0m\u001b[0;34m,\u001b[0m \u001b[0mindex\u001b[0m\u001b[0;34m,\u001b[0m \u001b[0mcolumns\u001b[0m\u001b[0;34m,\u001b[0m \u001b[0mdtype\u001b[0m\u001b[0;34m=\u001b[0m\u001b[0mdtype\u001b[0m\u001b[0;34m,\u001b[0m \u001b[0mcopy\u001b[0m\u001b[0;34m=\u001b[0m\u001b[0mcopy\u001b[0m\u001b[0;34m,\u001b[0m \u001b[0mtyp\u001b[0m\u001b[0;34m=\u001b[0m\u001b[0mmanager\u001b[0m\u001b[0;34m)\u001b[0m\u001b[0;34m\u001b[0m\u001b[0;34m\u001b[0m\u001b[0m\n\u001b[0m\u001b[1;32m    615\u001b[0m         \u001b[0;32melif\u001b[0m \u001b[0misinstance\u001b[0m\u001b[0;34m(\u001b[0m\u001b[0mdata\u001b[0m\u001b[0;34m,\u001b[0m \u001b[0mma\u001b[0m\u001b[0;34m.\u001b[0m\u001b[0mMaskedArray\u001b[0m\u001b[0;34m)\u001b[0m\u001b[0;34m:\u001b[0m\u001b[0;34m\u001b[0m\u001b[0;34m\u001b[0m\u001b[0m\n\u001b[1;32m    616\u001b[0m             \u001b[0;32mimport\u001b[0m \u001b[0mnumpy\u001b[0m\u001b[0;34m.\u001b[0m\u001b[0mma\u001b[0m\u001b[0;34m.\u001b[0m\u001b[0mmrecords\u001b[0m \u001b[0;32mas\u001b[0m \u001b[0mmrecords\u001b[0m\u001b[0;34m\u001b[0m\u001b[0;34m\u001b[0m\u001b[0m\n",
            "\u001b[0;32m/usr/local/lib/python3.8/dist-packages/pandas/core/internals/construction.py\u001b[0m in \u001b[0;36mdict_to_mgr\u001b[0;34m(data, index, columns, dtype, typ, copy)\u001b[0m\n\u001b[1;32m    462\u001b[0m         \u001b[0;31m# TODO: can we get rid of the dt64tz special case above?\u001b[0m\u001b[0;34m\u001b[0m\u001b[0;34m\u001b[0m\u001b[0;34m\u001b[0m\u001b[0m\n\u001b[1;32m    463\u001b[0m \u001b[0;34m\u001b[0m\u001b[0m\n\u001b[0;32m--> 464\u001b[0;31m     return arrays_to_mgr(\n\u001b[0m\u001b[1;32m    465\u001b[0m         \u001b[0marrays\u001b[0m\u001b[0;34m,\u001b[0m \u001b[0mdata_names\u001b[0m\u001b[0;34m,\u001b[0m \u001b[0mindex\u001b[0m\u001b[0;34m,\u001b[0m \u001b[0mcolumns\u001b[0m\u001b[0;34m,\u001b[0m \u001b[0mdtype\u001b[0m\u001b[0;34m=\u001b[0m\u001b[0mdtype\u001b[0m\u001b[0;34m,\u001b[0m \u001b[0mtyp\u001b[0m\u001b[0;34m=\u001b[0m\u001b[0mtyp\u001b[0m\u001b[0;34m,\u001b[0m \u001b[0mconsolidate\u001b[0m\u001b[0;34m=\u001b[0m\u001b[0mcopy\u001b[0m\u001b[0;34m\u001b[0m\u001b[0;34m\u001b[0m\u001b[0m\n\u001b[1;32m    466\u001b[0m     )\n",
            "\u001b[0;32m/usr/local/lib/python3.8/dist-packages/pandas/core/internals/construction.py\u001b[0m in \u001b[0;36marrays_to_mgr\u001b[0;34m(arrays, arr_names, index, columns, dtype, verify_integrity, typ, consolidate)\u001b[0m\n\u001b[1;32m    122\u001b[0m \u001b[0;34m\u001b[0m\u001b[0m\n\u001b[1;32m    123\u001b[0m         \u001b[0;31m# don't force copy because getting jammed in an ndarray anyway\u001b[0m\u001b[0;34m\u001b[0m\u001b[0;34m\u001b[0m\u001b[0;34m\u001b[0m\u001b[0m\n\u001b[0;32m--> 124\u001b[0;31m         \u001b[0marrays\u001b[0m \u001b[0;34m=\u001b[0m \u001b[0m_homogenize\u001b[0m\u001b[0;34m(\u001b[0m\u001b[0marrays\u001b[0m\u001b[0;34m,\u001b[0m \u001b[0mindex\u001b[0m\u001b[0;34m,\u001b[0m \u001b[0mdtype\u001b[0m\u001b[0;34m)\u001b[0m\u001b[0;34m\u001b[0m\u001b[0;34m\u001b[0m\u001b[0m\n\u001b[0m\u001b[1;32m    125\u001b[0m \u001b[0;34m\u001b[0m\u001b[0m\n\u001b[1;32m    126\u001b[0m     \u001b[0;32melse\u001b[0m\u001b[0;34m:\u001b[0m\u001b[0;34m\u001b[0m\u001b[0;34m\u001b[0m\u001b[0m\n",
            "\u001b[0;32m/usr/local/lib/python3.8/dist-packages/pandas/core/internals/construction.py\u001b[0m in \u001b[0;36m_homogenize\u001b[0;34m(data, index, dtype)\u001b[0m\n\u001b[1;32m    587\u001b[0m                 \u001b[0mval\u001b[0m \u001b[0;34m=\u001b[0m \u001b[0mlib\u001b[0m\u001b[0;34m.\u001b[0m\u001b[0mfast_multiget\u001b[0m\u001b[0;34m(\u001b[0m\u001b[0mval\u001b[0m\u001b[0;34m,\u001b[0m \u001b[0moindex\u001b[0m\u001b[0;34m.\u001b[0m\u001b[0m_values\u001b[0m\u001b[0;34m,\u001b[0m \u001b[0mdefault\u001b[0m\u001b[0;34m=\u001b[0m\u001b[0mnp\u001b[0m\u001b[0;34m.\u001b[0m\u001b[0mnan\u001b[0m\u001b[0;34m)\u001b[0m\u001b[0;34m\u001b[0m\u001b[0;34m\u001b[0m\u001b[0m\n\u001b[1;32m    588\u001b[0m \u001b[0;34m\u001b[0m\u001b[0m\n\u001b[0;32m--> 589\u001b[0;31m             val = sanitize_array(\n\u001b[0m\u001b[1;32m    590\u001b[0m                 \u001b[0mval\u001b[0m\u001b[0;34m,\u001b[0m \u001b[0mindex\u001b[0m\u001b[0;34m,\u001b[0m \u001b[0mdtype\u001b[0m\u001b[0;34m=\u001b[0m\u001b[0mdtype\u001b[0m\u001b[0;34m,\u001b[0m \u001b[0mcopy\u001b[0m\u001b[0;34m=\u001b[0m\u001b[0;32mFalse\u001b[0m\u001b[0;34m,\u001b[0m \u001b[0mraise_cast_failure\u001b[0m\u001b[0;34m=\u001b[0m\u001b[0;32mFalse\u001b[0m\u001b[0;34m\u001b[0m\u001b[0;34m\u001b[0m\u001b[0m\n\u001b[1;32m    591\u001b[0m             )\n",
            "\u001b[0;32m/usr/local/lib/python3.8/dist-packages/pandas/core/construction.py\u001b[0m in \u001b[0;36msanitize_array\u001b[0;34m(data, index, dtype, copy, raise_cast_failure, allow_2d)\u001b[0m\n\u001b[1;32m    574\u001b[0m                 \u001b[0msubarr\u001b[0m \u001b[0;34m=\u001b[0m \u001b[0mmaybe_infer_to_datetimelike\u001b[0m\u001b[0;34m(\u001b[0m\u001b[0msubarr\u001b[0m\u001b[0;34m)\u001b[0m\u001b[0;34m\u001b[0m\u001b[0;34m\u001b[0m\u001b[0m\n\u001b[1;32m    575\u001b[0m \u001b[0;34m\u001b[0m\u001b[0m\n\u001b[0;32m--> 576\u001b[0;31m     \u001b[0msubarr\u001b[0m \u001b[0;34m=\u001b[0m \u001b[0m_sanitize_ndim\u001b[0m\u001b[0;34m(\u001b[0m\u001b[0msubarr\u001b[0m\u001b[0;34m,\u001b[0m \u001b[0mdata\u001b[0m\u001b[0;34m,\u001b[0m \u001b[0mdtype\u001b[0m\u001b[0;34m,\u001b[0m \u001b[0mindex\u001b[0m\u001b[0;34m,\u001b[0m \u001b[0mallow_2d\u001b[0m\u001b[0;34m=\u001b[0m\u001b[0mallow_2d\u001b[0m\u001b[0;34m)\u001b[0m\u001b[0;34m\u001b[0m\u001b[0;34m\u001b[0m\u001b[0m\n\u001b[0m\u001b[1;32m    577\u001b[0m \u001b[0;34m\u001b[0m\u001b[0m\n\u001b[1;32m    578\u001b[0m     \u001b[0;32mif\u001b[0m \u001b[0misinstance\u001b[0m\u001b[0;34m(\u001b[0m\u001b[0msubarr\u001b[0m\u001b[0;34m,\u001b[0m \u001b[0mnp\u001b[0m\u001b[0;34m.\u001b[0m\u001b[0mndarray\u001b[0m\u001b[0;34m)\u001b[0m\u001b[0;34m:\u001b[0m\u001b[0;34m\u001b[0m\u001b[0;34m\u001b[0m\u001b[0m\n",
            "\u001b[0;32m/usr/local/lib/python3.8/dist-packages/pandas/core/construction.py\u001b[0m in \u001b[0;36m_sanitize_ndim\u001b[0;34m(result, data, dtype, index, allow_2d)\u001b[0m\n\u001b[1;32m    625\u001b[0m             \u001b[0;32mif\u001b[0m \u001b[0mallow_2d\u001b[0m\u001b[0;34m:\u001b[0m\u001b[0;34m\u001b[0m\u001b[0;34m\u001b[0m\u001b[0m\n\u001b[1;32m    626\u001b[0m                 \u001b[0;32mreturn\u001b[0m \u001b[0mresult\u001b[0m\u001b[0;34m\u001b[0m\u001b[0;34m\u001b[0m\u001b[0m\n\u001b[0;32m--> 627\u001b[0;31m             \u001b[0;32mraise\u001b[0m \u001b[0mValueError\u001b[0m\u001b[0;34m(\u001b[0m\u001b[0;34m\"Data must be 1-dimensional\"\u001b[0m\u001b[0;34m)\u001b[0m\u001b[0;34m\u001b[0m\u001b[0;34m\u001b[0m\u001b[0m\n\u001b[0m\u001b[1;32m    628\u001b[0m         \u001b[0;32mif\u001b[0m \u001b[0mis_object_dtype\u001b[0m\u001b[0;34m(\u001b[0m\u001b[0mdtype\u001b[0m\u001b[0;34m)\u001b[0m \u001b[0;32mand\u001b[0m \u001b[0misinstance\u001b[0m\u001b[0;34m(\u001b[0m\u001b[0mdtype\u001b[0m\u001b[0;34m,\u001b[0m \u001b[0mExtensionDtype\u001b[0m\u001b[0;34m)\u001b[0m\u001b[0;34m:\u001b[0m\u001b[0;34m\u001b[0m\u001b[0;34m\u001b[0m\u001b[0m\n\u001b[1;32m    629\u001b[0m             \u001b[0;31m# i.e. PandasDtype(\"O\")\u001b[0m\u001b[0;34m\u001b[0m\u001b[0;34m\u001b[0m\u001b[0;34m\u001b[0m\u001b[0m\n",
            "\u001b[0;31mValueError\u001b[0m: Data must be 1-dimensional"
          ]
        }
      ],
      "source": [
        "rmse = np.sqrt(mean_squared_error(target_test, target_pred))\n",
        "print(\"Root Mean Squared Error:\", rmse)\n",
        "mae = mean_absolute_error(target_test, target_pred)\n",
        "print('Mean Absolute Error:',mae)"
      ]
    },
    {
      "cell_type": "code",
      "execution_count": 40,
      "metadata": {
        "colab": {
          "base_uri": "https://localhost:8080/",
          "height": 284
        },
        "id": "_Fduymkob9Y-",
        "outputId": "a8c98b15-274d-4c41-8bf8-bd2dbf3b6bec"
      },
      "outputs": [
        {
          "name": "stdout",
          "output_type": "stream",
          "text": [
            "Train: 0.082, Test: 0.462\n"
          ]
        },
        {
          "data": {
            "image/png": "[encoded data removed]",
            "text/plain": [
              "<Figure size 432x288 with 1 Axes>"
            ]
          },
          "metadata": {
            "needs_background": "light"
          },
          "output_type": "display_data"
        }
      ],
      "source": [
        "# evaluate the model\n",
        "_, train_acc = model.evaluate(features_train, target_train, verbose=0)\n",
        "_, test_acc = model.evaluate(features_test, target_test, verbose=0)\n",
        "print('Train: %.3f, Test: %.3f' % (train_acc, test_acc))\n",
        "# plot training history\n",
        "plt.plot(history.history['loss'], label='train')\n",
        "plt.plot(history.history['val_loss'], label='test')\n",
        "plt.legend()\n",
        "plt.show()"
      ]
    },
    {
      "cell_type": "code",
      "execution_count": null,
      "metadata": {
        "id": "B_M5Qu0QpA8a"
      },
      "outputs": [],
      "source": [
        "from keras import backend as K\n",
        "def r2_score(y_test, y_pred):\n",
        "    SS_res =  K.sum(K.square(y_test-y_pred )) \n",
        "    SS_tot = K.sum(K.square( y_test - K.mean(y_test) ) ) \n",
        "    return ( 1 - SS_res/(SS_tot) )"
      ]
    },
    {
      "cell_type": "code",
      "execution_count": null,
      "metadata": {
        "colab": {
          "base_uri": "https://localhost:8080/"
        },
        "id": "5r7siVvCpNC5",
        "outputId": "af8a4380-4370-4a20-b088-ef588a7a5beb"
      },
      "outputs": [
        {
          "name": "stdout",
          "output_type": "stream",
          "text": [
            "-662466.25\n"
          ]
        }
      ],
      "source": [
        "# current result\n",
        "print(K.get_value(r2_score(K.constant(target_test), target_pred)))"
      ]
    },
    {
      "attachments": {},
      "cell_type": "markdown",
      "metadata": {
        "id": "BQVRYBCMgsic"
      },
      "source": [
        "#### With log transformation"
      ]
    },
    {
      "cell_type": "code",
      "execution_count": null,
      "metadata": {
        "id": "JCCmAM52grZv"
      },
      "outputs": [],
      "source": [
        "model = Sequential()\n",
        "model.add(Dense(units = 512 ,kernel_initializer = 'normal', activation = 'relu', input_dim = 108229))\n",
        "model.add(Dense(256, kernel_initializer='normal', activation = 'relu'))\n",
        "model.add(Dense(256, kernel_initializer='normal', activation = 'relu'))\n",
        "model.add(Dense(128, kernel_initializer='normal', activation = 'relu'))\n",
        "model.add(Dense(1, kernel_initializer='normal',activation='linear'))\n",
        "# Compiling my model:\n",
        "model.compile(loss='mean_squared_error', optimizer='adam', metrics=['mae'])"
      ]
    },
    {
      "cell_type": "code",
      "execution_count": null,
      "metadata": {
        "id": "a1zxI300hG-T"
      },
      "outputs": [],
      "source": [
        "# model = TransformedTargetRegressor(model, func = np.log1p, inverse_func=np.expm1)\n",
        "es =  EarlyStopping(monitor='val_loss', mode='min', verbose=1, patience=200)\n",
        "%time history = model.fit(features_train.toarray(), np.log1p(target_train), validation_data=(features_test.toarray(), np.log1p(target_test)), epochs=20, verbose=2, callbacks=[es])"
      ]
    },
    {
      "cell_type": "code",
      "execution_count": null,
      "metadata": {
        "colab": {
          "base_uri": "https://localhost:8080/"
        },
        "id": "Za8qJmiOAvK7",
        "outputId": "ceffbfc8-895b-4782-b6bd-e87d7d40a2e7"
      },
      "outputs": [
        {
          "name": "stdout",
          "output_type": "stream",
          "text": [
            "67/67 [==============================] - 2s 31ms/step\n"
          ]
        }
      ],
      "source": [
        "target_pred = np.expm1(model.predict(features_test.toarray()))"
      ]
    },
    {
      "cell_type": "code",
      "execution_count": null,
      "metadata": {
        "colab": {
          "base_uri": "https://localhost:8080/"
        },
        "id": "8A8pPCrgidvl",
        "outputId": "2812dab4-a5e4-46d3-b083-b53341c65891"
      },
      "outputs": [
        {
          "name": "stdout",
          "output_type": "stream",
          "text": [
            "Root Mean Squared Error: 34.60429151556747\n",
            "Mean Absolute Error: 11.950360794118703\n"
          ]
        }
      ],
      "source": [
        "# print('Model Performance')\n",
        "rmse = np.sqrt(mean_squared_error(target_test, target_pred))\n",
        "print(\"Root Mean Squared Error:\", rmse)\n",
        "mae = mean_absolute_error(target_test, target_pred)\n",
        "print('Mean Absolute Error:',mae)"
      ]
    },
    {
      "cell_type": "markdown",
      "metadata": {
        "id": "R-VS9YMdEeIl"
      },
      "source": [
        "# Pipeline"
      ]
    },
    {
      "cell_type": "code",
      "execution_count": 30,
      "metadata": {
        "id": "9ISk3TLMTKzC"
      },
      "outputs": [],
      "source": [
        "from sklearn.preprocessing import FunctionTransformer\n",
        "from sklearn.feature_extraction.text import TfidfVectorizer\n",
        "from sklearn.pipeline import Pipeline\n",
        "from sklearn.preprocessing import MinMaxScaler, OneHotEncoder\n",
        "from sklearn.compose import ColumnTransformer"
      ]
    },
    {
      "cell_type": "code",
      "execution_count": 31,
      "metadata": {
        "id": "8FsJyANHNvs_"
      },
      "outputs": [],
      "source": [
        "from sklearn.preprocessing import FunctionTransformer\n",
        "\n",
        "def text_transform(df):\n",
        "    df['description'] = df['description'].apply(porter.stem)\n",
        "    df['description'] = df['description'].apply(remove_punctuation)\n",
        "    df['description'] = df['description'].apply(remove_stop_words)\n",
        "    df['description'] = df['description'].apply(to_lower)\n",
        "    return df"
      ]
    },
    {
      "cell_type": "code",
      "execution_count": 32,
      "metadata": {
        "id": "IWPH4XCrOl_I"
      },
      "outputs": [],
      "source": [
        "TextProcessor_1 = Pipeline(steps=[\n",
        "    ('clean', FunctionTransformer(text_transform)),\n",
        "    (\"squeez\", FunctionTransformer(lambda x: x.squeeze())),\n",
        "    (\"tfidf\", TfidfVectorizer(max_features=55000, ngram_range=(1, 2), stop_words='english')),\n",
        "    (\"toarray\", FunctionTransformer(lambda x: x.toarray())),\n",
        "])\n",
        "\n",
        "TextProcessor_2 = Pipeline(steps=[\n",
        "    (\"squeez\", FunctionTransformer(lambda x: x.squeeze())),\n",
        "    (\"tfidf\", TfidfVectorizer(max_features=55000, ngram_range=(1, 2), stop_words='english')),\n",
        "    (\"toarray\", FunctionTransformer(lambda x: x.toarray())),\n",
        "])\n",
        "\n",
        "num_transformer = Pipeline(steps=[\n",
        "    ('scaler', MinMaxScaler())\n",
        "])\n",
        "cat_transformer = Pipeline(steps=[\n",
        "    ('one-hot', OneHotEncoder())\n",
        "])\n",
        "preprocessor = ColumnTransformer(transformers=[\n",
        "    ('text_1', TextProcessor_1, ['description']),\n",
        "    ('text_2', TextProcessor_2, ['product_name']),\n",
        "    ('num', num_transformer, ['number_of_answered_questions', 'in_stock_num']),\n",
        "    ('one-hot', cat_transformer, ['manufacturer', 'in_stock_type', 'category_1', 'category_2'])\n",
        "])"
      ]
    },
    {
      "cell_type": "code",
      "execution_count": 33,
      "metadata": {
        "id": "2B99-TsUUidK"
      },
      "outputs": [],
      "source": [
        "X = df[['product_name', 'description', 'number_of_answered_questions', 'in_stock_num', 'manufacturer', 'in_stock_type', 'category_1', 'category_2']]"
      ]
    },
    {
      "cell_type": "code",
      "execution_count": 34,
      "metadata": {
        "id": "IVXJPx36SgvE"
      },
      "outputs": [],
      "source": [
        "X = preprocessor.fit_transform(X)"
      ]
    },
    {
      "cell_type": "code",
      "execution_count": 35,
      "metadata": {
        "id": "6j3Fy5jCYiMt"
      },
      "outputs": [],
      "source": [
        "X = csr_matrix(X)"
      ]
    },
    {
      "cell_type": "code",
      "execution_count": 36,
      "metadata": {
        "id": "luPH_SjDVN4L"
      },
      "outputs": [],
      "source": [
        "y = df['price_1']"
      ]
    },
    {
      "cell_type": "code",
      "execution_count": 37,
      "metadata": {
        "colab": {
          "base_uri": "https://localhost:8080/"
        },
        "id": "K38k-9ntVANs",
        "outputId": "d43c64c8-d33d-4616-da36-dc574588109b"
      },
      "outputs": [
        {
          "name": "stdout",
          "output_type": "stream",
          "text": [
            "Train df shape: (6410, 108229)\n",
            "Test df shape: (2137, 108229)\n"
          ]
        }
      ],
      "source": [
        "X_train, X_test, y_train, y_test = train_test_split(X, y, test_size=0.25, random_state=42)\n",
        "\n",
        "print(\"Train df shape:\", X_train.shape)\n",
        "print(\"Test df shape:\", X_test.shape)"
      ]
    },
    {
      "cell_type": "code",
      "execution_count": 38,
      "metadata": {
        "colab": {
          "base_uri": "https://localhost:8080/"
        },
        "id": "Tp_VLQx0VzGI",
        "outputId": "316cabab-b29f-422e-bab0-008dfe9761a1"
      },
      "outputs": [
        {
          "name": "stdout",
          "output_type": "stream",
          "text": [
            "CPU times: user 5min 3s, sys: 2.84 s, total: 5min 6s\n",
            "Wall time: 1min 53s\n"
          ]
        },
        {
          "data": {
            "text/plain": [
              "TransformedTargetRegressor(func=<ufunc 'log1p'>, inverse_func=<ufunc 'expm1'>,\n",
              "                           regressor=XGBRegressor(base_score=None, booster=None,\n",
              "                                                  callbacks=None,\n",
              "                                                  colsample_bylevel=None,\n",
              "                                                  colsample_bynode=None,\n",
              "                                                  colsample_bytree=1,\n",
              "                                                  early_stopping_rounds=None,\n",
              "                                                  enable_categorical=False,\n",
              "                                                  eval_metric=None, gamma=0,\n",
              "                                                  gpu_id=None, grow_policy=None,\n",
              "                                                  importance_type=None,\n",
              "                                                  interaction_constraints=None,\n",
              "                                                  learning_rate=0.1,\n",
              "                                                  max_bin=None,\n",
              "                                                  max_cat_to_onehot=None,\n",
              "                                                  max_delta_step=None,\n",
              "                                                  max_depth=7, max_leaves=None,\n",
              "                                                  min_child_weight=None,\n",
              "                                                  missing=nan,\n",
              "                                                  monotone_constraints=None,\n",
              "                                                  n_estimators=1000,\n",
              "                                                  n_jobs=None,\n",
              "                                                  num_parallel_tree=None,\n",
              "                                                  predictor=None,\n",
              "                                                  random_state=None,\n",
              "                                                  reg_alpha=None,\n",
              "                                                  reg_lambda=None, ...))"
            ]
          },
          "execution_count": 38,
          "metadata": {},
          "output_type": "execute_result"
        }
      ],
      "source": [
        "# from xgboost.sklearn import XGBRegressor\n",
        "import xgboost as xgb\n",
        "\n",
        "xgboost = xgb.XGBRegressor(\n",
        "    # tree_method = \"gpu_hist\", \n",
        "    objective='reg:squarederror',\n",
        "    n_estimators=1000,\n",
        "    learning_rate=0.1,\n",
        "    subsample=0.5,\n",
        "    colsample_bytree=1, \n",
        "    max_depth=7,\n",
        "    gamma=0,\n",
        ")\n",
        "log_xgboost = TransformedTargetRegressor(xgboost, func = np.log1p, inverse_func=np.expm1)\n",
        "%time log_xgboost.fit(X_train, y_train)"
      ]
    },
    {
      "cell_type": "code",
      "execution_count": 40,
      "metadata": {},
      "outputs": [],
      "source": [
        "import dill as pickle\n",
        "with open('preprocessor.pkl', 'wb') as file:\n",
        "    pickle.dump(preprocessor, file)"
      ]
    },
    {
      "cell_type": "code",
      "execution_count": null,
      "metadata": {},
      "outputs": [],
      "source": [
        "import dill as pickle\n",
        "with open('log_xgboost.pkl', 'wb') as file:\n",
        "    pickle.dump(log_xgboost, file)"
      ]
    }
  ],
  "metadata": {
    "colab": {
      "collapsed_sections": [
        "8MKTDZURI-0n"
      ],
      "provenance": []
    },
    "gpuClass": "premium",
    "kernelspec": {
      "display_name": "mlenv",
      "language": "python",
      "name": "python3"
    },
    "language_info": {
      "codemirror_mode": {
        "name": "ipython",
        "version": 3
      },
      "file_extension": ".py",
      "mimetype": "text/x-python",
      "name": "python",
      "nbconvert_exporter": "python",
      "pygments_lexer": "ipython3",
      "version": "3.9.12"
    },
    "vscode": {
      "interpreter": {
        "hash": "435c0f9b4b989c95d3db1d180d9a21b950c99dfcb596bbd0bd4be048be3d8725"
      }
    }
  },
  "nbformat": 4,
  "nbformat_minor": 0
}
