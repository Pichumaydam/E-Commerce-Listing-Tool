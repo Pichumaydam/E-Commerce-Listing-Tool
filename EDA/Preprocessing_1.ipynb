{
 "cells": [
  {
   "cell_type": "code",
   "execution_count": 1,
   "metadata": {},
   "outputs": [],
   "source": [
    "import numpy as np\n",
    "import pandas as pd\n",
    "import seaborn as sns\n",
    "import matplotlib.pyplot as plt\n",
    "pd.set_option('display.max_rows', 500)\n",
    "pd.set_option('display.max_columns', 500)\n",
    "pd.set_option('display.width', 1000)\n",
    "pd.set_option('display.expand_frame_repr', False)"
   ]
  },
  {
   "cell_type": "code",
   "execution_count": 5,
   "metadata": {},
   "outputs": [],
   "source": [
    "df = pd.read_csv('/Users/may/Desktop/Applied/Walmart Bootcamp/Capstone Project/online_retail_co_ecommerce.csv')"
   ]
  },
  {
   "cell_type": "code",
   "execution_count": 6,
   "metadata": {},
   "outputs": [
    {
     "name": "stdout",
     "output_type": "stream",
     "text": [
      "<class 'pandas.core.frame.DataFrame'>\n",
      "RangeIndex: 10000 entries, 0 to 9999\n",
      "Data columns (total 18 columns):\n",
      " #   Column                                       Non-Null Count  Dtype  \n",
      "---  ------                                       --------------  -----  \n",
      " 0   Unnamed: 0                                   10000 non-null  int64  \n",
      " 1   uniq_id                                      10000 non-null  object \n",
      " 2   product_name                                 10000 non-null  object \n",
      " 3   manufacturer                                 9993 non-null   object \n",
      " 4   price                                        8565 non-null   object \n",
      " 5   number_available_in_stock                    7500 non-null   object \n",
      " 6   number_of_reviews                            9982 non-null   object \n",
      " 7   number_of_answered_questions                 9235 non-null   float64\n",
      " 8   average_review_rating                        9982 non-null   object \n",
      " 9   category_and_sub_category                    9310 non-null   object \n",
      " 10  customers_who_bought_this_item_also_bought   8938 non-null   object \n",
      " 11  description                                  9349 non-null   object \n",
      " 12  product_information                          9942 non-null   object \n",
      " 13  product_description                          9349 non-null   object \n",
      " 14  items_customers_buy_after_viewing_this_item  6935 non-null   object \n",
      " 15  customer_questions_and_answers               914 non-null    object \n",
      " 16  customer_reviews                             9979 non-null   object \n",
      " 17  sellers                                      6918 non-null   object \n",
      "dtypes: float64(1), int64(1), object(16)\n",
      "memory usage: 1.4+ MB\n"
     ]
    }
   ],
   "source": [
    "df.info()"
   ]
  },
  {
   "attachments": {},
   "cell_type": "markdown",
   "metadata": {},
   "source": [
    "# Data Cleaning"
   ]
  },
  {
   "attachments": {},
   "cell_type": "markdown",
   "metadata": {},
   "source": [
    "### Rating"
   ]
  },
  {
   "cell_type": "code",
   "execution_count": 7,
   "metadata": {},
   "outputs": [],
   "source": [
    "df['rating'] = df['average_review_rating'].apply(lambda x: x if type(x)==float else float(x[:3])) # if not nan return first three characters "
   ]
  },
  {
   "cell_type": "code",
   "execution_count": 9,
   "metadata": {},
   "outputs": [
    {
     "data": {
      "text/html": [
       "<div>\n",
       "<style scoped>\n",
       "    .dataframe tbody tr th:only-of-type {\n",
       "        vertical-align: middle;\n",
       "    }\n",
       "\n",
       "    .dataframe tbody tr th {\n",
       "        vertical-align: top;\n",
       "    }\n",
       "\n",
       "    .dataframe thead th {\n",
       "        text-align: right;\n",
       "    }\n",
       "</style>\n",
       "<table border=\"1\" class=\"dataframe\">\n",
       "  <thead>\n",
       "    <tr style=\"text-align: right;\">\n",
       "      <th></th>\n",
       "      <th>average_review_rating</th>\n",
       "      <th>rating</th>\n",
       "    </tr>\n",
       "  </thead>\n",
       "  <tbody>\n",
       "    <tr>\n",
       "      <th>0</th>\n",
       "      <td>4.9 out of 5 stars</td>\n",
       "      <td>4.9</td>\n",
       "    </tr>\n",
       "    <tr>\n",
       "      <th>1</th>\n",
       "      <td>4.5 out of 5 stars</td>\n",
       "      <td>4.5</td>\n",
       "    </tr>\n",
       "    <tr>\n",
       "      <th>2</th>\n",
       "      <td>3.9 out of 5 stars</td>\n",
       "      <td>3.9</td>\n",
       "    </tr>\n",
       "    <tr>\n",
       "      <th>3</th>\n",
       "      <td>5.0 out of 5 stars</td>\n",
       "      <td>5.0</td>\n",
       "    </tr>\n",
       "    <tr>\n",
       "      <th>4</th>\n",
       "      <td>4.7 out of 5 stars</td>\n",
       "      <td>4.7</td>\n",
       "    </tr>\n",
       "  </tbody>\n",
       "</table>\n",
       "</div>"
      ],
      "text/plain": [
       "  average_review_rating  rating\n",
       "0    4.9 out of 5 stars     4.9\n",
       "1    4.5 out of 5 stars     4.5\n",
       "2    3.9 out of 5 stars     3.9\n",
       "3    5.0 out of 5 stars     5.0\n",
       "4    4.7 out of 5 stars     4.7"
      ]
     },
     "execution_count": 9,
     "metadata": {},
     "output_type": "execute_result"
    }
   ],
   "source": [
    "df[['average_review_rating', 'rating']].head()"
   ]
  },
  {
   "attachments": {},
   "cell_type": "markdown",
   "metadata": {},
   "source": [
    "### Price"
   ]
  },
  {
   "cell_type": "markdown",
   "metadata": {},
   "source": [
    "price there are 18 rows with '-' as a range"
   ]
  },
  {
   "cell_type": "code",
   "execution_count": 10,
   "metadata": {},
   "outputs": [
    {
     "data": {
      "text/plain": [
       "18"
      ]
     },
     "execution_count": 10,
     "metadata": {},
     "output_type": "execute_result"
    }
   ],
   "source": [
    "df['price'].str.contains('-').sum()"
   ]
  },
  {
   "cell_type": "code",
   "execution_count": 11,
   "metadata": {},
   "outputs": [],
   "source": [
    "def transform_price(x):\n",
    "    if type(x) == float: # if price is nan return itself\n",
    "        return x\n",
    "    if '-' in x: # if price is range return nan\n",
    "        return np.nan\n",
    "    return float(x.replace('£','').replace(',','')) # remove £ and , return float"
   ]
  },
  {
   "cell_type": "code",
   "execution_count": 12,
   "metadata": {},
   "outputs": [],
   "source": [
    "df['price_1'] = df['price'].apply(lambda x: transform_price(x))"
   ]
  },
  {
   "cell_type": "code",
   "execution_count": 13,
   "metadata": {},
   "outputs": [
    {
     "data": {
      "text/html": [
       "<div>\n",
       "<style scoped>\n",
       "    .dataframe tbody tr th:only-of-type {\n",
       "        vertical-align: middle;\n",
       "    }\n",
       "\n",
       "    .dataframe tbody tr th {\n",
       "        vertical-align: top;\n",
       "    }\n",
       "\n",
       "    .dataframe thead th {\n",
       "        text-align: right;\n",
       "    }\n",
       "</style>\n",
       "<table border=\"1\" class=\"dataframe\">\n",
       "  <thead>\n",
       "    <tr style=\"text-align: right;\">\n",
       "      <th></th>\n",
       "      <th>price</th>\n",
       "      <th>price_1</th>\n",
       "    </tr>\n",
       "  </thead>\n",
       "  <tbody>\n",
       "    <tr>\n",
       "      <th>0</th>\n",
       "      <td>£3.42</td>\n",
       "      <td>3.42</td>\n",
       "    </tr>\n",
       "    <tr>\n",
       "      <th>1</th>\n",
       "      <td>£16.99</td>\n",
       "      <td>16.99</td>\n",
       "    </tr>\n",
       "    <tr>\n",
       "      <th>2</th>\n",
       "      <td>£9.99</td>\n",
       "      <td>9.99</td>\n",
       "    </tr>\n",
       "    <tr>\n",
       "      <th>3</th>\n",
       "      <td>£39.99</td>\n",
       "      <td>39.99</td>\n",
       "    </tr>\n",
       "    <tr>\n",
       "      <th>4</th>\n",
       "      <td>£32.19</td>\n",
       "      <td>32.19</td>\n",
       "    </tr>\n",
       "    <tr>\n",
       "      <th>...</th>\n",
       "      <td>...</td>\n",
       "      <td>...</td>\n",
       "    </tr>\n",
       "    <tr>\n",
       "      <th>9995</th>\n",
       "      <td>£22.95</td>\n",
       "      <td>22.95</td>\n",
       "    </tr>\n",
       "    <tr>\n",
       "      <th>9996</th>\n",
       "      <td>£39.99</td>\n",
       "      <td>39.99</td>\n",
       "    </tr>\n",
       "    <tr>\n",
       "      <th>9997</th>\n",
       "      <td>£43.99</td>\n",
       "      <td>43.99</td>\n",
       "    </tr>\n",
       "    <tr>\n",
       "      <th>9998</th>\n",
       "      <td>£49.81</td>\n",
       "      <td>49.81</td>\n",
       "    </tr>\n",
       "    <tr>\n",
       "      <th>9999</th>\n",
       "      <td>£21.20</td>\n",
       "      <td>21.20</td>\n",
       "    </tr>\n",
       "  </tbody>\n",
       "</table>\n",
       "<p>10000 rows × 2 columns</p>\n",
       "</div>"
      ],
      "text/plain": [
       "       price  price_1\n",
       "0      £3.42     3.42\n",
       "1     £16.99    16.99\n",
       "2      £9.99     9.99\n",
       "3     £39.99    39.99\n",
       "4     £32.19    32.19\n",
       "...      ...      ...\n",
       "9995  £22.95    22.95\n",
       "9996  £39.99    39.99\n",
       "9997  £43.99    43.99\n",
       "9998  £49.81    49.81\n",
       "9999  £21.20    21.20\n",
       "\n",
       "[10000 rows x 2 columns]"
      ]
     },
     "execution_count": 13,
     "metadata": {},
     "output_type": "execute_result"
    }
   ],
   "source": [
    "df[['price', 'price_1']]"
   ]
  },
  {
   "attachments": {},
   "cell_type": "markdown",
   "metadata": {},
   "source": [
    "### Categories"
   ]
  },
  {
   "cell_type": "markdown",
   "metadata": {},
   "source": [
    "category_and_sub_category: 690 nan; other could be a list of 4,2,3,5"
   ]
  },
  {
   "cell_type": "code",
   "execution_count": 16,
   "metadata": {},
   "outputs": [
    {
     "data": {
      "text/plain": [
       "690"
      ]
     },
     "execution_count": 16,
     "metadata": {},
     "output_type": "execute_result"
    }
   ],
   "source": [
    "df['category_and_sub_category'].isna().sum()"
   ]
  },
  {
   "cell_type": "code",
   "execution_count": 14,
   "metadata": {},
   "outputs": [],
   "source": [
    "df['category_and_sub_category'] = df['category_and_sub_category'].str.split(' > ') # spplit category using ' > ' return a list"
   ]
  },
  {
   "cell_type": "code",
   "execution_count": 15,
   "metadata": {},
   "outputs": [
    {
     "data": {
      "text/plain": [
       "array([4, 2, 3, 5])"
      ]
     },
     "execution_count": 15,
     "metadata": {},
     "output_type": "execute_result"
    }
   ],
   "source": [
    "df[df['category_and_sub_category'].map(lambda x: type(x)==list)]['category_and_sub_category'].apply(lambda x: len(x)).unique()"
   ]
  },
  {
   "cell_type": "code",
   "execution_count": 17,
   "metadata": {},
   "outputs": [],
   "source": [
    "def category(x):\n",
    "    if type(x)==float: # if nan return list with 5 nan\n",
    "        return [np.nan,np.nan,np.nan,np.nan,np.nan]\n",
    "    else: # return all the categories (if not 5, nan)\n",
    "        return x+[np.nan]*(5-len(x))"
   ]
  },
  {
   "cell_type": "code",
   "execution_count": 19,
   "metadata": {},
   "outputs": [],
   "source": [
    "for i in range(5):\n",
    "    df['category_'+str(i+1)] = df['category_and_sub_category'].apply(lambda x: category(x)[i])"
   ]
  },
  {
   "cell_type": "code",
   "execution_count": 28,
   "metadata": {},
   "outputs": [
    {
     "data": {
      "text/plain": [
       "array([list(['Hobbies', 'Model Trains & Railway Sets', 'Accessories', 'Landscaping', 'Landscape Architecture'])],\n",
       "      dtype=object)"
      ]
     },
     "execution_count": 28,
     "metadata": {},
     "output_type": "execute_result"
    }
   ],
   "source": [
    "df[~df['category_5'].isna()].loc[3719,['category_and_sub_category']].values"
   ]
  },
  {
   "cell_type": "code",
   "execution_count": 29,
   "metadata": {},
   "outputs": [
    {
     "data": {
      "text/html": [
       "<div>\n",
       "<style scoped>\n",
       "    .dataframe tbody tr th:only-of-type {\n",
       "        vertical-align: middle;\n",
       "    }\n",
       "\n",
       "    .dataframe tbody tr th {\n",
       "        vertical-align: top;\n",
       "    }\n",
       "\n",
       "    .dataframe thead th {\n",
       "        text-align: right;\n",
       "    }\n",
       "</style>\n",
       "<table border=\"1\" class=\"dataframe\">\n",
       "  <thead>\n",
       "    <tr style=\"text-align: right;\">\n",
       "      <th></th>\n",
       "      <th>category_1</th>\n",
       "      <th>category_2</th>\n",
       "      <th>category_3</th>\n",
       "      <th>category_4</th>\n",
       "      <th>category_5</th>\n",
       "    </tr>\n",
       "  </thead>\n",
       "  <tbody>\n",
       "    <tr>\n",
       "      <th>3719</th>\n",
       "      <td>Hobbies</td>\n",
       "      <td>Model Trains &amp; Railway Sets</td>\n",
       "      <td>Accessories</td>\n",
       "      <td>Landscaping</td>\n",
       "      <td>Landscape Architecture</td>\n",
       "    </tr>\n",
       "    <tr>\n",
       "      <th>3720</th>\n",
       "      <td>Hobbies</td>\n",
       "      <td>Model Trains &amp; Railway Sets</td>\n",
       "      <td>Accessories</td>\n",
       "      <td>Figures &amp; Decoration Parts</td>\n",
       "      <td>Figures</td>\n",
       "    </tr>\n",
       "    <tr>\n",
       "      <th>3721</th>\n",
       "      <td>Hobbies</td>\n",
       "      <td>Model Trains &amp; Railway Sets</td>\n",
       "      <td>Accessories</td>\n",
       "      <td>Figures &amp; Decoration Parts</td>\n",
       "      <td>Figures</td>\n",
       "    </tr>\n",
       "    <tr>\n",
       "      <th>3722</th>\n",
       "      <td>Hobbies</td>\n",
       "      <td>Model Trains &amp; Railway Sets</td>\n",
       "      <td>Accessories</td>\n",
       "      <td>Figures &amp; Decoration Parts</td>\n",
       "      <td>Figures</td>\n",
       "    </tr>\n",
       "    <tr>\n",
       "      <th>3723</th>\n",
       "      <td>Hobbies</td>\n",
       "      <td>Model Trains &amp; Railway Sets</td>\n",
       "      <td>Accessories</td>\n",
       "      <td>Figures &amp; Decoration Parts</td>\n",
       "      <td>Figures</td>\n",
       "    </tr>\n",
       "  </tbody>\n",
       "</table>\n",
       "</div>"
      ],
      "text/plain": [
       "     category_1                   category_2   category_3                  category_4              category_5\n",
       "3719    Hobbies  Model Trains & Railway Sets  Accessories                 Landscaping  Landscape Architecture\n",
       "3720    Hobbies  Model Trains & Railway Sets  Accessories  Figures & Decoration Parts                 Figures\n",
       "3721    Hobbies  Model Trains & Railway Sets  Accessories  Figures & Decoration Parts                 Figures\n",
       "3722    Hobbies  Model Trains & Railway Sets  Accessories  Figures & Decoration Parts                 Figures\n",
       "3723    Hobbies  Model Trains & Railway Sets  Accessories  Figures & Decoration Parts                 Figures"
      ]
     },
     "execution_count": 29,
     "metadata": {},
     "output_type": "execute_result"
    }
   ],
   "source": [
    "df[~df['category_5'].isna()][['category_1', 'category_2', 'category_3', 'category_4', 'category_5']].head()"
   ]
  },
  {
   "cell_type": "code",
   "execution_count": 30,
   "metadata": {},
   "outputs": [
    {
     "data": {
      "text/html": [
       "<div>\n",
       "<style scoped>\n",
       "    .dataframe tbody tr th:only-of-type {\n",
       "        vertical-align: middle;\n",
       "    }\n",
       "\n",
       "    .dataframe tbody tr th {\n",
       "        vertical-align: top;\n",
       "    }\n",
       "\n",
       "    .dataframe thead th {\n",
       "        text-align: right;\n",
       "    }\n",
       "</style>\n",
       "<table border=\"1\" class=\"dataframe\">\n",
       "  <thead>\n",
       "    <tr style=\"text-align: right;\">\n",
       "      <th></th>\n",
       "      <th>category_and_sub_category</th>\n",
       "      <th>category_1</th>\n",
       "      <th>category_2</th>\n",
       "      <th>category_3</th>\n",
       "      <th>category_4</th>\n",
       "      <th>category_5</th>\n",
       "    </tr>\n",
       "  </thead>\n",
       "  <tbody>\n",
       "    <tr>\n",
       "      <th>0</th>\n",
       "      <td>[Hobbies, Model Trains &amp; Railway Sets, Rail Ve...</td>\n",
       "      <td>Hobbies</td>\n",
       "      <td>Model Trains &amp; Railway Sets</td>\n",
       "      <td>Rail Vehicles</td>\n",
       "      <td>Trains</td>\n",
       "      <td>NaN</td>\n",
       "    </tr>\n",
       "    <tr>\n",
       "      <th>1</th>\n",
       "      <td>[Hobbies, Model Trains &amp; Railway Sets, Rail Ve...</td>\n",
       "      <td>Hobbies</td>\n",
       "      <td>Model Trains &amp; Railway Sets</td>\n",
       "      <td>Rail Vehicles</td>\n",
       "      <td>Trains</td>\n",
       "      <td>NaN</td>\n",
       "    </tr>\n",
       "    <tr>\n",
       "      <th>2</th>\n",
       "      <td>[Hobbies, Model Trains &amp; Railway Sets, Rail Ve...</td>\n",
       "      <td>Hobbies</td>\n",
       "      <td>Model Trains &amp; Railway Sets</td>\n",
       "      <td>Rail Vehicles</td>\n",
       "      <td>Trains</td>\n",
       "      <td>NaN</td>\n",
       "    </tr>\n",
       "    <tr>\n",
       "      <th>3</th>\n",
       "      <td>[Hobbies, Model Trains &amp; Railway Sets, Rail Ve...</td>\n",
       "      <td>Hobbies</td>\n",
       "      <td>Model Trains &amp; Railway Sets</td>\n",
       "      <td>Rail Vehicles</td>\n",
       "      <td>Trains</td>\n",
       "      <td>NaN</td>\n",
       "    </tr>\n",
       "    <tr>\n",
       "      <th>4</th>\n",
       "      <td>[Hobbies, Model Trains &amp; Railway Sets, Rail Ve...</td>\n",
       "      <td>Hobbies</td>\n",
       "      <td>Model Trains &amp; Railway Sets</td>\n",
       "      <td>Rail Vehicles</td>\n",
       "      <td>Trains</td>\n",
       "      <td>NaN</td>\n",
       "    </tr>\n",
       "  </tbody>\n",
       "</table>\n",
       "</div>"
      ],
      "text/plain": [
       "                           category_and_sub_category category_1                   category_2     category_3 category_4 category_5\n",
       "0  [Hobbies, Model Trains & Railway Sets, Rail Ve...    Hobbies  Model Trains & Railway Sets  Rail Vehicles     Trains        NaN\n",
       "1  [Hobbies, Model Trains & Railway Sets, Rail Ve...    Hobbies  Model Trains & Railway Sets  Rail Vehicles     Trains        NaN\n",
       "2  [Hobbies, Model Trains & Railway Sets, Rail Ve...    Hobbies  Model Trains & Railway Sets  Rail Vehicles     Trains        NaN\n",
       "3  [Hobbies, Model Trains & Railway Sets, Rail Ve...    Hobbies  Model Trains & Railway Sets  Rail Vehicles     Trains        NaN\n",
       "4  [Hobbies, Model Trains & Railway Sets, Rail Ve...    Hobbies  Model Trains & Railway Sets  Rail Vehicles     Trains        NaN"
      ]
     },
     "execution_count": 30,
     "metadata": {},
     "output_type": "execute_result"
    }
   ],
   "source": [
    "df[['category_and_sub_category', 'category_1', 'category_2', 'category_3', 'category_4', 'category_5']].head()"
   ]
  },
  {
   "cell_type": "code",
   "execution_count": 31,
   "metadata": {},
   "outputs": [
    {
     "name": "stdout",
     "output_type": "stream",
     "text": [
      "43 148 111 45 4\n"
     ]
    }
   ],
   "source": [
    "# number of unique categories in each level\n",
    "print(df['category_1'].nunique(), df['category_2'].nunique(), df['category_3'].nunique(), df['category_4'].nunique(), df['category_5'].nunique())"
   ]
  },
  {
   "attachments": {},
   "cell_type": "markdown",
   "metadata": {},
   "source": [
    "### Number of reviews"
   ]
  },
  {
   "cell_type": "code",
   "execution_count": 32,
   "metadata": {},
   "outputs": [],
   "source": [
    "df['number_of_reviews'] = df['number_of_reviews'].apply(lambda x: float(x.replace(',','')) if type(x) == str else x) # return nan or float"
   ]
  },
  {
   "cell_type": "code",
   "execution_count": 33,
   "metadata": {},
   "outputs": [
    {
     "data": {
      "text/plain": [
       "0    15.0\n",
       "1     2.0\n",
       "2    17.0\n",
       "3     1.0\n",
       "4     3.0\n",
       "Name: number_of_reviews, dtype: float64"
      ]
     },
     "execution_count": 33,
     "metadata": {},
     "output_type": "execute_result"
    }
   ],
   "source": [
    "df['number_of_reviews'].head()"
   ]
  },
  {
   "attachments": {},
   "cell_type": "markdown",
   "metadata": {},
   "source": [
    "### number_available_in_stock"
   ]
  },
  {
   "cell_type": "code",
   "execution_count": 34,
   "metadata": {},
   "outputs": [],
   "source": [
    "df['in_stock_num'] = df['number_available_in_stock'].apply(lambda x: float(x.split('\\xa0')[0]) if type(x)!=float else x) "
   ]
  },
  {
   "cell_type": "code",
   "execution_count": 35,
   "metadata": {},
   "outputs": [],
   "source": [
    "df['in_stock_type'] = df['number_available_in_stock'].apply(lambda x: x.split('\\xa0')[1] if type(x)!=float else x)"
   ]
  },
  {
   "cell_type": "code",
   "execution_count": 37,
   "metadata": {},
   "outputs": [
    {
     "data": {
      "text/html": [
       "<div>\n",
       "<style scoped>\n",
       "    .dataframe tbody tr th:only-of-type {\n",
       "        vertical-align: middle;\n",
       "    }\n",
       "\n",
       "    .dataframe tbody tr th {\n",
       "        vertical-align: top;\n",
       "    }\n",
       "\n",
       "    .dataframe thead th {\n",
       "        text-align: right;\n",
       "    }\n",
       "</style>\n",
       "<table border=\"1\" class=\"dataframe\">\n",
       "  <thead>\n",
       "    <tr style=\"text-align: right;\">\n",
       "      <th></th>\n",
       "      <th>number_available_in_stock</th>\n",
       "      <th>in_stock_num</th>\n",
       "      <th>in_stock_type</th>\n",
       "    </tr>\n",
       "  </thead>\n",
       "  <tbody>\n",
       "    <tr>\n",
       "      <th>0</th>\n",
       "      <td>5 new</td>\n",
       "      <td>5.0</td>\n",
       "      <td>new</td>\n",
       "    </tr>\n",
       "    <tr>\n",
       "      <th>1</th>\n",
       "      <td>NaN</td>\n",
       "      <td>NaN</td>\n",
       "      <td>NaN</td>\n",
       "    </tr>\n",
       "    <tr>\n",
       "      <th>2</th>\n",
       "      <td>2 new</td>\n",
       "      <td>2.0</td>\n",
       "      <td>new</td>\n",
       "    </tr>\n",
       "    <tr>\n",
       "      <th>3</th>\n",
       "      <td>NaN</td>\n",
       "      <td>NaN</td>\n",
       "      <td>NaN</td>\n",
       "    </tr>\n",
       "    <tr>\n",
       "      <th>4</th>\n",
       "      <td>NaN</td>\n",
       "      <td>NaN</td>\n",
       "      <td>NaN</td>\n",
       "    </tr>\n",
       "  </tbody>\n",
       "</table>\n",
       "</div>"
      ],
      "text/plain": [
       "  number_available_in_stock  in_stock_num in_stock_type\n",
       "0                     5 new           5.0           new\n",
       "1                       NaN           NaN           NaN\n",
       "2                     2 new           2.0           new\n",
       "3                       NaN           NaN           NaN\n",
       "4                       NaN           NaN           NaN"
      ]
     },
     "execution_count": 37,
     "metadata": {},
     "output_type": "execute_result"
    }
   ],
   "source": [
    "df[[ 'number_available_in_stock', 'in_stock_num', 'in_stock_type']].head(5)"
   ]
  },
  {
   "cell_type": "code",
   "execution_count": 38,
   "metadata": {},
   "outputs": [
    {
     "data": {
      "text/plain": [
       "array(['new', nan, 'used', 'collectible', 'refurbished'], dtype=object)"
      ]
     },
     "execution_count": 38,
     "metadata": {},
     "output_type": "execute_result"
    }
   ],
   "source": [
    "df['in_stock_type'].unique()"
   ]
  },
  {
   "attachments": {},
   "cell_type": "markdown",
   "metadata": {},
   "source": [
    "18 of price is a range"
   ]
  },
  {
   "cell_type": "code",
   "execution_count": 39,
   "metadata": {},
   "outputs": [
    {
     "data": {
      "text/plain": [
       "18"
      ]
     },
     "execution_count": 39,
     "metadata": {},
     "output_type": "execute_result"
    }
   ],
   "source": [
    "df['price'].str.contains('-').sum()"
   ]
  },
  {
   "cell_type": "code",
   "execution_count": 40,
   "metadata": {},
   "outputs": [
    {
     "data": {
      "text/html": [
       "<div>\n",
       "<style scoped>\n",
       "    .dataframe tbody tr th:only-of-type {\n",
       "        vertical-align: middle;\n",
       "    }\n",
       "\n",
       "    .dataframe tbody tr th {\n",
       "        vertical-align: top;\n",
       "    }\n",
       "\n",
       "    .dataframe thead th {\n",
       "        text-align: right;\n",
       "    }\n",
       "</style>\n",
       "<table border=\"1\" class=\"dataframe\">\n",
       "  <thead>\n",
       "    <tr style=\"text-align: right;\">\n",
       "      <th></th>\n",
       "      <th>product_name</th>\n",
       "      <th>price</th>\n",
       "      <th>number_available_in_stock</th>\n",
       "    </tr>\n",
       "  </thead>\n",
       "  <tbody>\n",
       "    <tr>\n",
       "      <th>9</th>\n",
       "      <td>Learning Curve Chuggington Interactive Chatsworth</td>\n",
       "      <td>NaN</td>\n",
       "      <td>1 new</td>\n",
       "    </tr>\n",
       "    <tr>\n",
       "      <th>14</th>\n",
       "      <td>Kato 3060-2 EF65 500 (F Model) Electric Locomo...</td>\n",
       "      <td>NaN</td>\n",
       "      <td>18 new</td>\n",
       "    </tr>\n",
       "    <tr>\n",
       "      <th>15</th>\n",
       "      <td>Glacier Express of N gauge 10-1219 Alps [UNESC...</td>\n",
       "      <td>NaN</td>\n",
       "      <td>12 new</td>\n",
       "    </tr>\n",
       "    <tr>\n",
       "      <th>16</th>\n",
       "      <td>Power Trains Freight Industrial (Pack of 4)</td>\n",
       "      <td>NaN</td>\n",
       "      <td>2 new</td>\n",
       "    </tr>\n",
       "    <tr>\n",
       "      <th>17</th>\n",
       "      <td>Chuggington Interactive Wash and Fuel Set with...</td>\n",
       "      <td>NaN</td>\n",
       "      <td>1 used</td>\n",
       "    </tr>\n",
       "    <tr>\n",
       "      <th>...</th>\n",
       "      <td>...</td>\n",
       "      <td>...</td>\n",
       "      <td>...</td>\n",
       "    </tr>\n",
       "    <tr>\n",
       "      <th>9952</th>\n",
       "      <td>HIVE - A GAME BUZZING WITH POSSIBILITIES</td>\n",
       "      <td>NaN</td>\n",
       "      <td>1 new</td>\n",
       "    </tr>\n",
       "    <tr>\n",
       "      <th>9969</th>\n",
       "      <td>Spacegodzilla S.H.Monsterarts Action Figure</td>\n",
       "      <td>NaN</td>\n",
       "      <td>20 new</td>\n",
       "    </tr>\n",
       "    <tr>\n",
       "      <th>9976</th>\n",
       "      <td>Batman The Dark Knight Batarang Prop Replica W...</td>\n",
       "      <td>NaN</td>\n",
       "      <td>1 new</td>\n",
       "    </tr>\n",
       "    <tr>\n",
       "      <th>9983</th>\n",
       "      <td>Dc Comics Infinite Crisis Pajama Party Harley ...</td>\n",
       "      <td>NaN</td>\n",
       "      <td>5 new</td>\n",
       "    </tr>\n",
       "    <tr>\n",
       "      <th>9984</th>\n",
       "      <td>Master Replicas - Clone Trooper Helmet Scaled ...</td>\n",
       "      <td>NaN</td>\n",
       "      <td>2 new</td>\n",
       "    </tr>\n",
       "  </tbody>\n",
       "</table>\n",
       "<p>1435 rows × 3 columns</p>\n",
       "</div>"
      ],
      "text/plain": [
       "                                           product_name price number_available_in_stock\n",
       "9     Learning Curve Chuggington Interactive Chatsworth   NaN                     1 new\n",
       "14    Kato 3060-2 EF65 500 (F Model) Electric Locomo...   NaN                    18 new\n",
       "15    Glacier Express of N gauge 10-1219 Alps [UNESC...   NaN                    12 new\n",
       "16          Power Trains Freight Industrial (Pack of 4)   NaN                     2 new\n",
       "17    Chuggington Interactive Wash and Fuel Set with...   NaN                    1 used\n",
       "...                                                 ...   ...                       ...\n",
       "9952           HIVE - A GAME BUZZING WITH POSSIBILITIES   NaN                     1 new\n",
       "9969        Spacegodzilla S.H.Monsterarts Action Figure   NaN                    20 new\n",
       "9976  Batman The Dark Knight Batarang Prop Replica W...   NaN                     1 new\n",
       "9983  Dc Comics Infinite Crisis Pajama Party Harley ...   NaN                     5 new\n",
       "9984  Master Replicas - Clone Trooper Helmet Scaled ...   NaN                     2 new\n",
       "\n",
       "[1435 rows x 3 columns]"
      ]
     },
     "execution_count": 40,
     "metadata": {},
     "output_type": "execute_result"
    }
   ],
   "source": [
    "df[df['price'].isna()][['product_name', 'price','number_available_in_stock']]"
   ]
  },
  {
   "cell_type": "code",
   "execution_count": 41,
   "metadata": {},
   "outputs": [
    {
     "data": {
      "text/plain": [
       "array([ 1.,  2.,  7., nan,  6.,  5.,  4.,  3., 11., 28., 23., 39., 10.,\n",
       "       14.,  9., 12., 19.,  8., 13., 17.])"
      ]
     },
     "execution_count": 41,
     "metadata": {},
     "output_type": "execute_result"
    }
   ],
   "source": [
    "df.number_of_answered_questions.unique()"
   ]
  },
  {
   "cell_type": "markdown",
   "metadata": {},
   "source": [
    "### Review"
   ]
  },
  {
   "cell_type": "code",
   "execution_count": 72,
   "metadata": {},
   "outputs": [],
   "source": [
    "# reviews as a new dataset\n",
    "def transform_review(review):\n",
    "    if type(review) == float:\n",
    "        return review\n",
    "    l = review.split(' | ')\n",
    "    for i in range(len(l)):\n",
    "        l[i] = l[i].split(' // ')\n",
    "    return l"
   ]
  },
  {
   "cell_type": "code",
   "execution_count": 73,
   "metadata": {},
   "outputs": [],
   "source": [
    "df['customer_reviews_transform'] = df['customer_reviews'].apply(lambda x: transform_review(x)) "
   ]
  },
  {
   "cell_type": "code",
   "execution_count": 74,
   "metadata": {},
   "outputs": [],
   "source": [
    "df_review = df.explode('customer_reviews_transform', ignore_index=True)"
   ]
  },
  {
   "cell_type": "code",
   "execution_count": 75,
   "metadata": {},
   "outputs": [
    {
     "data": {
      "text/plain": [
       "['Worth Buying For The Pictures Alone (As Ever)',\n",
       " '4.0',\n",
       " '6 April 2014',\n",
       " 'By\\n    \\n    Copnovelist\\n  \\n on 6 April 2014',\n",
       " \"Part of the magic for me growing up as a boy was to buy (or be given) the new Hornby catalogue every year, even if it included 90% of the same products as the previous year.  I've still got my old ones dating back to the 70s and 80s somewhere.  These days the catalogue is especially informative in that it tells you the vintage of the rolling stock which is useful if you are dedicating your railway to one particular era and train company.\"]"
      ]
     },
     "execution_count": 75,
     "metadata": {},
     "output_type": "execute_result"
    }
   ],
   "source": [
    "df_review['customer_reviews_transform'][0]"
   ]
  },
  {
   "cell_type": "code",
   "execution_count": 76,
   "metadata": {},
   "outputs": [],
   "source": [
    "df_review.drop(['Unnamed: 0','uniq_id'], inplace=True, axis=1)"
   ]
  },
  {
   "cell_type": "code",
   "execution_count": 77,
   "metadata": {},
   "outputs": [],
   "source": [
    "df_review = df_review[df_review.customer_reviews_transform.str.len()==5]"
   ]
  },
  {
   "cell_type": "code",
   "execution_count": 78,
   "metadata": {},
   "outputs": [],
   "source": [
    "df_review[['review_title','review_rating','review_date', 'review_name', 'review_content']]=pd.DataFrame(df_review['customer_reviews_transform'].tolist(), index= df_review.index)"
   ]
  },
  {
   "cell_type": "code",
   "execution_count": 79,
   "metadata": {},
   "outputs": [
    {
     "data": {
      "text/html": [
       "<div>\n",
       "<style scoped>\n",
       "    .dataframe tbody tr th:only-of-type {\n",
       "        vertical-align: middle;\n",
       "    }\n",
       "\n",
       "    .dataframe tbody tr th {\n",
       "        vertical-align: top;\n",
       "    }\n",
       "\n",
       "    .dataframe thead th {\n",
       "        text-align: right;\n",
       "    }\n",
       "</style>\n",
       "<table border=\"1\" class=\"dataframe\">\n",
       "  <thead>\n",
       "    <tr style=\"text-align: right;\">\n",
       "      <th></th>\n",
       "      <th>product_name</th>\n",
       "      <th>manufacturer</th>\n",
       "      <th>price</th>\n",
       "      <th>number_available_in_stock</th>\n",
       "      <th>number_of_reviews</th>\n",
       "      <th>number_of_answered_questions</th>\n",
       "      <th>average_review_rating</th>\n",
       "      <th>category_and_sub_category</th>\n",
       "      <th>customers_who_bought_this_item_also_bought</th>\n",
       "      <th>description</th>\n",
       "      <th>product_information</th>\n",
       "      <th>product_description</th>\n",
       "      <th>items_customers_buy_after_viewing_this_item</th>\n",
       "      <th>customer_questions_and_answers</th>\n",
       "      <th>customer_reviews</th>\n",
       "      <th>sellers</th>\n",
       "      <th>rating</th>\n",
       "      <th>price_1</th>\n",
       "      <th>category_1</th>\n",
       "      <th>category_2</th>\n",
       "      <th>category_3</th>\n",
       "      <th>category_4</th>\n",
       "      <th>category_5</th>\n",
       "      <th>in_stock_num</th>\n",
       "      <th>in_stock_type</th>\n",
       "      <th>customer_reviews_transform</th>\n",
       "      <th>review_title</th>\n",
       "      <th>review_rating</th>\n",
       "      <th>review_date</th>\n",
       "      <th>review_name</th>\n",
       "      <th>review_content</th>\n",
       "    </tr>\n",
       "  </thead>\n",
       "  <tbody>\n",
       "    <tr>\n",
       "      <th>0</th>\n",
       "      <td>Hornby 2014 Catalogue</td>\n",
       "      <td>Hornby</td>\n",
       "      <td>£3.42</td>\n",
       "      <td>5 new</td>\n",
       "      <td>15.0</td>\n",
       "      <td>1.0</td>\n",
       "      <td>4.9 out of 5 stars</td>\n",
       "      <td>[Hobbies, Model Trains &amp; Railway Sets, Rail Ve...</td>\n",
       "      <td>http://www.onlineretail.co/Hornby-R8150-Catalo...</td>\n",
       "      <td>Product Description Hornby 2014 Catalogue Box ...</td>\n",
       "      <td>Technical Details Item Weight640 g Product Dim...</td>\n",
       "      <td>Product Description Hornby 2014 Catalogue Box ...</td>\n",
       "      <td>http://www.onlineretail.co/Hornby-R8150-Catalo...</td>\n",
       "      <td>Does this catalogue detail all the previous Ho...</td>\n",
       "      <td>Worth Buying For The Pictures Alone (As Ever) ...</td>\n",
       "      <td>{\"seller\"=&gt;[{\"Seller_name_1\"=&gt;\"OnlineRetail.co...</td>\n",
       "      <td>4.9</td>\n",
       "      <td>3.42</td>\n",
       "      <td>Hobbies</td>\n",
       "      <td>Model Trains &amp; Railway Sets</td>\n",
       "      <td>Rail Vehicles</td>\n",
       "      <td>Trains</td>\n",
       "      <td>NaN</td>\n",
       "      <td>5.0</td>\n",
       "      <td>new</td>\n",
       "      <td>[Worth Buying For The Pictures Alone (As Ever)...</td>\n",
       "      <td>Worth Buying For The Pictures Alone (As Ever)</td>\n",
       "      <td>4.0</td>\n",
       "      <td>6 April 2014</td>\n",
       "      <td>By\\n    \\n    Copnovelist\\n  \\n on 6 April 2014</td>\n",
       "      <td>Part of the magic for me growing up as a boy w...</td>\n",
       "    </tr>\n",
       "    <tr>\n",
       "      <th>1</th>\n",
       "      <td>Hornby 2014 Catalogue</td>\n",
       "      <td>Hornby</td>\n",
       "      <td>£3.42</td>\n",
       "      <td>5 new</td>\n",
       "      <td>15.0</td>\n",
       "      <td>1.0</td>\n",
       "      <td>4.9 out of 5 stars</td>\n",
       "      <td>[Hobbies, Model Trains &amp; Railway Sets, Rail Ve...</td>\n",
       "      <td>http://www.onlineretail.co/Hornby-R8150-Catalo...</td>\n",
       "      <td>Product Description Hornby 2014 Catalogue Box ...</td>\n",
       "      <td>Technical Details Item Weight640 g Product Dim...</td>\n",
       "      <td>Product Description Hornby 2014 Catalogue Box ...</td>\n",
       "      <td>http://www.onlineretail.co/Hornby-R8150-Catalo...</td>\n",
       "      <td>Does this catalogue detail all the previous Ho...</td>\n",
       "      <td>Worth Buying For The Pictures Alone (As Ever) ...</td>\n",
       "      <td>{\"seller\"=&gt;[{\"Seller_name_1\"=&gt;\"OnlineRetail.co...</td>\n",
       "      <td>4.9</td>\n",
       "      <td>3.42</td>\n",
       "      <td>Hobbies</td>\n",
       "      <td>Model Trains &amp; Railway Sets</td>\n",
       "      <td>Rail Vehicles</td>\n",
       "      <td>Trains</td>\n",
       "      <td>NaN</td>\n",
       "      <td>5.0</td>\n",
       "      <td>new</td>\n",
       "      <td>[Amazing detail fabulous photography., 5.0, 11...</td>\n",
       "      <td>Amazing detail fabulous photography.</td>\n",
       "      <td>5.0</td>\n",
       "      <td>11 April 2015</td>\n",
       "      <td>By\\n    \\n    richard\\n  \\n on 11 April 2015</td>\n",
       "      <td>Amazing detail, every credit to the photograph...</td>\n",
       "    </tr>\n",
       "    <tr>\n",
       "      <th>2</th>\n",
       "      <td>Hornby 2014 Catalogue</td>\n",
       "      <td>Hornby</td>\n",
       "      <td>£3.42</td>\n",
       "      <td>5 new</td>\n",
       "      <td>15.0</td>\n",
       "      <td>1.0</td>\n",
       "      <td>4.9 out of 5 stars</td>\n",
       "      <td>[Hobbies, Model Trains &amp; Railway Sets, Rail Ve...</td>\n",
       "      <td>http://www.onlineretail.co/Hornby-R8150-Catalo...</td>\n",
       "      <td>Product Description Hornby 2014 Catalogue Box ...</td>\n",
       "      <td>Technical Details Item Weight640 g Product Dim...</td>\n",
       "      <td>Product Description Hornby 2014 Catalogue Box ...</td>\n",
       "      <td>http://www.onlineretail.co/Hornby-R8150-Catalo...</td>\n",
       "      <td>Does this catalogue detail all the previous Ho...</td>\n",
       "      <td>Worth Buying For The Pictures Alone (As Ever) ...</td>\n",
       "      <td>{\"seller\"=&gt;[{\"Seller_name_1\"=&gt;\"OnlineRetail.co...</td>\n",
       "      <td>4.9</td>\n",
       "      <td>3.42</td>\n",
       "      <td>Hobbies</td>\n",
       "      <td>Model Trains &amp; Railway Sets</td>\n",
       "      <td>Rail Vehicles</td>\n",
       "      <td>Trains</td>\n",
       "      <td>NaN</td>\n",
       "      <td>5.0</td>\n",
       "      <td>new</td>\n",
       "      <td>['Great Purchase', 5.0, 23 April 2014, By\\n   ...</td>\n",
       "      <td>'Great Purchase'</td>\n",
       "      <td>5.0</td>\n",
       "      <td>23 April 2014</td>\n",
       "      <td>By\\n    \\n    Pinkhandbag\\n  \\n on 23 April 2014</td>\n",
       "      <td>This was purchased on behalf of my Dad. He is ...</td>\n",
       "    </tr>\n",
       "    <tr>\n",
       "      <th>3</th>\n",
       "      <td>Hornby 2014 Catalogue</td>\n",
       "      <td>Hornby</td>\n",
       "      <td>£3.42</td>\n",
       "      <td>5 new</td>\n",
       "      <td>15.0</td>\n",
       "      <td>1.0</td>\n",
       "      <td>4.9 out of 5 stars</td>\n",
       "      <td>[Hobbies, Model Trains &amp; Railway Sets, Rail Ve...</td>\n",
       "      <td>http://www.onlineretail.co/Hornby-R8150-Catalo...</td>\n",
       "      <td>Product Description Hornby 2014 Catalogue Box ...</td>\n",
       "      <td>Technical Details Item Weight640 g Product Dim...</td>\n",
       "      <td>Product Description Hornby 2014 Catalogue Box ...</td>\n",
       "      <td>http://www.onlineretail.co/Hornby-R8150-Catalo...</td>\n",
       "      <td>Does this catalogue detail all the previous Ho...</td>\n",
       "      <td>Worth Buying For The Pictures Alone (As Ever) ...</td>\n",
       "      <td>{\"seller\"=&gt;[{\"Seller_name_1\"=&gt;\"OnlineRetail.co...</td>\n",
       "      <td>4.9</td>\n",
       "      <td>3.42</td>\n",
       "      <td>Hobbies</td>\n",
       "      <td>Model Trains &amp; Railway Sets</td>\n",
       "      <td>Rail Vehicles</td>\n",
       "      <td>Trains</td>\n",
       "      <td>NaN</td>\n",
       "      <td>5.0</td>\n",
       "      <td>new</td>\n",
       "      <td>[Great Catalogue, 5.0, 11 Jun. 2014, By\\n    \\...</td>\n",
       "      <td>Great Catalogue</td>\n",
       "      <td>5.0</td>\n",
       "      <td>11 Jun. 2014</td>\n",
       "      <td>By\\n    \\n    Gary John Mapson\\n  \\n on 11 Jun...</td>\n",
       "      <td>Everything I really needed to see what was on ...</td>\n",
       "    </tr>\n",
       "    <tr>\n",
       "      <th>4</th>\n",
       "      <td>Hornby 2014 Catalogue</td>\n",
       "      <td>Hornby</td>\n",
       "      <td>£3.42</td>\n",
       "      <td>5 new</td>\n",
       "      <td>15.0</td>\n",
       "      <td>1.0</td>\n",
       "      <td>4.9 out of 5 stars</td>\n",
       "      <td>[Hobbies, Model Trains &amp; Railway Sets, Rail Ve...</td>\n",
       "      <td>http://www.onlineretail.co/Hornby-R8150-Catalo...</td>\n",
       "      <td>Product Description Hornby 2014 Catalogue Box ...</td>\n",
       "      <td>Technical Details Item Weight640 g Product Dim...</td>\n",
       "      <td>Product Description Hornby 2014 Catalogue Box ...</td>\n",
       "      <td>http://www.onlineretail.co/Hornby-R8150-Catalo...</td>\n",
       "      <td>Does this catalogue detail all the previous Ho...</td>\n",
       "      <td>Worth Buying For The Pictures Alone (As Ever) ...</td>\n",
       "      <td>{\"seller\"=&gt;[{\"Seller_name_1\"=&gt;\"OnlineRetail.co...</td>\n",
       "      <td>4.9</td>\n",
       "      <td>3.42</td>\n",
       "      <td>Hobbies</td>\n",
       "      <td>Model Trains &amp; Railway Sets</td>\n",
       "      <td>Rail Vehicles</td>\n",
       "      <td>Trains</td>\n",
       "      <td>NaN</td>\n",
       "      <td>5.0</td>\n",
       "      <td>new</td>\n",
       "      <td>[I collect them all as the glossy pictures are...</td>\n",
       "      <td>I collect them all as the glossy pictures are ...</td>\n",
       "      <td>5.0</td>\n",
       "      <td>7 Dec. 2014</td>\n",
       "      <td>By\\n    \\n    David Baker\\n  \\n on 7 Dec. 2014</td>\n",
       "      <td>I collect them all as the glossy pictures are ...</td>\n",
       "    </tr>\n",
       "  </tbody>\n",
       "</table>\n",
       "</div>"
      ],
      "text/plain": [
       "            product_name manufacturer  price number_available_in_stock  number_of_reviews  number_of_answered_questions average_review_rating                          category_and_sub_category         customers_who_bought_this_item_also_bought                                        description                                product_information                                product_description        items_customers_buy_after_viewing_this_item                     customer_questions_and_answers                                   customer_reviews                                            sellers  rating  price_1 category_1                   category_2     category_3 category_4 category_5  in_stock_num in_stock_type                         customer_reviews_transform                                       review_title review_rating    review_date                                        review_name                                     review_content\n",
       "0  Hornby 2014 Catalogue       Hornby  £3.42                     5 new               15.0                           1.0    4.9 out of 5 stars  [Hobbies, Model Trains & Railway Sets, Rail Ve...  http://www.onlineretail.co/Hornby-R8150-Catalo...  Product Description Hornby 2014 Catalogue Box ...  Technical Details Item Weight640 g Product Dim...  Product Description Hornby 2014 Catalogue Box ...  http://www.onlineretail.co/Hornby-R8150-Catalo...  Does this catalogue detail all the previous Ho...  Worth Buying For The Pictures Alone (As Ever) ...  {\"seller\"=>[{\"Seller_name_1\"=>\"OnlineRetail.co...     4.9     3.42    Hobbies  Model Trains & Railway Sets  Rail Vehicles     Trains        NaN           5.0           new  [Worth Buying For The Pictures Alone (As Ever)...      Worth Buying For The Pictures Alone (As Ever)           4.0   6 April 2014    By\\n    \\n    Copnovelist\\n  \\n on 6 April 2014  Part of the magic for me growing up as a boy w...\n",
       "1  Hornby 2014 Catalogue       Hornby  £3.42                     5 new               15.0                           1.0    4.9 out of 5 stars  [Hobbies, Model Trains & Railway Sets, Rail Ve...  http://www.onlineretail.co/Hornby-R8150-Catalo...  Product Description Hornby 2014 Catalogue Box ...  Technical Details Item Weight640 g Product Dim...  Product Description Hornby 2014 Catalogue Box ...  http://www.onlineretail.co/Hornby-R8150-Catalo...  Does this catalogue detail all the previous Ho...  Worth Buying For The Pictures Alone (As Ever) ...  {\"seller\"=>[{\"Seller_name_1\"=>\"OnlineRetail.co...     4.9     3.42    Hobbies  Model Trains & Railway Sets  Rail Vehicles     Trains        NaN           5.0           new  [Amazing detail fabulous photography., 5.0, 11...               Amazing detail fabulous photography.           5.0  11 April 2015       By\\n    \\n    richard\\n  \\n on 11 April 2015  Amazing detail, every credit to the photograph...\n",
       "2  Hornby 2014 Catalogue       Hornby  £3.42                     5 new               15.0                           1.0    4.9 out of 5 stars  [Hobbies, Model Trains & Railway Sets, Rail Ve...  http://www.onlineretail.co/Hornby-R8150-Catalo...  Product Description Hornby 2014 Catalogue Box ...  Technical Details Item Weight640 g Product Dim...  Product Description Hornby 2014 Catalogue Box ...  http://www.onlineretail.co/Hornby-R8150-Catalo...  Does this catalogue detail all the previous Ho...  Worth Buying For The Pictures Alone (As Ever) ...  {\"seller\"=>[{\"Seller_name_1\"=>\"OnlineRetail.co...     4.9     3.42    Hobbies  Model Trains & Railway Sets  Rail Vehicles     Trains        NaN           5.0           new  ['Great Purchase', 5.0, 23 April 2014, By\\n   ...                                   'Great Purchase'           5.0  23 April 2014   By\\n    \\n    Pinkhandbag\\n  \\n on 23 April 2014  This was purchased on behalf of my Dad. He is ...\n",
       "3  Hornby 2014 Catalogue       Hornby  £3.42                     5 new               15.0                           1.0    4.9 out of 5 stars  [Hobbies, Model Trains & Railway Sets, Rail Ve...  http://www.onlineretail.co/Hornby-R8150-Catalo...  Product Description Hornby 2014 Catalogue Box ...  Technical Details Item Weight640 g Product Dim...  Product Description Hornby 2014 Catalogue Box ...  http://www.onlineretail.co/Hornby-R8150-Catalo...  Does this catalogue detail all the previous Ho...  Worth Buying For The Pictures Alone (As Ever) ...  {\"seller\"=>[{\"Seller_name_1\"=>\"OnlineRetail.co...     4.9     3.42    Hobbies  Model Trains & Railway Sets  Rail Vehicles     Trains        NaN           5.0           new  [Great Catalogue, 5.0, 11 Jun. 2014, By\\n    \\...                                    Great Catalogue           5.0   11 Jun. 2014  By\\n    \\n    Gary John Mapson\\n  \\n on 11 Jun...  Everything I really needed to see what was on ...\n",
       "4  Hornby 2014 Catalogue       Hornby  £3.42                     5 new               15.0                           1.0    4.9 out of 5 stars  [Hobbies, Model Trains & Railway Sets, Rail Ve...  http://www.onlineretail.co/Hornby-R8150-Catalo...  Product Description Hornby 2014 Catalogue Box ...  Technical Details Item Weight640 g Product Dim...  Product Description Hornby 2014 Catalogue Box ...  http://www.onlineretail.co/Hornby-R8150-Catalo...  Does this catalogue detail all the previous Ho...  Worth Buying For The Pictures Alone (As Ever) ...  {\"seller\"=>[{\"Seller_name_1\"=>\"OnlineRetail.co...     4.9     3.42    Hobbies  Model Trains & Railway Sets  Rail Vehicles     Trains        NaN           5.0           new  [I collect them all as the glossy pictures are...  I collect them all as the glossy pictures are ...           5.0    7 Dec. 2014     By\\n    \\n    David Baker\\n  \\n on 7 Dec. 2014  I collect them all as the glossy pictures are ..."
      ]
     },
     "execution_count": 79,
     "metadata": {},
     "output_type": "execute_result"
    }
   ],
   "source": [
    "df_review.head()"
   ]
  },
  {
   "attachments": {},
   "cell_type": "markdown",
   "metadata": {},
   "source": [
    "#### How to deal with price:\n",
    "1. drop price as a range\n",
    "2. average "
   ]
  },
  {
   "cell_type": "code",
   "execution_count": 42,
   "metadata": {},
   "outputs": [],
   "source": [
    "df_review = df_review[['product_name',  'review_content', 'review_rating',\n",
    "       'review_date', 'review_name','manufacturer', 'price', 'number_available_in_stock',\n",
    "       'number_of_reviews', 'number_of_answered_questions',\n",
    "       'average_review_rating', 'category_and_sub_category',\n",
    "       'customers_who_bought_this_item_also_bought', 'description',\n",
    "       'product_information', 'product_description',\n",
    "       'items_customers_buy_after_viewing_this_item',\n",
    "       'customer_questions_and_answers', 'customer_reviews', 'sellers',\n",
    "       'rating', 'price_1', 'category_1', 'category_2', 'category_3',\n",
    "       'category_4', 'category_5', 'in_stock_num', 'in_stock_type',\n",
    "       'customer_reviews_transform']]"
   ]
  },
  {
   "cell_type": "code",
   "execution_count": 81,
   "metadata": {},
   "outputs": [],
   "source": [
    "df_review['review_rating'] = pd.to_numeric(df_review.review_rating)"
   ]
  },
  {
   "attachments": {},
   "cell_type": "markdown",
   "metadata": {},
   "source": [
    "# Text Analysis"
   ]
  },
  {
   "cell_type": "code",
   "execution_count": 83,
   "metadata": {},
   "outputs": [],
   "source": [
    "# counts, lengths, sentence counts, string counts, average word length, average sentence lengths\n",
    "\n",
    "import numpy as np\n",
    "import nltk\n",
    "from nltk.tokenize import sent_tokenize\n",
    "# Character counts\n",
    "df_review[\"char_count\"] = df_review[\"review_content\"].map(lambda x: len(x))\n",
    "# Word counts\n",
    "df_review[\"word_count\"] = df_review[\"review_content\"].map(lambda x: len(x.split()))\n",
    "# Sentence counts\n",
    "df_review[\"sent_count\"] = df_review[\"review_content\"].map(lambda x: len(sent_tokenize(x)))\n",
    "# String counts\n",
    "df_review[\"hashtag_count\"] = df_review[\"review_content\"].map(lambda x: x.count(\"#\"))\n",
    "# Average word length\n",
    "df_review[\"avg_word_len\"] = df_review[\"review_content\"].map(lambda x: np.mean([len(w) for w in str(x).split()]))\n",
    "# Average sentence length\n",
    "df_review[\"avg_sent_len\"] = df_review[\"review_content\"].map(lambda x: np.mean([len(w.split()) for w in sent_tokenize(x)]))"
   ]
  },
  {
   "cell_type": "code",
   "execution_count": 84,
   "metadata": {},
   "outputs": [
    {
     "data": {
      "image/png": "[encoded data removed]",
      "text/plain": [
       "<Figure size 1800x288 with 3 Axes>"
      ]
     },
     "metadata": {
      "needs_background": "light"
     },
     "output_type": "display_data"
    },
    {
     "data": {
      "image/png": "[encoded data removed]",
      "text/plain": [
       "<Figure size 1800x288 with 3 Axes>"
      ]
     },
     "metadata": {
      "needs_background": "light"
     },
     "output_type": "display_data"
    },
    {
     "data": {
      "image/png": "[encoded data removed]",
      "text/plain": [
       "<Figure size 1800x288 with 3 Axes>"
      ]
     },
     "metadata": {
      "needs_background": "light"
     },
     "output_type": "display_data"
    },
    {
     "name": "stderr",
     "output_type": "stream",
     "text": [
      "/Users/may/opt/miniconda3/envs/mlenv/lib/python3.9/site-packages/seaborn/distributions.py:316: UserWarning: Dataset has 0 variance; skipping density estimate. Pass `warn_singular=False` to disable this warning.\n",
      "  warnings.warn(msg, UserWarning)\n"
     ]
    },
    {
     "data": {
      "image/png": "[encoded data removed]",
      "text/plain": [
       "<Figure size 1800x288 with 3 Axes>"
      ]
     },
     "metadata": {
      "needs_background": "light"
     },
     "output_type": "display_data"
    },
    {
     "data": {
      "image/png": "[encoded data removed]",
      "text/plain": [
       "<Figure size 1800x288 with 3 Axes>"
      ]
     },
     "metadata": {
      "needs_background": "light"
     },
     "output_type": "display_data"
    },
    {
     "data": {
      "image/png": "[encoded data removed]",
      "text/plain": [
       "<Figure size 1800x288 with 3 Axes>"
      ]
     },
     "metadata": {
      "needs_background": "light"
     },
     "output_type": "display_data"
    }
   ],
   "source": [
    "import seaborn as sns\n",
    "for feature in ['char_count', 'word_count', 'sent_count', 'hashtag_count', 'avg_word_len', 'avg_sent_len']:\n",
    "    fig, ax = plt.subplots(ncols=3, nrows=1, figsize=(25,4))\n",
    "    # Histogram\n",
    "    sns.histplot(ax=ax[0], data = df_review, x = feature, hue = 'review_rating')\n",
    "    # KDE plot\n",
    "    sns.kdeplot(ax=ax[1], data = df_review, x = feature, hue = 'review_rating')\n",
    "    # Boxplot\n",
    "    sns.boxplot(ax=ax[2], data = df_review, x = 'review_rating', y = feature)\n",
    "    plt.show()"
   ]
  },
  {
   "attachments": {},
   "cell_type": "markdown",
   "metadata": {},
   "source": [
    "### clean text"
   ]
  },
  {
   "cell_type": "code",
   "execution_count": 85,
   "metadata": {},
   "outputs": [],
   "source": [
    "import re\n",
    "import string\n",
    "def clean_text(text):\n",
    "    # Convert text to lowercase\n",
    "    text = text.lower()\n",
    "    # Remove punctuation\n",
    "    text = re.sub(\"[%s]\" % re.escape(string.punctuation), \"\", text)\n",
    "    # Remove non-Roman characters\n",
    "    text = re.sub(\"([^\\x00-\\x7F])+\", \" \", text)\n",
    "    \n",
    "    return text\n",
    "df_review[\"review_clean\"] = df_review[\"review_content\"].map(lambda x: clean_text(x))"
   ]
  },
  {
   "cell_type": "code",
   "execution_count": 86,
   "metadata": {},
   "outputs": [
    {
     "data": {
      "text/html": [
       "<div>\n",
       "<style scoped>\n",
       "    .dataframe tbody tr th:only-of-type {\n",
       "        vertical-align: middle;\n",
       "    }\n",
       "\n",
       "    .dataframe tbody tr th {\n",
       "        vertical-align: top;\n",
       "    }\n",
       "\n",
       "    .dataframe thead th {\n",
       "        text-align: right;\n",
       "    }\n",
       "</style>\n",
       "<table border=\"1\" class=\"dataframe\">\n",
       "  <thead>\n",
       "    <tr style=\"text-align: right;\">\n",
       "      <th></th>\n",
       "      <th>review_content</th>\n",
       "      <th>review_clean</th>\n",
       "    </tr>\n",
       "  </thead>\n",
       "  <tbody>\n",
       "    <tr>\n",
       "      <th>0</th>\n",
       "      <td>Part of the magic for me growing up as a boy w...</td>\n",
       "      <td>part of the magic for me growing up as a boy w...</td>\n",
       "    </tr>\n",
       "    <tr>\n",
       "      <th>1</th>\n",
       "      <td>Amazing detail, every credit to the photograph...</td>\n",
       "      <td>amazing detail every credit to the photographe...</td>\n",
       "    </tr>\n",
       "    <tr>\n",
       "      <th>2</th>\n",
       "      <td>This was purchased on behalf of my Dad. He is ...</td>\n",
       "      <td>this was purchased on behalf of my dad he is a...</td>\n",
       "    </tr>\n",
       "    <tr>\n",
       "      <th>3</th>\n",
       "      <td>Everything I really needed to see what was on ...</td>\n",
       "      <td>everything i really needed to see what was on ...</td>\n",
       "    </tr>\n",
       "    <tr>\n",
       "      <th>4</th>\n",
       "      <td>I collect them all as the glossy pictures are ...</td>\n",
       "      <td>i collect them all as the glossy pictures are ...</td>\n",
       "    </tr>\n",
       "  </tbody>\n",
       "</table>\n",
       "</div>"
      ],
      "text/plain": [
       "                                      review_content                                       review_clean\n",
       "0  Part of the magic for me growing up as a boy w...  part of the magic for me growing up as a boy w...\n",
       "1  Amazing detail, every credit to the photograph...  amazing detail every credit to the photographe...\n",
       "2  This was purchased on behalf of my Dad. He is ...  this was purchased on behalf of my dad he is a...\n",
       "3  Everything I really needed to see what was on ...  everything i really needed to see what was on ...\n",
       "4  I collect them all as the glossy pictures are ...  i collect them all as the glossy pictures are ..."
      ]
     },
     "execution_count": 86,
     "metadata": {},
     "output_type": "execute_result"
    }
   ],
   "source": [
    "df_review[['review_content','review_clean']].head()"
   ]
  },
  {
   "cell_type": "code",
   "execution_count": 87,
   "metadata": {},
   "outputs": [],
   "source": [
    "df_review_1 = df_review[df_review.review_rating==1]\n",
    "df_review_2 = df_review[df_review.review_rating==2]\n",
    "df_review_3 = df_review[df_review.review_rating==3]\n",
    "df_review_4 = df_review[df_review.review_rating==4]\n",
    "df_review_5 = df_review[df_review.review_rating==5]"
   ]
  },
  {
   "cell_type": "code",
   "execution_count": 88,
   "metadata": {},
   "outputs": [],
   "source": [
    "from nltk.corpus import stopwords\n",
    "stop = set(stopwords.words(\"english\"))\n",
    "corpus = [word for i in df_review[\"review_clean\"].str.split().values.tolist() for word in i if (word not in stop)]\n",
    "corpus_1 = [word for i in df_review[df_review.review_rating==1][\"review_clean\"].str.split().values.tolist() for word in i if (word not in stop)]\n",
    "corpus_5 = [word for i in df_review[df_review.review_rating==5][\"review_clean\"].str.split().values.tolist() for word in i if (word not in stop)]"
   ]
  },
  {
   "cell_type": "code",
   "execution_count": 89,
   "metadata": {},
   "outputs": [],
   "source": [
    "from nltk.probability import FreqDist\n",
    "most_common = FreqDist(corpus).most_common(10)\n",
    "most_common_1 = FreqDist(corpus_1).most_common(10)\n",
    "most_common_5 = FreqDist(corpus_5).most_common(10)"
   ]
  },
  {
   "cell_type": "code",
   "execution_count": 90,
   "metadata": {},
   "outputs": [
    {
     "data": {
      "image/png": "[encoded data removed]",
      "text/plain": [
       "<Figure size 1440x360 with 2 Axes>"
      ]
     },
     "metadata": {
      "needs_background": "light"
     },
     "output_type": "display_data"
    }
   ],
   "source": [
    "fig, ax = plt.subplots(ncols=2, nrows=1, figsize=(20,5))\n",
    "words, frequency = [], []\n",
    "for word, count in most_common_1:\n",
    "    words.append(word)\n",
    "    frequency.append(count)\n",
    "    \n",
    "sns.barplot(ax=ax[0], x = frequency, y = words)\n",
    "ax[0].title.set_text('Most frequent words for rating = 1')\n",
    "# plt.show()\n",
    "\n",
    "words, frequency = [], []\n",
    "for word, count in most_common_5:\n",
    "    words.append(word)\n",
    "    frequency.append(count)\n",
    "    \n",
    "sns.barplot(ax=ax[1], x = frequency, y = words)\n",
    "ax[1].title.set_text('Most frequent words for rating = 5')\n",
    "plt.show()"
   ]
  },
  {
   "cell_type": "code",
   "execution_count": 93,
   "metadata": {},
   "outputs": [
    {
     "data": {
      "text/html": [
       "<div>\n",
       "<style scoped>\n",
       "    .dataframe tbody tr th:only-of-type {\n",
       "        vertical-align: middle;\n",
       "    }\n",
       "\n",
       "    .dataframe tbody tr th {\n",
       "        vertical-align: top;\n",
       "    }\n",
       "\n",
       "    .dataframe thead th {\n",
       "        text-align: right;\n",
       "    }\n",
       "</style>\n",
       "<table border=\"1\" class=\"dataframe\">\n",
       "  <thead>\n",
       "    <tr style=\"text-align: right;\">\n",
       "      <th></th>\n",
       "      <th>frequency</th>\n",
       "      <th>ngram</th>\n",
       "    </tr>\n",
       "  </thead>\n",
       "  <tbody>\n",
       "    <tr>\n",
       "      <th>0</th>\n",
       "      <td>38</td>\n",
       "      <td>year old</td>\n",
       "    </tr>\n",
       "    <tr>\n",
       "      <th>1</th>\n",
       "      <td>37</td>\n",
       "      <td>waste money</td>\n",
       "    </tr>\n",
       "    <tr>\n",
       "      <th>2</th>\n",
       "      <td>32</td>\n",
       "      <td>poor quality</td>\n",
       "    </tr>\n",
       "    <tr>\n",
       "      <th>3</th>\n",
       "      <td>21</td>\n",
       "      <td>would recommend</td>\n",
       "    </tr>\n",
       "    <tr>\n",
       "      <th>4</th>\n",
       "      <td>12</td>\n",
       "      <td>worth money</td>\n",
       "    </tr>\n",
       "    <tr>\n",
       "      <th>...</th>\n",
       "      <td>...</td>\n",
       "      <td>...</td>\n",
       "    </tr>\n",
       "    <tr>\n",
       "      <th>26535</th>\n",
       "      <td>1</td>\n",
       "      <td>10 advertised</td>\n",
       "    </tr>\n",
       "    <tr>\n",
       "      <th>26536</th>\n",
       "      <td>1</td>\n",
       "      <td>03 megapixel simply</td>\n",
       "    </tr>\n",
       "    <tr>\n",
       "      <th>26537</th>\n",
       "      <td>1</td>\n",
       "      <td>03 megapixel</td>\n",
       "    </tr>\n",
       "    <tr>\n",
       "      <th>26538</th>\n",
       "      <td>1</td>\n",
       "      <td>015 mins</td>\n",
       "    </tr>\n",
       "    <tr>\n",
       "      <th>26539</th>\n",
       "      <td>1</td>\n",
       "      <td>013 mins</td>\n",
       "    </tr>\n",
       "  </tbody>\n",
       "</table>\n",
       "<p>26540 rows × 2 columns</p>\n",
       "</div>"
      ],
      "text/plain": [
       "       frequency                ngram\n",
       "0             38             year old\n",
       "1             37          waste money\n",
       "2             32         poor quality\n",
       "3             21      would recommend\n",
       "4             12          worth money\n",
       "...          ...                  ...\n",
       "26535          1        10 advertised\n",
       "26536          1  03 megapixel simply\n",
       "26537          1         03 megapixel\n",
       "26538          1             015 mins\n",
       "26539          1             013 mins\n",
       "\n",
       "[26540 rows x 2 columns]"
      ]
     },
     "execution_count": 93,
     "metadata": {},
     "output_type": "execute_result"
    }
   ],
   "source": [
    "from sklearn.feature_extraction.text import CountVectorizer\n",
    "# Initialize CountVectorizer\n",
    "vec = CountVectorizer(stop_words = stop, ngram_range = (2, 3))\n",
    "# Matrix of ngrams\n",
    "bow_1 = vec.fit_transform(df_review_1[\"review_clean\"])\n",
    "# Count frequency of ngrams\n",
    "count_values_1 = bow_1.toarray().sum(axis=0)\n",
    "# Create DataFrame from ngram frequencies\n",
    "ngram_freq_1 = pd.DataFrame(sorted([(count_values_1[i], k) for k, i in vec.vocabulary_.items()], reverse = True))\n",
    "ngram_freq_1.columns = [\"frequency\", \"ngram\"]\n",
    "ngram_freq_1"
   ]
  },
  {
   "cell_type": "code",
   "execution_count": 94,
   "metadata": {},
   "outputs": [],
   "source": [
    "from sklearn.feature_extraction.text import CountVectorizer\n",
    "# Initialize CountVectorizer\n",
    "vec = CountVectorizer(stop_words = stop, ngram_range = (2, 2))\n",
    "# Matrix of ngrams\n",
    "bow_1 = vec.fit_transform(df_review_1[\"review_clean\"])\n",
    "# Count frequency of ngrams\n",
    "count_values_1 = bow_1.toarray().sum(axis=0)\n",
    "# Create DataFrame from ngram frequencies\n",
    "ngram_freq_1 = pd.DataFrame(sorted([(count_values_1[i], k) for k, i in vec.vocabulary_.items()], reverse = True))\n",
    "ngram_freq_1.columns = [\"frequency\", \"ngram\"]"
   ]
  },
  {
   "cell_type": "code",
   "execution_count": 95,
   "metadata": {},
   "outputs": [
    {
     "data": {
      "text/html": [
       "<div>\n",
       "<style scoped>\n",
       "    .dataframe tbody tr th:only-of-type {\n",
       "        vertical-align: middle;\n",
       "    }\n",
       "\n",
       "    .dataframe tbody tr th {\n",
       "        vertical-align: top;\n",
       "    }\n",
       "\n",
       "    .dataframe thead th {\n",
       "        text-align: right;\n",
       "    }\n",
       "</style>\n",
       "<table border=\"1\" class=\"dataframe\">\n",
       "  <thead>\n",
       "    <tr style=\"text-align: right;\">\n",
       "      <th></th>\n",
       "      <th>frequency</th>\n",
       "      <th>ngram</th>\n",
       "    </tr>\n",
       "  </thead>\n",
       "  <tbody>\n",
       "    <tr>\n",
       "      <th>0</th>\n",
       "      <td>1670</td>\n",
       "      <td>year old</td>\n",
       "    </tr>\n",
       "    <tr>\n",
       "      <th>1</th>\n",
       "      <td>1060</td>\n",
       "      <td>good quality</td>\n",
       "    </tr>\n",
       "    <tr>\n",
       "      <th>2</th>\n",
       "      <td>906</td>\n",
       "      <td>well made</td>\n",
       "    </tr>\n",
       "    <tr>\n",
       "      <th>3</th>\n",
       "      <td>610</td>\n",
       "      <td>value money</td>\n",
       "    </tr>\n",
       "    <tr>\n",
       "      <th>4</th>\n",
       "      <td>602</td>\n",
       "      <td>would recommend</td>\n",
       "    </tr>\n",
       "    <tr>\n",
       "      <th>...</th>\n",
       "      <td>...</td>\n",
       "      <td>...</td>\n",
       "    </tr>\n",
       "    <tr>\n",
       "      <th>233071</th>\n",
       "      <td>1</td>\n",
       "      <td>000 road</td>\n",
       "    </tr>\n",
       "    <tr>\n",
       "      <th>233072</th>\n",
       "      <td>1</td>\n",
       "      <td>00 wargaming</td>\n",
       "    </tr>\n",
       "    <tr>\n",
       "      <th>233073</th>\n",
       "      <td>1</td>\n",
       "      <td>00 track</td>\n",
       "    </tr>\n",
       "    <tr>\n",
       "      <th>233074</th>\n",
       "      <td>1</td>\n",
       "      <td>00 scale</td>\n",
       "    </tr>\n",
       "    <tr>\n",
       "      <th>233075</th>\n",
       "      <td>1</td>\n",
       "      <td>00 gauge</td>\n",
       "    </tr>\n",
       "  </tbody>\n",
       "</table>\n",
       "<p>233076 rows × 2 columns</p>\n",
       "</div>"
      ],
      "text/plain": [
       "        frequency            ngram\n",
       "0            1670         year old\n",
       "1            1060     good quality\n",
       "2             906        well made\n",
       "3             610      value money\n",
       "4             602  would recommend\n",
       "...           ...              ...\n",
       "233071          1         000 road\n",
       "233072          1     00 wargaming\n",
       "233073          1         00 track\n",
       "233074          1         00 scale\n",
       "233075          1         00 gauge\n",
       "\n",
       "[233076 rows x 2 columns]"
      ]
     },
     "execution_count": 95,
     "metadata": {},
     "output_type": "execute_result"
    }
   ],
   "source": [
    "from sklearn.feature_extraction.text import CountVectorizer\n",
    "# Initialize CountVectorizer\n",
    "vec = CountVectorizer(stop_words = stop, ngram_range = (2, 2))\n",
    "# Matrix of ngrams\n",
    "bow_5 = vec.fit_transform(df_review_5[\"review_clean\"])\n",
    "# Count frequency of ngrams\n",
    "count_values_5 = bow_5.toarray().sum(axis=0)\n",
    "# Create DataFrame from ngram frequencies\n",
    "ngram_freq_5 = pd.DataFrame(sorted([(count_values_5[i], k) for k, i in vec.vocabulary_.items()], reverse = True))\n",
    "ngram_freq_5.columns = [\"frequency\", \"ngram\"]"
   ]
  },
  {
   "cell_type": "code",
   "execution_count": null,
   "metadata": {},
   "outputs": [],
   "source": []
  }
 ],
 "metadata": {
  "kernelspec": {
   "display_name": "mlenv",
   "language": "python",
   "name": "python3"
  },
  "language_info": {
   "codemirror_mode": {
    "name": "ipython",
    "version": 3
   },
   "file_extension": ".py",
   "mimetype": "text/x-python",
   "name": "python",
   "nbconvert_exporter": "python",
   "pygments_lexer": "ipython3",
   "version": "3.9.12 (main, Jun  1 2022, 06:36:29) \n[Clang 12.0.0 ]"
  },
  "orig_nbformat": 4,
  "vscode": {
   "interpreter": {
    "hash": "435c0f9b4b989c95d3db1d180d9a21b950c99dfcb596bbd0bd4be048be3d8725"
   }
  }
 },
 "nbformat": 4,
 "nbformat_minor": 2
}
